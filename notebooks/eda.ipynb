{
 "cells": [
  {
   "attachments": {},
   "cell_type": "markdown",
   "metadata": {},
   "source": [
    "# Exploratory Data Analysis\n",
    "\n",
    "The data are analyzed for potential features, redundancy, and dispersion.\n",
    "\n",
    "## Extraction and Merging\n",
    "\n",
    "This notebook extracts the data and performs analysis to test for feature availability. The data are first converted into a dictionary structure so that all flat file components can be referenced separately. Then, the component frames are respectively merged into two flat files on the common key that unites the tables within each component group."
   ]
  },
  {
   "cell_type": "code",
   "execution_count": 1,
   "metadata": {},
   "outputs": [
    {
     "name": "stderr",
     "output_type": "stream",
     "text": [
      "INFO:root:Filepaths: ['../data/data/a__geo.csv', '../data/data/a__company.csv']\n",
      "INFO:root:Reading ../data/data/a__geo.csv into key a__geo\n",
      "INFO:root:Reading ../data/data/a__company.csv into key a__company\n",
      "INFO:root:Filepaths: ['../data/data/b__company.csv', '../data/data/b__hierarchy.csv', '../data/data/b__address.csv']\n",
      "INFO:root:Reading ../data/data/b__company.csv into key b__company\n",
      "INFO:root:Reading ../data/data/b__hierarchy.csv into key b__hierarchy\n",
      "INFO:root:Reading ../data/data/b__address.csv into key b__address\n",
      "/var/folders/vn/k48mm0r10wn2dfq08pnrlbtc0000gn/T/ipykernel_52162/1867531294.py:34: DtypeWarning: Columns (11,15) have mixed types. Specify dtype option on import or set low_memory=False.\n",
      "  file_d[fname_abbr] = pd.read_csv(f)\n",
      "INFO:root:Merging values of dict_keys(['a__geo', 'a__company'])\n",
      "INFO:root:Merging values of dict_keys(['b__company', 'b__hierarchy', 'b__address'])\n"
     ]
    }
   ],
   "source": [
    "import os\n",
    "import glob\n",
    "from typing import Dict, Union, List, Tuple\n",
    "import logging\n",
    "from functools import reduce\n",
    "from copy import deepcopy\n",
    "import pandas as pd\n",
    "import numpy as np\n",
    "import re, string\n",
    "from pandas.core.tools.datetimes import _guess_datetime_format_for_array\n",
    "\n",
    "# set logger level\n",
    "logging.basicConfig(level=logging.INFO)\n",
    "\n",
    "def data_into_dict(\n",
    "        filepath: Union[str, List], \n",
    ") -> Dict[str, pd.DataFrame]:   \n",
    "    \"\"\"Read data from paths into dictionary values\n",
    "    This is an example of Google style.\n",
    "\n",
    "    Args:\n",
    "        filepath (Union[str, List]) : string literal of list of strings pointing to files for io\n",
    "    Returns:\n",
    "        file_d: dictionary of files as dataframes, with key as filename abbreviation\n",
    "    \"\"\"\n",
    "    logging.info(f\"Filepaths: {filepath}\")\n",
    "    # create file dictionary\n",
    "    file_d = dict()\n",
    "    for f in filepath:\n",
    "        # get abbreviation for key\n",
    "        fname_abbr =  os.path.split(f)[1].split(\".\")[0]\n",
    "        logging.info(f\"Reading {f} into key {fname_abbr}\")\n",
    "        # read dataframe into value\n",
    "        file_d[fname_abbr] = pd.read_csv(f)\n",
    "    return file_d\n",
    "\n",
    "\n",
    "# read in data from dir\n",
    "data_path = \"../data/data/\"\n",
    "# group filenames by prefix\n",
    "a_files = data_into_dict(glob.glob(os.path.join(data_path, \"a__*\")))\n",
    "b_files = data_into_dict(glob.glob(os.path.join(data_path, \"b__*\")))\n",
    "\n",
    "# consolidate dataframe groups into merged structure \n",
    "def merge_all_frames(\n",
    "    frames: Dict, \n",
    "    on: str, \n",
    "    how: str, \n",
    "    rename_exclusions: List=[]\n",
    ") -> pd.DataFrame:\n",
    "    \"\"\"Merge all frames in list into single dataframe \n",
    "\n",
    "    Args:\n",
    "        frames (Dict) : dict of dfs with frame values to merge into single frame\n",
    "        on (str) : column to merge on \n",
    "        how (str) : merge type\n",
    "        rename (List) : list of columns to not rename\n",
    "    Returns:\n",
    "        frame_merged (pd.DataFrame): merged dataframe\n",
    "    \"\"\"\n",
    "    frames = deepcopy(frames)\n",
    "    # append df key names to columns to resolve conflicts in col names\n",
    "    for frame in frames.items(): \n",
    "        frames[frame[0]] = frame[1].rename({col:f\"{col}_{frame[0]}\" \\\n",
    "            for col in frame[1] if (col!=on) and (col not in rename_exclusions)}, axis=1)\n",
    "\n",
    "    # merge frames and set key value as conflicting column suffixes\n",
    "    logging.info(f\"Merging values of {frames.keys()}\")\n",
    "    frame_merged = reduce(\n",
    "                lambda  left,right: pd.merge(left,right,on=[on],how=how), frames.values()\n",
    "            )\n",
    "        \n",
    "    return frame_merged\n",
    "\n",
    "a_frame = merge_all_frames(a_files, on=\"geo_id\", how='outer', rename_exclusions=['vendor_id'])\n",
    "b_frame = merge_all_frames(b_files, on=\"b_entity_id\", how='outer')\n",
    "\n",
    "a_frame = a_frame.set_index(\"vendor_id\").reset_index()\n",
    "b_frame = b_frame.set_index(\"b_entity_id\").reset_index()"
   ]
  },
  {
   "cell_type": "code",
   "execution_count": 3,
   "metadata": {},
   "outputs": [
    {
     "name": "stderr",
     "output_type": "stream",
     "text": [
      "INFO:root:Pointing to column in position 0\n",
      "INFO:root:Column vendor_id excluded.\n",
      "INFO:root:Pointing to column in position 1\n",
      "INFO:root:Working compression on column geo_id\n",
      "INFO:root:Numeric proportion for geo_id: 1.0\n",
      "INFO:root:Converted column geo_id into Int64 type.\n",
      "INFO:root:Pointing to column in position 2\n",
      "INFO:root:Working compression on column zipcode_a__geo\n",
      "INFO:root:Numeric proportion for zipcode_a__geo: 0.9727074016884913\n",
      "INFO:root:Converted column zipcode_a__geo into Int64 type.\n",
      "INFO:root:Pointing to column in position 3\n",
      "INFO:root:Working compression on column is_primary_a__geo\n",
      "INFO:root:Numeric proportion for is_primary_a__geo: 0\n",
      "INFO:root:Converted column is_primary_a__geo into string type.\n",
      "INFO:root:Pointing to column in position 4\n",
      "INFO:root:Working compression on column latitude_a__geo\n",
      "INFO:root:Numeric proportion for latitude_a__geo: 0.9878210806023029\n",
      "INFO:root:Converted column latitude_a__geo into float type.\n",
      "INFO:root:Pointing to column in position 5\n",
      "INFO:root:Working compression on column longitude_a__geo\n",
      "INFO:root:Numeric proportion for longitude_a__geo: 0.9878210806023029\n",
      "INFO:root:Converted column longitude_a__geo into float type.\n",
      "INFO:root:Pointing to column in position 6\n",
      "INFO:root:Working compression on column elevation_a__geo\n",
      "INFO:root:Numeric proportion for elevation_a__geo: 1.0\n",
      "INFO:root:Converted column elevation_a__geo into Int64 type.\n",
      "INFO:root:Pointing to column in position 7\n",
      "INFO:root:Working compression on column state_a__geo\n",
      "INFO:root:Numeric proportion for state_a__geo: 0\n",
      "INFO:root:Converted column state_a__geo into string type.\n",
      "INFO:root:Pointing to column in position 8\n",
      "INFO:root:Working compression on column state_full_name_a__geo\n",
      "INFO:root:Numeric proportion for state_full_name_a__geo: 0\n",
      "INFO:root:Converted column state_full_name_a__geo into string type.\n",
      "INFO:root:Pointing to column in position 9\n",
      "INFO:root:Working compression on column area_code_a__geo\n",
      "INFO:root:Numeric proportion for area_code_a__geo: 0.6657943473709639\n",
      "INFO:root:Converted column area_code_a__geo into Int64 type.\n",
      "INFO:root:Pointing to column in position 10\n",
      "INFO:root:Working compression on column city_a__geo\n",
      "INFO:root:Numeric proportion for city_a__geo: 0\n",
      "INFO:root:Converted column city_a__geo into string type.\n",
      "INFO:root:Pointing to column in position 11\n",
      "INFO:root:Working compression on column city_display_a__geo\n",
      "INFO:root:Numeric proportion for city_display_a__geo: 0\n",
      "INFO:root:Converted column city_display_a__geo into string type.\n",
      "INFO:root:Pointing to column in position 12\n",
      "INFO:root:Working compression on column county_a__geo\n",
      "INFO:root:Numeric proportion for county_a__geo: 0\n",
      "INFO:root:Converted column county_a__geo into string type.\n",
      "INFO:root:Pointing to column in position 13\n",
      "INFO:root:Working compression on column county_fips_a__geo\n",
      "INFO:root:Numeric proportion for county_fips_a__geo: 0.9874761944191438\n",
      "INFO:root:Converted column county_fips_a__geo into Int64 type.\n",
      "INFO:root:Pointing to column in position 14\n",
      "INFO:root:Working compression on column state_fips_a__geo\n",
      "INFO:root:Numeric proportion for state_fips_a__geo: 0.9604179669411504\n",
      "INFO:root:Converted column state_fips_a__geo into Int64 type.\n",
      "INFO:root:Pointing to column in position 15\n",
      "INFO:root:Working compression on column timezone_a__geo\n",
      "INFO:root:Numeric proportion for timezone_a__geo: 1.0\n",
      "INFO:root:Converted column timezone_a__geo into Int64 type.\n",
      "INFO:root:Pointing to column in position 16\n",
      "INFO:root:Working compression on column daylight_saving_a__geo\n",
      "INFO:root:Numeric proportion for daylight_saving_a__geo: 0\n",
      "INFO:root:Converted column daylight_saving_a__geo into string type.\n",
      "INFO:root:Pointing to column in position 17\n",
      "INFO:root:Working compression on column region_a__geo\n",
      "INFO:root:Numeric proportion for region_a__geo: 0\n",
      "INFO:root:Converted column region_a__geo into string type.\n",
      "INFO:root:Pointing to column in position 18\n",
      "INFO:root:Working compression on column division_a__geo\n",
      "INFO:root:Numeric proportion for division_a__geo: 0\n",
      "INFO:root:Converted column division_a__geo into string type.\n",
      "INFO:root:Pointing to column in position 19\n",
      "INFO:root:Working compression on column congress_district_a__geo\n",
      "INFO:root:Numeric proportion for congress_district_a__geo: 0.6447187634177759\n",
      "INFO:root:Converted column congress_district_a__geo into Int64 type.\n",
      "INFO:root:Pointing to column in position 20\n",
      "INFO:root:Working compression on column congress_land_area_a__geo\n",
      "INFO:root:Numeric proportion for congress_land_area_a__geo: 0.6447187634177759\n",
      "INFO:root:Converted column congress_land_area_a__geo into float type.\n",
      "INFO:root:Pointing to column in position 21\n",
      "INFO:root:Working compression on column country_a__geo\n",
      "INFO:root:Numeric proportion for country_a__geo: 0\n",
      "INFO:root:Converted column country_a__geo into string type.\n",
      "INFO:root:Pointing to column in position 22\n",
      "INFO:root:Working compression on column continent_a__geo\n",
      "INFO:root:Numeric proportion for continent_a__geo: 0\n",
      "INFO:root:Converted column continent_a__geo into string type.\n",
      "INFO:root:Pointing to column in position 23\n",
      "INFO:root:Working compression on column country_iso2_a__geo\n",
      "INFO:root:Numeric proportion for country_iso2_a__geo: 0\n",
      "INFO:root:Converted column country_iso2_a__geo into string type.\n",
      "INFO:root:Pointing to column in position 24\n",
      "INFO:root:Working compression on column parent_vendor_id_a__company\n",
      "INFO:root:Numeric proportion for parent_vendor_id_a__company: 1.0\n",
      "INFO:root:Converted column parent_vendor_id_a__company into Int64 type.\n",
      "INFO:root:Pointing to column in position 25\n",
      "INFO:root:Working compression on column top_vendor_id_a__company\n",
      "INFO:root:Numeric proportion for top_vendor_id_a__company: 1.0\n",
      "INFO:root:Converted column top_vendor_id_a__company into Int64 type.\n",
      "INFO:root:Pointing to column in position 26\n",
      "INFO:root:Working compression on column cnt_children_a__company\n",
      "INFO:root:Numeric proportion for cnt_children_a__company: 1.0\n",
      "INFO:root:Converted column cnt_children_a__company into Int64 type.\n",
      "INFO:root:Pointing to column in position 27\n",
      "INFO:root:Working compression on column orgtype_id_a__company\n",
      "INFO:root:Numeric proportion for orgtype_id_a__company: 1.0\n",
      "INFO:root:Converted column orgtype_id_a__company into Int64 type.\n",
      "INFO:root:Pointing to column in position 28\n",
      "INFO:root:Working compression on column name_a__company\n",
      "INFO:root:Numeric proportion for name_a__company: 0\n",
      "INFO:root:Converted column name_a__company into string type.\n",
      "INFO:root:Pointing to column in position 29\n",
      "INFO:root:Working compression on column email_a__company\n",
      "INFO:root:Numeric proportion for email_a__company: 0\n",
      "INFO:root:Converted column email_a__company into string type.\n",
      "INFO:root:Pointing to column in position 30\n",
      "INFO:root:Working compression on column phone_a__company\n",
      "INFO:root:Numeric proportion for phone_a__company: 0.8870022539444027\n",
      "INFO:root:Converted column phone_a__company into float type.\n",
      "INFO:root:Pointing to column in position 31\n",
      "INFO:root:Working compression on column fax_a__company\n",
      "INFO:root:Numeric proportion for fax_a__company: 0\n",
      "INFO:root:Converted column fax_a__company into string type.\n",
      "INFO:root:Pointing to column in position 32\n",
      "INFO:root:Working compression on column dunsnumber_a__company\n",
      "INFO:root:Numeric proportion for dunsnumber_a__company: 0.9999638793570526\n",
      "INFO:root:Converted column dunsnumber_a__company into Int64 type.\n",
      "INFO:root:Pointing to column in position 33\n",
      "INFO:root:Working compression on column websiteurl_a__company\n",
      "INFO:root:Numeric proportion for websiteurl_a__company: 0\n",
      "INFO:root:Converted column websiteurl_a__company into string type.\n",
      "INFO:root:Pointing to column in position 34\n",
      "INFO:root:Working compression on column address_a__company\n",
      "INFO:root:Numeric proportion for address_a__company: 0\n",
      "INFO:root:Converted column address_a__company into string type.\n",
      "INFO:root:Pointing to column in position 35\n",
      "INFO:root:Working compression on column address1_a__company\n",
      "INFO:root:Numeric proportion for address1_a__company: 0.0010363933511380397\n",
      "INFO:root:Converted column address1_a__company into string type.\n",
      "INFO:root:Pointing to column in position 36\n",
      "INFO:root:Working compression on column address2_a__company\n",
      "INFO:root:Numeric proportion for address2_a__company: 0.017421602787456445\n",
      "INFO:root:Converted column address2_a__company into string type.\n",
      "INFO:root:Pointing to column in position 37\n",
      "INFO:root:Working compression on column country_a__company\n",
      "INFO:root:Numeric proportion for country_a__company: 0\n",
      "INFO:root:Converted column country_a__company into string type.\n",
      "INFO:root:Pointing to column in position 38\n",
      "INFO:root:Working compression on column zipcode_a__company\n",
      "INFO:root:Numeric proportion for zipcode_a__company: 0.9738354386801197\n",
      "INFO:root:Converted column zipcode_a__company into Int64 type.\n",
      "INFO:root:Pointing to column in position 39\n",
      "INFO:root:Working compression on column parentdunsnumber_a__company\n",
      "INFO:root:Numeric proportion for parentdunsnumber_a__company: 1.0\n",
      "INFO:root:Converted column parentdunsnumber_a__company into Int64 type.\n",
      "INFO:root:Pointing to column in position 40\n",
      "INFO:root:Working compression on column score_a__company\n",
      "INFO:root:Numeric proportion for score_a__company: 1.0\n",
      "INFO:root:Converted column score_a__company into Int64 type.\n",
      "INFO:root:Pointing to column in position 41\n",
      "INFO:root:Working compression on column cnt_opp_a__company\n",
      "INFO:root:Numeric proportion for cnt_opp_a__company: 1.0\n",
      "INFO:root:Converted column cnt_opp_a__company into Int64 type.\n",
      "INFO:root:Pointing to column in position 42\n",
      "INFO:root:Working compression on column bucket_id_a__company\n",
      "INFO:root:Numeric proportion for bucket_id_a__company: 1.0\n",
      "INFO:root:Converted column bucket_id_a__company into Int64 type.\n",
      "INFO:root:Pointing to column in position 43\n",
      "INFO:root:Working compression on column load_date_a__company\n",
      "INFO:root:Numeric proportion for load_date_a__company: 0\n",
      "INFO:root:Converted column load_date_a__company into string type.\n",
      "INFO:root:Pointing to column in position 44\n",
      "INFO:root:Working compression on column lvl_a__company\n",
      "INFO:root:Numeric proportion for lvl_a__company: 1.0\n",
      "INFO:root:Converted column lvl_a__company into Int64 type.\n",
      "INFO:root:Pointing to column in position 0\n",
      "INFO:root:Column b_entity_id excluded.\n",
      "INFO:root:Pointing to column in position 1\n",
      "INFO:root:Working compression on column entity_name_b__company\n",
      "INFO:root:Numeric proportion for entity_name_b__company: 0\n",
      "INFO:root:Converted column entity_name_b__company into string type.\n",
      "INFO:root:Pointing to column in position 2\n",
      "INFO:root:Working compression on column entity_proper_name_b__company\n",
      "INFO:root:Numeric proportion for entity_proper_name_b__company: 5.607424229680097e-06\n",
      "INFO:root:Converted column entity_proper_name_b__company into string type.\n",
      "INFO:root:Pointing to column in position 3\n",
      "INFO:root:Working compression on column primary_sic_code_b__company\n",
      "INFO:root:Numeric proportion for primary_sic_code_b__company: 1.0\n",
      "INFO:root:Converted column primary_sic_code_b__company into Int64 type.\n",
      "INFO:root:Pointing to column in position 4\n",
      "INFO:root:Working compression on column industry_code_b__company\n",
      "INFO:root:Numeric proportion for industry_code_b__company: 1.0\n",
      "INFO:root:Converted column industry_code_b__company into Int64 type.\n",
      "INFO:root:Pointing to column in position 5\n",
      "INFO:root:Working compression on column sector_code_b__company\n",
      "INFO:root:Numeric proportion for sector_code_b__company: 1.0\n",
      "INFO:root:Converted column sector_code_b__company into Int64 type.\n",
      "INFO:root:Pointing to column in position 6\n",
      "INFO:root:Working compression on column iso_country_b__company\n",
      "INFO:root:Numeric proportion for iso_country_b__company: 0.00013199242566541952\n",
      "INFO:root:Converted column iso_country_b__company into string type.\n",
      "INFO:root:Pointing to column in position 7\n",
      "INFO:root:Working compression on column metro_area_b__company\n",
      "INFO:root:Numeric proportion for metro_area_b__company: 0\n",
      "INFO:root:Converted column metro_area_b__company into string type.\n",
      "INFO:root:Pointing to column in position 8\n",
      "INFO:root:Working compression on column state_province_b__company\n",
      "INFO:root:Numeric proportion for state_province_b__company: 0\n",
      "INFO:root:Converted column state_province_b__company into string type.\n",
      "INFO:root:Pointing to column in position 9\n",
      "INFO:root:Working compression on column zip_postal_code_b__company\n",
      "INFO:root:Numeric proportion for zip_postal_code_b__company: 0.6880184584958523\n",
      "INFO:root:Converted column zip_postal_code_b__company into float type.\n",
      "INFO:root:Pointing to column in position 10\n",
      "INFO:root:Working compression on column web_site_b__company\n",
      "INFO:root:Numeric proportion for web_site_b__company: 0\n",
      "INFO:root:Converted column web_site_b__company into string type.\n",
      "INFO:root:Pointing to column in position 11\n",
      "INFO:root:Working compression on column entity_type_b__company\n",
      "INFO:root:Numeric proportion for entity_type_b__company: 0\n",
      "INFO:root:Converted column entity_type_b__company into string type.\n",
      "INFO:root:Pointing to column in position 12\n",
      "INFO:root:Working compression on column entity_sub_type_b__company\n",
      "INFO:root:Numeric proportion for entity_sub_type_b__company: 0\n",
      "INFO:root:Converted column entity_sub_type_b__company into string type.\n",
      "INFO:root:Pointing to column in position 13\n",
      "INFO:root:Working compression on column year_founded_b__company\n",
      "INFO:root:Numeric proportion for year_founded_b__company: 1.0\n",
      "INFO:root:Converted column year_founded_b__company into Int64 type.\n",
      "INFO:root:Pointing to column in position 14\n",
      "INFO:root:Working compression on column iso_country_incorp_b__company\n",
      "INFO:root:Numeric proportion for iso_country_incorp_b__company: 0.00013199242566541952\n",
      "INFO:root:Converted column iso_country_incorp_b__company into string type.\n",
      "INFO:root:Pointing to column in position 15\n",
      "INFO:root:Working compression on column iso_country_cor_b__company\n",
      "INFO:root:Numeric proportion for iso_country_cor_b__company: 0\n",
      "INFO:root:Converted column iso_country_cor_b__company into string type.\n",
      "INFO:root:Pointing to column in position 16\n",
      "INFO:root:Working compression on column nace_code_b__company\n",
      "INFO:root:Numeric proportion for nace_code_b__company: 1.0\n",
      "INFO:root:Converted column nace_code_b__company into float type.\n",
      "INFO:root:Pointing to column in position 17\n",
      "INFO:root:Working compression on column b_parent_entity_id_b__hierarchy\n",
      "INFO:root:Numeric proportion for b_parent_entity_id_b__hierarchy: 0\n",
      "INFO:root:Converted column b_parent_entity_id_b__hierarchy into string type.\n",
      "INFO:root:Pointing to column in position 18\n",
      "INFO:root:Working compression on column b_ultimate_parent_entity_id_b__hierarchy\n",
      "INFO:root:Numeric proportion for b_ultimate_parent_entity_id_b__hierarchy: 0\n",
      "INFO:root:Converted column b_ultimate_parent_entity_id_b__hierarchy into string type.\n",
      "INFO:root:Pointing to column in position 19\n",
      "INFO:root:Working compression on column address_id_b__address\n",
      "INFO:root:Numeric proportion for address_id_b__address: 1.0\n",
      "INFO:root:Converted column address_id_b__address into Int64 type.\n",
      "INFO:root:Pointing to column in position 20\n",
      "INFO:root:Working compression on column location_city_b__address\n",
      "INFO:root:Numeric proportion for location_city_b__address: 0.00013200274565710967\n",
      "INFO:root:Converted column location_city_b__address into string type.\n",
      "INFO:root:Pointing to column in position 21\n",
      "INFO:root:Working compression on column state_province_b__address\n",
      "INFO:root:Numeric proportion for state_province_b__address: 0\n",
      "INFO:root:Converted column state_province_b__address into string type.\n",
      "INFO:root:Pointing to column in position 22\n",
      "INFO:root:Working compression on column location_postal_code_b__address\n",
      "INFO:root:Numeric proportion for location_postal_code_b__address: 0.6858968721601736\n",
      "INFO:root:Converted column location_postal_code_b__address into float type.\n",
      "INFO:root:Pointing to column in position 23\n",
      "INFO:root:Working compression on column city_state_zip_b__address\n",
      "INFO:root:Numeric proportion for city_state_zip_b__address: 0\n",
      "INFO:root:Converted column city_state_zip_b__address into string type.\n",
      "INFO:root:Pointing to column in position 24\n",
      "INFO:root:Working compression on column location_street1_b__address\n",
      "INFO:root:Numeric proportion for location_street1_b__address: 0.0001912158385549966\n",
      "INFO:root:Converted column location_street1_b__address into string type.\n",
      "INFO:root:Pointing to column in position 25\n",
      "INFO:root:Working compression on column location_street2_b__address\n",
      "INFO:root:Numeric proportion for location_street2_b__address: 0.001052225456841219\n",
      "INFO:root:Converted column location_street2_b__address into string type.\n",
      "INFO:root:Pointing to column in position 26\n",
      "INFO:root:Working compression on column location_street3_b__address\n",
      "INFO:root:Numeric proportion for location_street3_b__address: 0.0003312355084465055\n",
      "INFO:root:Converted column location_street3_b__address into string type.\n",
      "INFO:root:Pointing to column in position 27\n",
      "INFO:root:Working compression on column iso_country_b__address\n",
      "INFO:root:Numeric proportion for iso_country_b__address: 0\n",
      "INFO:root:Converted column iso_country_b__address into string type.\n",
      "INFO:root:Pointing to column in position 28\n",
      "INFO:root:Working compression on column tele_country_b__address\n",
      "INFO:root:Numeric proportion for tele_country_b__address: 1.0\n",
      "INFO:root:Converted column tele_country_b__address into Int64 type.\n",
      "INFO:root:Pointing to column in position 29\n",
      "INFO:root:Working compression on column tele_area_b__address\n",
      "INFO:root:Numeric proportion for tele_area_b__address: 0.9998992646318122\n",
      "INFO:root:Converted column tele_area_b__address into Int64 type.\n",
      "INFO:root:Pointing to column in position 30\n",
      "INFO:root:Working compression on column tele_b__address\n",
      "INFO:root:Numeric proportion for tele_b__address: 0.8366980816150792\n",
      "INFO:root:Converted column tele_b__address into float type.\n",
      "INFO:root:Pointing to column in position 31\n",
      "INFO:root:Working compression on column tele_full_b__address\n",
      "INFO:root:Numeric proportion for tele_full_b__address: 0.0017222408266755968\n",
      "INFO:root:Converted column tele_full_b__address into string type.\n",
      "INFO:root:Pointing to column in position 32\n",
      "INFO:root:Working compression on column fax_country_b__address\n",
      "INFO:root:Numeric proportion for fax_country_b__address: 1.0\n",
      "INFO:root:Converted column fax_country_b__address into Int64 type.\n",
      "INFO:root:Pointing to column in position 33\n",
      "INFO:root:Working compression on column fax_area_b__address\n",
      "INFO:root:Numeric proportion for fax_area_b__address: 0.9998856946905184\n",
      "INFO:root:Converted column fax_area_b__address into Int64 type.\n",
      "INFO:root:Pointing to column in position 34\n",
      "INFO:root:Working compression on column fax_b__address\n",
      "INFO:root:Numeric proportion for fax_b__address: 0.8365514839608404\n",
      "INFO:root:Converted column fax_b__address into float type.\n",
      "INFO:root:Pointing to column in position 35\n",
      "INFO:root:Working compression on column fax_full_b__address\n",
      "INFO:root:Numeric proportion for fax_full_b__address: 0.002089540688000619\n",
      "INFO:root:Converted column fax_full_b__address into string type.\n",
      "INFO:root:Pointing to column in position 36\n",
      "INFO:root:Working compression on column hq_b__address\n",
      "INFO:root:Numeric proportion for hq_b__address: 1.0\n",
      "INFO:root:Converted column hq_b__address into Int64 type.\n"
     ]
    }
   ],
   "source": [
    "# import DisparateDataset class\n",
    "import sys\n",
    "if \"../src/\" not in sys.path:\n",
    "    sys.path.append(\"../src/\")\n",
    "from main import DisparateDataset as DispD\n",
    "\n",
    "# conduct type compression from dataloader class for cleaning\n",
    "a_comp = DispD.run_type_compression(frame=a_frame, column_exclusions=['vendor_id'])\n",
    "b_comp = DispD.run_type_compression(frame=b_frame, column_exclusions=['b_entity_id'])\n",
    "a_comp.to_csv(\"../data/artifacts/a_comp.csv\", index=False)\n",
    "b_comp.to_csv(\"../data/artifacts/b_comp.csv\", index=False)"
   ]
  },
  {
   "cell_type": "code",
   "execution_count": 4,
   "metadata": {},
   "outputs": [
    {
     "name": "stderr",
     "output_type": "stream",
     "text": [
      "INFO:root:a_frame shape: (76344, 45)\n",
      "INFO:root:a_comp shape: (76344, 45)\n",
      "INFO:root:b_frame shape: (200239, 37)\n",
      "INFO:root:b_comp shape: (200239, 37)\n"
     ]
    }
   ],
   "source": [
    "logging.info(f\"a_frame shape: {a_frame.shape}\")\n",
    "logging.info(f\"a_comp shape: {a_comp.shape}\")\n",
    "logging.info(f\"b_frame shape: {b_frame.shape}\")\n",
    "logging.info(f\"b_comp shape: {b_comp.shape}\")"
   ]
  },
  {
   "attachments": {},
   "cell_type": "markdown",
   "metadata": {},
   "source": [
    "## Clustering and Analysis\n",
    "\n",
    "The data are fit in an unsupervised manner. The datasets are tested for similarity by clustering around an arbitrary number of centroids. Finally, the elbow for each SSE curve is found using a knee locator. The elbows are found to be at approximately ~0.5 SSE and is fit at 3 centroids for both distributions."
   ]
  },
  {
   "cell_type": "code",
   "execution_count": 28,
   "metadata": {},
   "outputs": [
    {
     "data": {
      "image/png": "[encoded data removed]",
      "text/plain": [
       "<Figure size 640x480 with 1 Axes>"
      ]
     },
     "metadata": {},
     "output_type": "display_data"
    },
    {
     "data": {
      "image/png": "[encoded data removed]",
      "text/plain": [
       "<Figure size 640x480 with 1 Axes>"
      ]
     },
     "metadata": {},
     "output_type": "display_data"
    },
    {
     "name": "stderr",
     "output_type": "stream",
     "text": [
      "INFO:root:Elbow for dataset 'a': 3\n",
      "INFO:root:Elbow for dataset 'b': 3\n"
     ]
    }
   ],
   "source": [
    "from kneed import KneeLocator\n",
    "from sklearn.datasets import make_blobs\n",
    "from sklearn.cluster import KMeans\n",
    "import matplotlib.pyplot as plt\n",
    "\n",
    "def centroid_analysis(\n",
    "    frame: pd.DataFrame,\n",
    "    index: str, \n",
    "    kmeans_parameters: Dict[str, Union[int, str]], \n",
    "    kmeans_iter: int, \n",
    "    visualize: bool=False, \n",
    "    **kwargs\n",
    ") -> int:\n",
    "    \"\"\"Find optimal number of centroids through recommended evaluation metric\n",
    "\n",
    "    Function that find the optimal number of centroids in a dataset. Used to evaluate unlabeled datasets for \n",
    "    similarity metrics. \n",
    "\n",
    "    Args:   \n",
    "        frame (pd.DataFrame) : frame used to find centroids\n",
    "        index (str) : primary index of frame\n",
    "        kmeans_parameters (Dict[str, Union[int, str]]) : kmeans values used as parameters\n",
    "        kmeans_iter (int) : number of iterations to run on kmeans cluster\n",
    "        eval_method (int) : method of evaluation \n",
    "        visualize (bool) : visualization preference for elbow analysis\n",
    "    Returns: \n",
    "        n_centroids (int) : number of centroids that are considered optimal\n",
    "    \"\"\"\n",
    "\n",
    "    comp_num = frame[[col for col, datatype in frame.dtypes.to_dict().items() if (datatype != np.dtype('O'))or (col==index)]]\n",
    "    # check primary index for all unique values\n",
    "    if comp_num.index.value_counts().max()==1: \n",
    "        # fill NA with null class flag 0\n",
    "        comp_dropna = comp_num.set_index(index).fillna(0)\n",
    "        col_map = comp_dropna.columns.to_numpy()\n",
    "        comp_vals = comp_dropna.values.astype('float')\n",
    "    # if non-unique primary index, consolidate based upon append-only insert on schema\n",
    "    else:\n",
    "        # get last index for each group\n",
    "        max_index_per_entity = comp_num.reset_index().groupby(index)['index'].max()\n",
    "        # fill NA with null class flag 0\n",
    "        comp_dropna = comp_num.iloc[list(max_index_per_entity.values)].set_index(index).fillna(0)\n",
    "        col_map = comp_dropna.columns.to_numpy()\n",
    "        comp_vals = comp_dropna.values.astype('float')\n",
    "    # start inertia compilation\n",
    "    inertia_values = list()\n",
    "    for i in range(1,kmeans_iter):\n",
    "        km = KMeans(n_clusters=i, **kmeans_parameters)\n",
    "        # fit data to numpy data\n",
    "        km.fit(comp_vals)\n",
    "        inertia_values.append(km.inertia_)\n",
    "    if visualize:\n",
    "        plt.xticks(range(1, kmeans_iter))\n",
    "        plt.plot(range(1, kmeans_iter), inertia_values)\n",
    "        plt.xlabel(\"N-Centroid\")\n",
    "        plt.ylabel(\"SSE\")\n",
    "        if (\"plot_title\" in kwargs.keys()):\n",
    "            plt.title(kwargs.get(\"plot_title\"))\n",
    "        plt.show()\n",
    "    # return elbow from method\n",
    "    knee = KneeLocator(\n",
    "        range(1, kmeans_iter), \n",
    "        inertia_values, \n",
    "        curve=\"convex\",\n",
    "        direction=\"decreasing\"\n",
    "    )\n",
    "    elbow = knee.elbow\n",
    "    return elbow, comp_vals, col_map\n",
    "\n",
    "a_elbow, a_comp_vals, a_col_map = centroid_analysis(\n",
    "    frame=a_comp, \n",
    "    index='vendor_id', \n",
    "    kmeans_parameters={\n",
    "        \"init\": \"random\",\n",
    "        \"n_init\": 10,\n",
    "        \"max_iter\": 500,\n",
    "        \"random_state\": 0,\n",
    "    }, \n",
    "    kmeans_iter=16, \n",
    "    visualize=True, \n",
    "    plot_title=\"SSE Elbow for Dataset 'a'\"\n",
    ")\n",
    "b_elbow, b_comp_vals, b_col_map = centroid_analysis(\n",
    "    frame=b_comp, \n",
    "    index='b_entity_id', \n",
    "    kmeans_parameters={\n",
    "        \"init\": \"random\",\n",
    "        \"n_init\": 10,\n",
    "        \"max_iter\": 500,\n",
    "        \"random_state\": 0,\n",
    "    }, \n",
    "    kmeans_iter=16,\n",
    "    visualize=True,\n",
    "    plot_title=\"SSE Elbow for Dataset 'b'\"\n",
    ")\n",
    "\n",
    "logging.info(f\"Elbow for dataset 'a': {a_elbow}\")\n",
    "logging.info(f\"Elbow for dataset 'b': {b_elbow}\")"
   ]
  },
  {
   "attachments": {},
   "cell_type": "markdown",
   "metadata": {},
   "source": [
    "## Normalized Correlation Analysis\n",
    "\n",
    "Normalized information for all columns is analyzed within each dataset."
   ]
  },
  {
   "cell_type": "code",
   "execution_count": 29,
   "metadata": {},
   "outputs": [
    {
     "name": "stderr",
     "output_type": "stream",
     "text": [
      "INFO:root:shape of normalized array (76344, 22)\n",
      "INFO:root:shape of normalized array (200239, 15)\n"
     ]
    },
    {
     "data": {
      "application/vnd.plotly.v1+json": {
       "config": {
        "plotlyServerURL": "https://plot.ly"
       },
       "data": [
        {
         "coloraxis": "coloraxis",
         "hovertemplate": "x: %{x}<br>y: %{y}<br>color: %{z}<extra></extra>",
         "name": "0",
         "type": "heatmap",
         "x": [
          "geo_id",
          "zipcode_a__geo",
          "latitude_a__geo",
          "longitude_a__geo",
          "elevation_a__geo",
          "area_code_a__geo",
          "county_fips_a__geo",
          "state_fips_a__geo",
          "timezone_a__geo",
          "congress_district_a__geo",
          "congress_land_area_a__geo",
          "parent_vendor_id_a__company",
          "top_vendor_id_a__company",
          "cnt_children_a__company",
          "orgtype_id_a__company",
          "phone_a__company",
          "dunsnumber_a__company",
          "zipcode_a__company",
          "parentdunsnumber_a__company",
          "score_a__company",
          "bucket_id_a__company",
          "lvl_a__company"
         ],
         "xaxis": "x",
         "y": [
          "geo_id",
          "zipcode_a__geo",
          "latitude_a__geo",
          "longitude_a__geo",
          "elevation_a__geo",
          "area_code_a__geo",
          "county_fips_a__geo",
          "state_fips_a__geo",
          "timezone_a__geo",
          "congress_district_a__geo",
          "congress_land_area_a__geo",
          "parent_vendor_id_a__company",
          "top_vendor_id_a__company",
          "cnt_children_a__company",
          "orgtype_id_a__company",
          "phone_a__company",
          "dunsnumber_a__company",
          "zipcode_a__company",
          "parentdunsnumber_a__company",
          "score_a__company",
          "bucket_id_a__company",
          "lvl_a__company"
         ],
         "yaxis": "y",
         "z": [
          [
           1,
           -0.1907343062131962,
           -0.21345771393188676,
           0.24842507468866537,
           -0.11343722749817012,
           -0.29578104787846476,
           -0.21172017541205457,
           -0.3852763445576712,
           -0.4263179165034857,
           -0.13994266447631531,
           -0.027910838731431742,
           -0.05111384574103542,
           0.17828651870059145,
           -0.017058959320383014,
           -0.20752997401888837,
           -0.004285023013107027,
           -0.004466235944188138,
           0.003110400831715681,
           -0.1371560778150734,
           0.021537599739831822,
           -0.0006694531191400058,
           -0.07724819795863144
          ],
          [
           -0.1907343062131962,
           1,
           0.5131969330184007,
           -0.6812813820155446,
           0.374599154346328,
           0.3439498853110784,
           0.22001988813623893,
           0.32342736008678136,
           0.7047045032923569,
           0.16131663561034126,
           0.17884012857747006,
           0.019105107531239635,
           -0.3099782659386161,
           0.010415280251525763,
           0.2528856151469621,
           0.0036618105781284216,
           0.0037246147244669116,
           -0.003481433024186871,
           0.1552435231700355,
           0.07354075082144644,
           -0.004002080255150203,
           0.04626520630548834
          ],
          [
           -0.21345771393188673,
           0.5131969330184007,
           1,
           -0.9240622369008953,
           0.35655838647956273,
           0.5405490039375477,
           0.35502151546127053,
           0.6928282867056218,
           0.8746432064283188,
           0.23796768589181552,
           0.18535004872747501,
           0.05620289345864427,
           -0.47498429853428153,
           0.027415303368096597,
           0.3791164942643995,
           0.004650977330493701,
           0.005110768866288112,
           -0.011381725598733773,
           0.23613850248171828,
           0.11103846140956858,
           -0.004010703932832809,
           0.10692859212404962
          ],
          [
           0.24842507468866537,
           -0.6812813820155446,
           -0.9240622369008954,
           1,
           -0.40651941467231106,
           -0.5555558085174813,
           -0.35635253908090253,
           -0.6054649419833606,
           -0.953815448848472,
           -0.2622471824227595,
           -0.19677448697353558,
           -0.053606989713864996,
           0.473703895299982,
           -0.02437164154498081,
           -0.38756722764190393,
           -0.0052789687522527134,
           -0.005506499157164516,
           0.01015081974639882,
           -0.2411654842291434,
           -0.10262274649849812,
           0.004176812333451261,
           -0.10227490363954486
          ],
          [
           -0.11343722749817012,
           0.374599154346328,
           0.35655838647956273,
           -0.40651941467231106,
           1,
           0.25330609755380185,
           0.05688738473834224,
           0.2449992240978192,
           0.40462661920330834,
           -0.018114024131531233,
           0.11673089049999448,
           0.01811214723326619,
           -0.17679682322433898,
           0.006444997882357306,
           0.18341149898884498,
           0.0034109856771342593,
           0.003323252470198003,
           -0.0029898129081321273,
           0.11660830257824116,
           0.04764367913502044,
           -0.00128889255279488,
           0.02891391925620723
          ],
          [
           -0.29578104787846476,
           0.34394988531107845,
           0.5405490039375477,
           -0.5555558085174813,
           0.25330609755380185,
           1,
           0.3131042949879406,
           0.4864632987116074,
           0.571404956000535,
           0.12961358095153253,
           0.1874520815604744,
           0.015173246561723542,
           -0.3025313238000248,
           0.007725513267065674,
           0.25273576185062757,
           0.0063445069447148955,
           0.003851766235878152,
           -0.006549285117881765,
           0.15352644438080656,
           0.05196358833015902,
           -0.0019754583705992594,
           0.04623615623252206
          ],
          [
           -0.21172017541205457,
           0.22001988813623893,
           0.3550215154612706,
           -0.35635253908090253,
           0.05688738473834224,
           0.3131042949879406,
           1,
           0.4643972374713325,
           0.3554463655044794,
           0.07274797555503737,
           0.04354249713110869,
           0.04455564113737403,
           -0.1989291190692719,
           0.010871232700136372,
           0.17435357924511297,
           0.0028617159085362128,
           0.0021734966007852046,
           -0.004692021988827061,
           0.1004446768208545,
           0.05166847571256724,
           -0.0019216717494023026,
           0.0650882030506726
          ],
          [
           -0.3852763445576711,
           0.3234273600867813,
           0.6928282867056218,
           -0.6054649419833608,
           0.2449992240978192,
           0.4864632987116074,
           0.4643972374713325,
           1,
           0.6292911874665484,
           0.08943730928683001,
           0.006607508507308329,
           0.05396795589660423,
           -0.3460717974158181,
           0.02420711346116097,
           0.3048958304494865,
           0.004338707069023202,
           0.004636749851210137,
           -0.008447111176137122,
           0.18924285934035504,
           0.0634909118265771,
           -0.004808389715357309,
           0.0897891967362948
          ],
          [
           -0.42631791650348566,
           0.704704503292357,
           0.8746432064283188,
           -0.9538154488484718,
           0.4046266192033083,
           0.571404956000535,
           0.3554463655044794,
           0.6292911874665484,
           1,
           0.2738522285764526,
           0.18757594409395842,
           0.05921338219094308,
           -0.4687953533460107,
           0.02551284726434144,
           0.40134226423013575,
           0.005894458058597796,
           0.006390904278306836,
           -0.009564997332134445,
           0.2562538350138937,
           0.08828190378316203,
           -0.002681009001236154,
           0.10894191159025249
          ],
          [
           -0.13994266447631531,
           0.16131663561034126,
           0.23796768589181552,
           -0.2622471824227595,
           -0.018114024131531233,
           0.12961358095153253,
           0.07274797555503738,
           0.08943730928683,
           0.2738522285764526,
           0.9999999999999999,
           -0.013966832999694676,
           0.016465577610148014,
           -0.14068476266433558,
           0.007058276339480281,
           0.11999024428219242,
           0.001435902117068949,
           0.001917563187970298,
           -0.0030746994100163206,
           0.08294734814703661,
           0.03162714256672241,
           -0.008296716327945734,
           0.034526317925288395
          ],
          [
           -0.027910838731431742,
           0.17884012857747003,
           0.18535004872747501,
           -0.19677448697353558,
           0.11673089049999448,
           0.1874520815604744,
           0.043542497131108686,
           0.006607508507308329,
           0.1875759440939584,
           -0.013966832999694676,
           1,
           -0.007706768235130914,
           -0.05855775990820888,
           0.0012250492257985498,
           0.07742566605102143,
           0.0023874770902678403,
           0.0015977112561209028,
           -0.0007100448805814292,
           0.046389561282920815,
           0.014416103394843147,
           -0.003266621314383802,
           -0.0032226357245934262
          ],
          [
           -0.05111384574103542,
           0.019105107531239635,
           0.056202893458644265,
           -0.053606989713864996,
           0.018112147233266186,
           0.015173246561723544,
           0.044555641137374036,
           0.05396795589660423,
           0.059213382190943076,
           0.01646557761014801,
           -0.007706768235130914,
           1,
           0.06359710021502961,
           0.04552217553799261,
           0.03466966508891285,
           0.000025513031214213737,
           0.002103474499779452,
           -0.002363689330123517,
           0.09729843370448482,
           0.009390822956470951,
           0.001956699079913228,
           0.746680199713909
          ],
          [
           0.17828651870059145,
           -0.3099782659386161,
           -0.47498429853428153,
           0.47370389529998197,
           -0.17679682322433898,
           -0.30253132380002473,
           -0.19892911906927194,
           -0.3460717974158181,
           -0.4687953533460107,
           -0.1406847626643356,
           -0.05855775990820889,
           0.06359710021502961,
           1,
           -0.02171055285419884,
           -0.17829747217360617,
           -0.0002877802048420629,
           -0.007337147161356483,
           0.008039935908419428,
           -0.1911443344776896,
           -0.13789646830993768,
           0.0023994185517286094,
           -0.022215623620298663
          ],
          [
           -0.017058959320383014,
           0.010415280251525761,
           0.027415303368096597,
           -0.02437164154498081,
           0.006444997882357306,
           0.007725513267065675,
           0.010871232700136372,
           0.02420711346116097,
           0.02551284726434144,
           0.007058276339480281,
           0.00122504922579855,
           0.04552217553799261,
           -0.02171055285419884,
           1,
           0.04648680268575588,
           0.0006229952856741784,
           -0.00023352024718942472,
           -0.0004474727212097715,
           0.020599247524439167,
           0.05618503020361281,
           -0.003968309296139807,
           0.020938228240788604
          ],
          [
           -0.20752997401888834,
           0.2528856151469622,
           0.3791164942643994,
           -0.38756722764190393,
           0.18341149898884496,
           0.2527357618506275,
           0.174353579245113,
           0.3048958304494864,
           0.40134226423013575,
           0.11999024428219242,
           0.07742566605102143,
           0.03466966508891285,
           -0.17829747217360617,
           0.04648680268575588,
           1,
           0.028135691289873033,
           0.013050016075499226,
           0.01624929038192429,
           0.38525008281075446,
           0.20096136762510355,
           0.0010032573064537417,
           -0.006154502762956658
          ],
          [
           -0.004285023013107027,
           0.0036618105781284216,
           0.0046509773304937,
           -0.0052789687522527134,
           0.0034109856771342597,
           0.0063445069447148955,
           0.0028617159085362128,
           0.004338707069023201,
           0.005894458058597795,
           0.0014359021170689491,
           0.00238747709026784,
           0.000025513031214213737,
           -0.00028778020484206287,
           0.0006229952856741784,
           0.028135691289873033,
           0.9999999999999999,
           0.0005458195320834197,
           -0.00017386589788841893,
           0.008236195323836704,
           0.015439160428283909,
           0.004301302060605852,
           0.0007059291118360722
          ],
          [
           -0.004466235944188138,
           0.0037246147244669116,
           0.0051107688662881115,
           -0.005506499157164516,
           0.003323252470198003,
           0.003851766235878152,
           0.002173496600785205,
           0.004636749851210137,
           0.006390904278306836,
           0.0019175631879702981,
           0.0015977112561209026,
           0.002103474499779452,
           -0.007337147161356484,
           -0.00023352024718942472,
           0.013050016075499226,
           0.0005458195320834197,
           1,
           -0.00009562421100721045,
           0.030023700054880628,
           0.004816876566641337,
           0.00595288278375732,
           0.0019560898551206065
          ],
          [
           0.003110400831715681,
           -0.003481433024186871,
           -0.011381725598733773,
           0.01015081974639882,
           -0.0029898129081321273,
           -0.006549285117881764,
           -0.004692021988827062,
           -0.008447111176137122,
           -0.009564997332134445,
           -0.0030746994100163206,
           -0.0007100448805814293,
           -0.002363689330123517,
           0.008039935908419428,
           -0.00044747272120977146,
           0.01624929038192429,
           -0.00017386589788841893,
           -0.00009562421100721045,
           0.9999999999999998,
           -0.0028130821253214977,
           0.004227571626172066,
           -0.003135040700034739,
           -0.0028427623444601978
          ],
          [
           -0.1371560778150734,
           0.15524352317003554,
           0.23613850248171825,
           -0.24116548422914338,
           0.11660830257824116,
           0.15352644438080656,
           0.10044467682085449,
           0.18924285934035506,
           0.2562538350138937,
           0.08294734814703662,
           0.04638956128292081,
           0.09729843370448482,
           -0.1911443344776896,
           0.020599247524439167,
           0.3852500828107545,
           0.008236195323836704,
           0.030023700054880628,
           -0.0028130821253214977,
           1,
           0.22943742652521204,
           0.0000408194784799928,
           0.13286876452143728
          ],
          [
           0.021537599739831822,
           0.07354075082144644,
           0.11103846140956858,
           -0.10262274649849812,
           0.04764367913502044,
           0.05196358833015903,
           0.05166847571256724,
           0.0634909118265771,
           0.08828190378316203,
           0.03162714256672241,
           0.014416103394843147,
           0.009390822956470951,
           -0.13789646830993768,
           0.05618503020361281,
           0.20096136762510355,
           0.015439160428283909,
           0.0048168765666413375,
           0.004227571626172067,
           0.22943742652521207,
           0.9999999999999998,
           0.0029188808719149014,
           0.029697106214741486
          ],
          [
           -0.0006694531191400058,
           -0.004002080255150203,
           -0.004010703932832809,
           0.004176812333451261,
           -0.00128889255279488,
           -0.00197545837059926,
           -0.0019216717494023028,
           -0.004808389715357309,
           -0.0026810090012361534,
           -0.008296716327945734,
           -0.003266621314383802,
           0.001956699079913228,
           0.002399418551728609,
           -0.003968309296139807,
           0.0010032573064537415,
           0.004301302060605852,
           0.005952882783757321,
           -0.003135040700034739,
           0.0000408194784799928,
           0.0029188808719149014,
           1,
           -0.0011437259736479836
          ],
          [
           -0.07724819795863144,
           0.04626520630548834,
           0.10692859212404962,
           -0.10227490363954485,
           0.02891391925620723,
           0.04623615623252206,
           0.06508820305067262,
           0.0897891967362948,
           0.10894191159025247,
           0.03452631792528839,
           -0.0032226357245934262,
           0.746680199713909,
           -0.022215623620298663,
           0.020938228240788604,
           -0.006154502762956658,
           0.0007059291118360722,
           0.0019560898551206065,
           -0.002842762344460198,
           0.13286876452143728,
           0.029697106214741486,
           -0.0011437259736479836,
           0.9999999999999998
          ]
         ]
        }
       ],
       "layout": {
        "coloraxis": {
         "colorscale": [
          [
           0,
           "#0d0887"
          ],
          [
           0.1111111111111111,
           "#46039f"
          ],
          [
           0.2222222222222222,
           "#7201a8"
          ],
          [
           0.3333333333333333,
           "#9c179e"
          ],
          [
           0.4444444444444444,
           "#bd3786"
          ],
          [
           0.5555555555555556,
           "#d8576b"
          ],
          [
           0.6666666666666666,
           "#ed7953"
          ],
          [
           0.7777777777777778,
           "#fb9f3a"
          ],
          [
           0.8888888888888888,
           "#fdca26"
          ],
          [
           1,
           "#f0f921"
          ]
         ]
        },
        "template": {
         "data": {
          "bar": [
           {
            "error_x": {
             "color": "#2a3f5f"
            },
            "error_y": {
             "color": "#2a3f5f"
            },
            "marker": {
             "line": {
              "color": "#E5ECF6",
              "width": 0.5
             },
             "pattern": {
              "fillmode": "overlay",
              "size": 10,
              "solidity": 0.2
             }
            },
            "type": "bar"
           }
          ],
          "barpolar": [
           {
            "marker": {
             "line": {
              "color": "#E5ECF6",
              "width": 0.5
             },
             "pattern": {
              "fillmode": "overlay",
              "size": 10,
              "solidity": 0.2
             }
            },
            "type": "barpolar"
           }
          ],
          "carpet": [
           {
            "aaxis": {
             "endlinecolor": "#2a3f5f",
             "gridcolor": "white",
             "linecolor": "white",
             "minorgridcolor": "white",
             "startlinecolor": "#2a3f5f"
            },
            "baxis": {
             "endlinecolor": "#2a3f5f",
             "gridcolor": "white",
             "linecolor": "white",
             "minorgridcolor": "white",
             "startlinecolor": "#2a3f5f"
            },
            "type": "carpet"
           }
          ],
          "choropleth": [
           {
            "colorbar": {
             "outlinewidth": 0,
             "ticks": ""
            },
            "type": "choropleth"
           }
          ],
          "contour": [
           {
            "colorbar": {
             "outlinewidth": 0,
             "ticks": ""
            },
            "colorscale": [
             [
              0,
              "#0d0887"
             ],
             [
              0.1111111111111111,
              "#46039f"
             ],
             [
              0.2222222222222222,
              "#7201a8"
             ],
             [
              0.3333333333333333,
              "#9c179e"
             ],
             [
              0.4444444444444444,
              "#bd3786"
             ],
             [
              0.5555555555555556,
              "#d8576b"
             ],
             [
              0.6666666666666666,
              "#ed7953"
             ],
             [
              0.7777777777777778,
              "#fb9f3a"
             ],
             [
              0.8888888888888888,
              "#fdca26"
             ],
             [
              1,
              "#f0f921"
             ]
            ],
            "type": "contour"
           }
          ],
          "contourcarpet": [
           {
            "colorbar": {
             "outlinewidth": 0,
             "ticks": ""
            },
            "type": "contourcarpet"
           }
          ],
          "heatmap": [
           {
            "colorbar": {
             "outlinewidth": 0,
             "ticks": ""
            },
            "colorscale": [
             [
              0,
              "#0d0887"
             ],
             [
              0.1111111111111111,
              "#46039f"
             ],
             [
              0.2222222222222222,
              "#7201a8"
             ],
             [
              0.3333333333333333,
              "#9c179e"
             ],
             [
              0.4444444444444444,
              "#bd3786"
             ],
             [
              0.5555555555555556,
              "#d8576b"
             ],
             [
              0.6666666666666666,
              "#ed7953"
             ],
             [
              0.7777777777777778,
              "#fb9f3a"
             ],
             [
              0.8888888888888888,
              "#fdca26"
             ],
             [
              1,
              "#f0f921"
             ]
            ],
            "type": "heatmap"
           }
          ],
          "heatmapgl": [
           {
            "colorbar": {
             "outlinewidth": 0,
             "ticks": ""
            },
            "colorscale": [
             [
              0,
              "#0d0887"
             ],
             [
              0.1111111111111111,
              "#46039f"
             ],
             [
              0.2222222222222222,
              "#7201a8"
             ],
             [
              0.3333333333333333,
              "#9c179e"
             ],
             [
              0.4444444444444444,
              "#bd3786"
             ],
             [
              0.5555555555555556,
              "#d8576b"
             ],
             [
              0.6666666666666666,
              "#ed7953"
             ],
             [
              0.7777777777777778,
              "#fb9f3a"
             ],
             [
              0.8888888888888888,
              "#fdca26"
             ],
             [
              1,
              "#f0f921"
             ]
            ],
            "type": "heatmapgl"
           }
          ],
          "histogram": [
           {
            "marker": {
             "pattern": {
              "fillmode": "overlay",
              "size": 10,
              "solidity": 0.2
             }
            },
            "type": "histogram"
           }
          ],
          "histogram2d": [
           {
            "colorbar": {
             "outlinewidth": 0,
             "ticks": ""
            },
            "colorscale": [
             [
              0,
              "#0d0887"
             ],
             [
              0.1111111111111111,
              "#46039f"
             ],
             [
              0.2222222222222222,
              "#7201a8"
             ],
             [
              0.3333333333333333,
              "#9c179e"
             ],
             [
              0.4444444444444444,
              "#bd3786"
             ],
             [
              0.5555555555555556,
              "#d8576b"
             ],
             [
              0.6666666666666666,
              "#ed7953"
             ],
             [
              0.7777777777777778,
              "#fb9f3a"
             ],
             [
              0.8888888888888888,
              "#fdca26"
             ],
             [
              1,
              "#f0f921"
             ]
            ],
            "type": "histogram2d"
           }
          ],
          "histogram2dcontour": [
           {
            "colorbar": {
             "outlinewidth": 0,
             "ticks": ""
            },
            "colorscale": [
             [
              0,
              "#0d0887"
             ],
             [
              0.1111111111111111,
              "#46039f"
             ],
             [
              0.2222222222222222,
              "#7201a8"
             ],
             [
              0.3333333333333333,
              "#9c179e"
             ],
             [
              0.4444444444444444,
              "#bd3786"
             ],
             [
              0.5555555555555556,
              "#d8576b"
             ],
             [
              0.6666666666666666,
              "#ed7953"
             ],
             [
              0.7777777777777778,
              "#fb9f3a"
             ],
             [
              0.8888888888888888,
              "#fdca26"
             ],
             [
              1,
              "#f0f921"
             ]
            ],
            "type": "histogram2dcontour"
           }
          ],
          "mesh3d": [
           {
            "colorbar": {
             "outlinewidth": 0,
             "ticks": ""
            },
            "type": "mesh3d"
           }
          ],
          "parcoords": [
           {
            "line": {
             "colorbar": {
              "outlinewidth": 0,
              "ticks": ""
             }
            },
            "type": "parcoords"
           }
          ],
          "pie": [
           {
            "automargin": true,
            "type": "pie"
           }
          ],
          "scatter": [
           {
            "fillpattern": {
             "fillmode": "overlay",
             "size": 10,
             "solidity": 0.2
            },
            "type": "scatter"
           }
          ],
          "scatter3d": [
           {
            "line": {
             "colorbar": {
              "outlinewidth": 0,
              "ticks": ""
             }
            },
            "marker": {
             "colorbar": {
              "outlinewidth": 0,
              "ticks": ""
             }
            },
            "type": "scatter3d"
           }
          ],
          "scattercarpet": [
           {
            "marker": {
             "colorbar": {
              "outlinewidth": 0,
              "ticks": ""
             }
            },
            "type": "scattercarpet"
           }
          ],
          "scattergeo": [
           {
            "marker": {
             "colorbar": {
              "outlinewidth": 0,
              "ticks": ""
             }
            },
            "type": "scattergeo"
           }
          ],
          "scattergl": [
           {
            "marker": {
             "colorbar": {
              "outlinewidth": 0,
              "ticks": ""
             }
            },
            "type": "scattergl"
           }
          ],
          "scattermapbox": [
           {
            "marker": {
             "colorbar": {
              "outlinewidth": 0,
              "ticks": ""
             }
            },
            "type": "scattermapbox"
           }
          ],
          "scatterpolar": [
           {
            "marker": {
             "colorbar": {
              "outlinewidth": 0,
              "ticks": ""
             }
            },
            "type": "scatterpolar"
           }
          ],
          "scatterpolargl": [
           {
            "marker": {
             "colorbar": {
              "outlinewidth": 0,
              "ticks": ""
             }
            },
            "type": "scatterpolargl"
           }
          ],
          "scatterternary": [
           {
            "marker": {
             "colorbar": {
              "outlinewidth": 0,
              "ticks": ""
             }
            },
            "type": "scatterternary"
           }
          ],
          "surface": [
           {
            "colorbar": {
             "outlinewidth": 0,
             "ticks": ""
            },
            "colorscale": [
             [
              0,
              "#0d0887"
             ],
             [
              0.1111111111111111,
              "#46039f"
             ],
             [
              0.2222222222222222,
              "#7201a8"
             ],
             [
              0.3333333333333333,
              "#9c179e"
             ],
             [
              0.4444444444444444,
              "#bd3786"
             ],
             [
              0.5555555555555556,
              "#d8576b"
             ],
             [
              0.6666666666666666,
              "#ed7953"
             ],
             [
              0.7777777777777778,
              "#fb9f3a"
             ],
             [
              0.8888888888888888,
              "#fdca26"
             ],
             [
              1,
              "#f0f921"
             ]
            ],
            "type": "surface"
           }
          ],
          "table": [
           {
            "cells": {
             "fill": {
              "color": "#EBF0F8"
             },
             "line": {
              "color": "white"
             }
            },
            "header": {
             "fill": {
              "color": "#C8D4E3"
             },
             "line": {
              "color": "white"
             }
            },
            "type": "table"
           }
          ]
         },
         "layout": {
          "annotationdefaults": {
           "arrowcolor": "#2a3f5f",
           "arrowhead": 0,
           "arrowwidth": 1
          },
          "autotypenumbers": "strict",
          "coloraxis": {
           "colorbar": {
            "outlinewidth": 0,
            "ticks": ""
           }
          },
          "colorscale": {
           "diverging": [
            [
             0,
             "#8e0152"
            ],
            [
             0.1,
             "#c51b7d"
            ],
            [
             0.2,
             "#de77ae"
            ],
            [
             0.3,
             "#f1b6da"
            ],
            [
             0.4,
             "#fde0ef"
            ],
            [
             0.5,
             "#f7f7f7"
            ],
            [
             0.6,
             "#e6f5d0"
            ],
            [
             0.7,
             "#b8e186"
            ],
            [
             0.8,
             "#7fbc41"
            ],
            [
             0.9,
             "#4d9221"
            ],
            [
             1,
             "#276419"
            ]
           ],
           "sequential": [
            [
             0,
             "#0d0887"
            ],
            [
             0.1111111111111111,
             "#46039f"
            ],
            [
             0.2222222222222222,
             "#7201a8"
            ],
            [
             0.3333333333333333,
             "#9c179e"
            ],
            [
             0.4444444444444444,
             "#bd3786"
            ],
            [
             0.5555555555555556,
             "#d8576b"
            ],
            [
             0.6666666666666666,
             "#ed7953"
            ],
            [
             0.7777777777777778,
             "#fb9f3a"
            ],
            [
             0.8888888888888888,
             "#fdca26"
            ],
            [
             1,
             "#f0f921"
            ]
           ],
           "sequentialminus": [
            [
             0,
             "#0d0887"
            ],
            [
             0.1111111111111111,
             "#46039f"
            ],
            [
             0.2222222222222222,
             "#7201a8"
            ],
            [
             0.3333333333333333,
             "#9c179e"
            ],
            [
             0.4444444444444444,
             "#bd3786"
            ],
            [
             0.5555555555555556,
             "#d8576b"
            ],
            [
             0.6666666666666666,
             "#ed7953"
            ],
            [
             0.7777777777777778,
             "#fb9f3a"
            ],
            [
             0.8888888888888888,
             "#fdca26"
            ],
            [
             1,
             "#f0f921"
            ]
           ]
          },
          "colorway": [
           "#636efa",
           "#EF553B",
           "#00cc96",
           "#ab63fa",
           "#FFA15A",
           "#19d3f3",
           "#FF6692",
           "#B6E880",
           "#FF97FF",
           "#FECB52"
          ],
          "font": {
           "color": "#2a3f5f"
          },
          "geo": {
           "bgcolor": "white",
           "lakecolor": "white",
           "landcolor": "#E5ECF6",
           "showlakes": true,
           "showland": true,
           "subunitcolor": "white"
          },
          "hoverlabel": {
           "align": "left"
          },
          "hovermode": "closest",
          "mapbox": {
           "style": "light"
          },
          "paper_bgcolor": "white",
          "plot_bgcolor": "#E5ECF6",
          "polar": {
           "angularaxis": {
            "gridcolor": "white",
            "linecolor": "white",
            "ticks": ""
           },
           "bgcolor": "#E5ECF6",
           "radialaxis": {
            "gridcolor": "white",
            "linecolor": "white",
            "ticks": ""
           }
          },
          "scene": {
           "xaxis": {
            "backgroundcolor": "#E5ECF6",
            "gridcolor": "white",
            "gridwidth": 2,
            "linecolor": "white",
            "showbackground": true,
            "ticks": "",
            "zerolinecolor": "white"
           },
           "yaxis": {
            "backgroundcolor": "#E5ECF6",
            "gridcolor": "white",
            "gridwidth": 2,
            "linecolor": "white",
            "showbackground": true,
            "ticks": "",
            "zerolinecolor": "white"
           },
           "zaxis": {
            "backgroundcolor": "#E5ECF6",
            "gridcolor": "white",
            "gridwidth": 2,
            "linecolor": "white",
            "showbackground": true,
            "ticks": "",
            "zerolinecolor": "white"
           }
          },
          "shapedefaults": {
           "line": {
            "color": "#2a3f5f"
           }
          },
          "ternary": {
           "aaxis": {
            "gridcolor": "white",
            "linecolor": "white",
            "ticks": ""
           },
           "baxis": {
            "gridcolor": "white",
            "linecolor": "white",
            "ticks": ""
           },
           "bgcolor": "#E5ECF6",
           "caxis": {
            "gridcolor": "white",
            "linecolor": "white",
            "ticks": ""
           }
          },
          "title": {
           "x": 0.05
          },
          "xaxis": {
           "automargin": true,
           "gridcolor": "white",
           "linecolor": "white",
           "ticks": "",
           "title": {
            "standoff": 15
           },
           "zerolinecolor": "white",
           "zerolinewidth": 2
          },
          "yaxis": {
           "automargin": true,
           "gridcolor": "white",
           "linecolor": "white",
           "ticks": "",
           "title": {
            "standoff": 15
           },
           "zerolinecolor": "white",
           "zerolinewidth": 2
          }
         }
        },
        "title": {
         "text": "Correlation Matrix for Dataset 'a'"
        },
        "xaxis": {
         "anchor": "y",
         "constrain": "domain",
         "domain": [
          0,
          1
         ],
         "scaleanchor": "y"
        },
        "yaxis": {
         "anchor": "x",
         "autorange": "reversed",
         "constrain": "domain",
         "domain": [
          0,
          1
         ]
        }
       }
      }
     },
     "metadata": {},
     "output_type": "display_data"
    },
    {
     "data": {
      "application/vnd.plotly.v1+json": {
       "config": {
        "plotlyServerURL": "https://plot.ly"
       },
       "data": [
        {
         "coloraxis": "coloraxis",
         "hovertemplate": "x: %{x}<br>y: %{y}<br>color: %{z}<extra></extra>",
         "name": "0",
         "type": "heatmap",
         "x": [
          "primary_sic_code_b__company",
          "industry_code_b__company",
          "sector_code_b__company",
          "zip_postal_code_b__company",
          "year_founded_b__company",
          "nace_code_b__company",
          "address_id_b__address",
          "location_postal_code_b__address",
          "tele_country_b__address",
          "tele_area_b__address",
          "tele_b__address",
          "fax_country_b__address",
          "fax_area_b__address",
          "fax_b__address",
          "hq_b__address"
         ],
         "xaxis": "x",
         "y": [
          "primary_sic_code_b__company",
          "industry_code_b__company",
          "sector_code_b__company",
          "zip_postal_code_b__company",
          "year_founded_b__company",
          "nace_code_b__company",
          "address_id_b__address",
          "location_postal_code_b__address",
          "tele_country_b__address",
          "tele_area_b__address",
          "tele_b__address",
          "fax_country_b__address",
          "fax_area_b__address",
          "fax_b__address",
          "hq_b__address"
         ],
         "yaxis": "y",
         "z": [
          [
           1,
           0.896650922518521,
           0.8962244631018651,
           0.014963650734717986,
           0.2385270833103673,
           0.970047497888146,
           0.05105355450783025,
           0.014428855252677007,
           0.004866446270200275,
           0.03839237264604421,
           -0.00009594523562717756,
           0.004994363301445143,
           0.0324335965827426,
           -0.0028657485540802864,
           0.10404740111342864
          ],
          [
           0.8966509225185209,
           1,
           0.9999793230815573,
           0.006203508963106725,
           0.15687788034768058,
           0.922653681582193,
           -0.03780295611644618,
           0.005582814371160252,
           -0.025073183138561127,
           0.01713666711350148,
           0.0014489339110571773,
           -0.02495603849880352,
           0.013890116348710997,
           -0.003349517957507978,
           -0.008620374086238152
          ],
          [
           0.896224463101865,
           0.9999793230815573,
           1,
           0.006123217897576992,
           0.1561457260367618,
           0.9222590289911858,
           -0.038607606585044495,
           0.005501117214743813,
           -0.025424058793665927,
           0.016970572658906773,
           0.0014257515612330364,
           -0.025307151100914384,
           0.0137410374690324,
           -0.0033545263221906848,
           -0.009613705892981328
          ],
          [
           0.014963650734717988,
           0.006203508963106726,
           0.006123217897576992,
           1,
           0.029559835317401792,
           0.012975627297915378,
           0.042406880393284656,
           0.993603404070432,
           0.02884915184885922,
           0.015044182452523213,
           0.0012366885734421428,
           0.02883789769392795,
           0.014078888568240237,
           0.0009889336096521484,
           0.045905379070569026
          ],
          [
           0.23852708331036732,
           0.15687788034768058,
           0.1561457260367618,
           0.029559835317401795,
           0.9999999999999998,
           0.22213214776032275,
           0.21215876228453012,
           0.028340601204995916,
           0.07318647280666489,
           0.07900838554701128,
           0.008559667131893035,
           0.07324371107782253,
           0.06625347462372055,
           0.0010679792770217997,
           0.2693485959757968
          ],
          [
           0.9700474978881459,
           0.922653681582193,
           0.9222590289911857,
           0.012975627297915378,
           0.22213214776032275,
           1,
           0.037113073778178754,
           0.012456666853354276,
           -0.004756988700362323,
           0.03259812633276092,
           -0.0003095763256978542,
           -0.004593990851579378,
           0.027011608650426167,
           -0.003001932718637718,
           0.08427838707335245
          ],
          [
           0.05105355450783026,
           -0.037802956116446185,
           -0.038607606585044495,
           0.042406880393284656,
           0.21215876228453012,
           0.03711307377817875,
           1,
           0.043333541304360824,
           0.2978844571668319,
           0.10917946650212344,
           0.005851698362486116,
           0.29769257649956476,
           0.09444962850471623,
           0.010127006391679351,
           0.7850680614700112
          ],
          [
           0.014428855252677007,
           0.005582814371160252,
           0.005501117214743813,
           0.993603404070432,
           0.02834060120499592,
           0.012456666853354278,
           0.04333354130436082,
           1,
           0.028018202382901675,
           0.015376559407224554,
           0.0012590779513247,
           0.028006939715561372,
           0.014347891812998802,
           0.0010130019311797777,
           0.04781559986533181
          ],
          [
           0.004866446270200275,
           -0.025073183138561127,
           -0.025424058793665927,
           0.02884915184885922,
           0.07318647280666489,
           -0.004756988700362322,
           0.2978844571668319,
           0.028018202382901675,
           1,
           -0.002679427626193758,
           0.00540142924850955,
           0.999142684021861,
           -0.0031672369789648106,
           0.00354094287773099,
           0.31479939675166246
          ],
          [
           0.03839237264604422,
           0.01713666711350148,
           0.016970572658906773,
           0.015044182452523213,
           0.07900838554701128,
           0.03259812633276092,
           0.10917946650212344,
           0.015376559407224552,
           -0.002679427626193758,
           1,
           -0.00017788614434170722,
           -0.002742538745798974,
           0.9283190089827585,
           0.003869644149942518,
           0.12560149200572082
          ],
          [
           -0.00009594523562717758,
           0.0014489339110571773,
           0.0014257515612330364,
           0.0012366885734421428,
           0.008559667131893035,
           -0.00030957632569785415,
           0.0058516983624861164,
           0.0012590779513247,
           0.00540142924850955,
           -0.00017788614434170722,
           1,
           0.005400371218810086,
           -0.00021272303749963082,
           0.0927261569179385,
           0.008577246457053293
          ],
          [
           0.004994363301445143,
           -0.02495603849880352,
           -0.02530715110091438,
           0.028837897693927948,
           0.07324371107782252,
           -0.004593990851579378,
           0.29769257649956476,
           0.028006939715561372,
           0.9991426840218611,
           -0.002742538745798974,
           0.0054003712188100865,
           1,
           -0.0031158292977419106,
           0.0034944443940329974,
           0.3146398030197129
          ],
          [
           0.0324335965827426,
           0.013890116348710995,
           0.0137410374690324,
           0.014078888568240236,
           0.06625347462372057,
           0.027011608650426167,
           0.09444962850471623,
           0.014347891812998802,
           -0.0031672369789648106,
           0.9283190089827585,
           -0.0002127230374996308,
           -0.0031158292977419106,
           1,
           -0.00018822462935915455,
           0.11191121383939798
          ],
          [
           -0.0028657485540802864,
           -0.003349517957507978,
           -0.0033545263221906843,
           0.0009889336096521484,
           0.0010679792770217997,
           -0.003001932718637718,
           0.010127006391679351,
           0.0010130019311797777,
           0.00354094287773099,
           0.003869644149942518,
           0.09272615691793848,
           0.0034944443940329974,
           -0.00018822462935915455,
           1,
           0.010533026280858799
          ],
          [
           0.10404740111342865,
           -0.008620374086238152,
           -0.009613705892981328,
           0.04590537907056902,
           0.26934859597579675,
           0.08427838707335245,
           0.7850680614700113,
           0.04781559986533181,
           0.3147993967516625,
           0.12560149200572082,
           0.008577246457053293,
           0.3146398030197129,
           0.11191121383939798,
           0.010533026280858799,
           1
          ]
         ]
        }
       ],
       "layout": {
        "coloraxis": {
         "colorscale": [
          [
           0,
           "#0d0887"
          ],
          [
           0.1111111111111111,
           "#46039f"
          ],
          [
           0.2222222222222222,
           "#7201a8"
          ],
          [
           0.3333333333333333,
           "#9c179e"
          ],
          [
           0.4444444444444444,
           "#bd3786"
          ],
          [
           0.5555555555555556,
           "#d8576b"
          ],
          [
           0.6666666666666666,
           "#ed7953"
          ],
          [
           0.7777777777777778,
           "#fb9f3a"
          ],
          [
           0.8888888888888888,
           "#fdca26"
          ],
          [
           1,
           "#f0f921"
          ]
         ]
        },
        "template": {
         "data": {
          "bar": [
           {
            "error_x": {
             "color": "#2a3f5f"
            },
            "error_y": {
             "color": "#2a3f5f"
            },
            "marker": {
             "line": {
              "color": "#E5ECF6",
              "width": 0.5
             },
             "pattern": {
              "fillmode": "overlay",
              "size": 10,
              "solidity": 0.2
             }
            },
            "type": "bar"
           }
          ],
          "barpolar": [
           {
            "marker": {
             "line": {
              "color": "#E5ECF6",
              "width": 0.5
             },
             "pattern": {
              "fillmode": "overlay",
              "size": 10,
              "solidity": 0.2
             }
            },
            "type": "barpolar"
           }
          ],
          "carpet": [
           {
            "aaxis": {
             "endlinecolor": "#2a3f5f",
             "gridcolor": "white",
             "linecolor": "white",
             "minorgridcolor": "white",
             "startlinecolor": "#2a3f5f"
            },
            "baxis": {
             "endlinecolor": "#2a3f5f",
             "gridcolor": "white",
             "linecolor": "white",
             "minorgridcolor": "white",
             "startlinecolor": "#2a3f5f"
            },
            "type": "carpet"
           }
          ],
          "choropleth": [
           {
            "colorbar": {
             "outlinewidth": 0,
             "ticks": ""
            },
            "type": "choropleth"
           }
          ],
          "contour": [
           {
            "colorbar": {
             "outlinewidth": 0,
             "ticks": ""
            },
            "colorscale": [
             [
              0,
              "#0d0887"
             ],
             [
              0.1111111111111111,
              "#46039f"
             ],
             [
              0.2222222222222222,
              "#7201a8"
             ],
             [
              0.3333333333333333,
              "#9c179e"
             ],
             [
              0.4444444444444444,
              "#bd3786"
             ],
             [
              0.5555555555555556,
              "#d8576b"
             ],
             [
              0.6666666666666666,
              "#ed7953"
             ],
             [
              0.7777777777777778,
              "#fb9f3a"
             ],
             [
              0.8888888888888888,
              "#fdca26"
             ],
             [
              1,
              "#f0f921"
             ]
            ],
            "type": "contour"
           }
          ],
          "contourcarpet": [
           {
            "colorbar": {
             "outlinewidth": 0,
             "ticks": ""
            },
            "type": "contourcarpet"
           }
          ],
          "heatmap": [
           {
            "colorbar": {
             "outlinewidth": 0,
             "ticks": ""
            },
            "colorscale": [
             [
              0,
              "#0d0887"
             ],
             [
              0.1111111111111111,
              "#46039f"
             ],
             [
              0.2222222222222222,
              "#7201a8"
             ],
             [
              0.3333333333333333,
              "#9c179e"
             ],
             [
              0.4444444444444444,
              "#bd3786"
             ],
             [
              0.5555555555555556,
              "#d8576b"
             ],
             [
              0.6666666666666666,
              "#ed7953"
             ],
             [
              0.7777777777777778,
              "#fb9f3a"
             ],
             [
              0.8888888888888888,
              "#fdca26"
             ],
             [
              1,
              "#f0f921"
             ]
            ],
            "type": "heatmap"
           }
          ],
          "heatmapgl": [
           {
            "colorbar": {
             "outlinewidth": 0,
             "ticks": ""
            },
            "colorscale": [
             [
              0,
              "#0d0887"
             ],
             [
              0.1111111111111111,
              "#46039f"
             ],
             [
              0.2222222222222222,
              "#7201a8"
             ],
             [
              0.3333333333333333,
              "#9c179e"
             ],
             [
              0.4444444444444444,
              "#bd3786"
             ],
             [
              0.5555555555555556,
              "#d8576b"
             ],
             [
              0.6666666666666666,
              "#ed7953"
             ],
             [
              0.7777777777777778,
              "#fb9f3a"
             ],
             [
              0.8888888888888888,
              "#fdca26"
             ],
             [
              1,
              "#f0f921"
             ]
            ],
            "type": "heatmapgl"
           }
          ],
          "histogram": [
           {
            "marker": {
             "pattern": {
              "fillmode": "overlay",
              "size": 10,
              "solidity": 0.2
             }
            },
            "type": "histogram"
           }
          ],
          "histogram2d": [
           {
            "colorbar": {
             "outlinewidth": 0,
             "ticks": ""
            },
            "colorscale": [
             [
              0,
              "#0d0887"
             ],
             [
              0.1111111111111111,
              "#46039f"
             ],
             [
              0.2222222222222222,
              "#7201a8"
             ],
             [
              0.3333333333333333,
              "#9c179e"
             ],
             [
              0.4444444444444444,
              "#bd3786"
             ],
             [
              0.5555555555555556,
              "#d8576b"
             ],
             [
              0.6666666666666666,
              "#ed7953"
             ],
             [
              0.7777777777777778,
              "#fb9f3a"
             ],
             [
              0.8888888888888888,
              "#fdca26"
             ],
             [
              1,
              "#f0f921"
             ]
            ],
            "type": "histogram2d"
           }
          ],
          "histogram2dcontour": [
           {
            "colorbar": {
             "outlinewidth": 0,
             "ticks": ""
            },
            "colorscale": [
             [
              0,
              "#0d0887"
             ],
             [
              0.1111111111111111,
              "#46039f"
             ],
             [
              0.2222222222222222,
              "#7201a8"
             ],
             [
              0.3333333333333333,
              "#9c179e"
             ],
             [
              0.4444444444444444,
              "#bd3786"
             ],
             [
              0.5555555555555556,
              "#d8576b"
             ],
             [
              0.6666666666666666,
              "#ed7953"
             ],
             [
              0.7777777777777778,
              "#fb9f3a"
             ],
             [
              0.8888888888888888,
              "#fdca26"
             ],
             [
              1,
              "#f0f921"
             ]
            ],
            "type": "histogram2dcontour"
           }
          ],
          "mesh3d": [
           {
            "colorbar": {
             "outlinewidth": 0,
             "ticks": ""
            },
            "type": "mesh3d"
           }
          ],
          "parcoords": [
           {
            "line": {
             "colorbar": {
              "outlinewidth": 0,
              "ticks": ""
             }
            },
            "type": "parcoords"
           }
          ],
          "pie": [
           {
            "automargin": true,
            "type": "pie"
           }
          ],
          "scatter": [
           {
            "fillpattern": {
             "fillmode": "overlay",
             "size": 10,
             "solidity": 0.2
            },
            "type": "scatter"
           }
          ],
          "scatter3d": [
           {
            "line": {
             "colorbar": {
              "outlinewidth": 0,
              "ticks": ""
             }
            },
            "marker": {
             "colorbar": {
              "outlinewidth": 0,
              "ticks": ""
             }
            },
            "type": "scatter3d"
           }
          ],
          "scattercarpet": [
           {
            "marker": {
             "colorbar": {
              "outlinewidth": 0,
              "ticks": ""
             }
            },
            "type": "scattercarpet"
           }
          ],
          "scattergeo": [
           {
            "marker": {
             "colorbar": {
              "outlinewidth": 0,
              "ticks": ""
             }
            },
            "type": "scattergeo"
           }
          ],
          "scattergl": [
           {
            "marker": {
             "colorbar": {
              "outlinewidth": 0,
              "ticks": ""
             }
            },
            "type": "scattergl"
           }
          ],
          "scattermapbox": [
           {
            "marker": {
             "colorbar": {
              "outlinewidth": 0,
              "ticks": ""
             }
            },
            "type": "scattermapbox"
           }
          ],
          "scatterpolar": [
           {
            "marker": {
             "colorbar": {
              "outlinewidth": 0,
              "ticks": ""
             }
            },
            "type": "scatterpolar"
           }
          ],
          "scatterpolargl": [
           {
            "marker": {
             "colorbar": {
              "outlinewidth": 0,
              "ticks": ""
             }
            },
            "type": "scatterpolargl"
           }
          ],
          "scatterternary": [
           {
            "marker": {
             "colorbar": {
              "outlinewidth": 0,
              "ticks": ""
             }
            },
            "type": "scatterternary"
           }
          ],
          "surface": [
           {
            "colorbar": {
             "outlinewidth": 0,
             "ticks": ""
            },
            "colorscale": [
             [
              0,
              "#0d0887"
             ],
             [
              0.1111111111111111,
              "#46039f"
             ],
             [
              0.2222222222222222,
              "#7201a8"
             ],
             [
              0.3333333333333333,
              "#9c179e"
             ],
             [
              0.4444444444444444,
              "#bd3786"
             ],
             [
              0.5555555555555556,
              "#d8576b"
             ],
             [
              0.6666666666666666,
              "#ed7953"
             ],
             [
              0.7777777777777778,
              "#fb9f3a"
             ],
             [
              0.8888888888888888,
              "#fdca26"
             ],
             [
              1,
              "#f0f921"
             ]
            ],
            "type": "surface"
           }
          ],
          "table": [
           {
            "cells": {
             "fill": {
              "color": "#EBF0F8"
             },
             "line": {
              "color": "white"
             }
            },
            "header": {
             "fill": {
              "color": "#C8D4E3"
             },
             "line": {
              "color": "white"
             }
            },
            "type": "table"
           }
          ]
         },
         "layout": {
          "annotationdefaults": {
           "arrowcolor": "#2a3f5f",
           "arrowhead": 0,
           "arrowwidth": 1
          },
          "autotypenumbers": "strict",
          "coloraxis": {
           "colorbar": {
            "outlinewidth": 0,
            "ticks": ""
           }
          },
          "colorscale": {
           "diverging": [
            [
             0,
             "#8e0152"
            ],
            [
             0.1,
             "#c51b7d"
            ],
            [
             0.2,
             "#de77ae"
            ],
            [
             0.3,
             "#f1b6da"
            ],
            [
             0.4,
             "#fde0ef"
            ],
            [
             0.5,
             "#f7f7f7"
            ],
            [
             0.6,
             "#e6f5d0"
            ],
            [
             0.7,
             "#b8e186"
            ],
            [
             0.8,
             "#7fbc41"
            ],
            [
             0.9,
             "#4d9221"
            ],
            [
             1,
             "#276419"
            ]
           ],
           "sequential": [
            [
             0,
             "#0d0887"
            ],
            [
             0.1111111111111111,
             "#46039f"
            ],
            [
             0.2222222222222222,
             "#7201a8"
            ],
            [
             0.3333333333333333,
             "#9c179e"
            ],
            [
             0.4444444444444444,
             "#bd3786"
            ],
            [
             0.5555555555555556,
             "#d8576b"
            ],
            [
             0.6666666666666666,
             "#ed7953"
            ],
            [
             0.7777777777777778,
             "#fb9f3a"
            ],
            [
             0.8888888888888888,
             "#fdca26"
            ],
            [
             1,
             "#f0f921"
            ]
           ],
           "sequentialminus": [
            [
             0,
             "#0d0887"
            ],
            [
             0.1111111111111111,
             "#46039f"
            ],
            [
             0.2222222222222222,
             "#7201a8"
            ],
            [
             0.3333333333333333,
             "#9c179e"
            ],
            [
             0.4444444444444444,
             "#bd3786"
            ],
            [
             0.5555555555555556,
             "#d8576b"
            ],
            [
             0.6666666666666666,
             "#ed7953"
            ],
            [
             0.7777777777777778,
             "#fb9f3a"
            ],
            [
             0.8888888888888888,
             "#fdca26"
            ],
            [
             1,
             "#f0f921"
            ]
           ]
          },
          "colorway": [
           "#636efa",
           "#EF553B",
           "#00cc96",
           "#ab63fa",
           "#FFA15A",
           "#19d3f3",
           "#FF6692",
           "#B6E880",
           "#FF97FF",
           "#FECB52"
          ],
          "font": {
           "color": "#2a3f5f"
          },
          "geo": {
           "bgcolor": "white",
           "lakecolor": "white",
           "landcolor": "#E5ECF6",
           "showlakes": true,
           "showland": true,
           "subunitcolor": "white"
          },
          "hoverlabel": {
           "align": "left"
          },
          "hovermode": "closest",
          "mapbox": {
           "style": "light"
          },
          "paper_bgcolor": "white",
          "plot_bgcolor": "#E5ECF6",
          "polar": {
           "angularaxis": {
            "gridcolor": "white",
            "linecolor": "white",
            "ticks": ""
           },
           "bgcolor": "#E5ECF6",
           "radialaxis": {
            "gridcolor": "white",
            "linecolor": "white",
            "ticks": ""
           }
          },
          "scene": {
           "xaxis": {
            "backgroundcolor": "#E5ECF6",
            "gridcolor": "white",
            "gridwidth": 2,
            "linecolor": "white",
            "showbackground": true,
            "ticks": "",
            "zerolinecolor": "white"
           },
           "yaxis": {
            "backgroundcolor": "#E5ECF6",
            "gridcolor": "white",
            "gridwidth": 2,
            "linecolor": "white",
            "showbackground": true,
            "ticks": "",
            "zerolinecolor": "white"
           },
           "zaxis": {
            "backgroundcolor": "#E5ECF6",
            "gridcolor": "white",
            "gridwidth": 2,
            "linecolor": "white",
            "showbackground": true,
            "ticks": "",
            "zerolinecolor": "white"
           }
          },
          "shapedefaults": {
           "line": {
            "color": "#2a3f5f"
           }
          },
          "ternary": {
           "aaxis": {
            "gridcolor": "white",
            "linecolor": "white",
            "ticks": ""
           },
           "baxis": {
            "gridcolor": "white",
            "linecolor": "white",
            "ticks": ""
           },
           "bgcolor": "#E5ECF6",
           "caxis": {
            "gridcolor": "white",
            "linecolor": "white",
            "ticks": ""
           }
          },
          "title": {
           "x": 0.05
          },
          "xaxis": {
           "automargin": true,
           "gridcolor": "white",
           "linecolor": "white",
           "ticks": "",
           "title": {
            "standoff": 15
           },
           "zerolinecolor": "white",
           "zerolinewidth": 2
          },
          "yaxis": {
           "automargin": true,
           "gridcolor": "white",
           "linecolor": "white",
           "ticks": "",
           "title": {
            "standoff": 15
           },
           "zerolinecolor": "white",
           "zerolinewidth": 2
          }
         }
        },
        "title": {
         "text": "Correlation Matrix for Dataset 'b'"
        },
        "xaxis": {
         "anchor": "y",
         "constrain": "domain",
         "domain": [
          0,
          1
         ],
         "scaleanchor": "y"
        },
        "yaxis": {
         "anchor": "x",
         "autorange": "reversed",
         "constrain": "domain",
         "domain": [
          0,
          1
         ]
        }
       }
      }
     },
     "metadata": {},
     "output_type": "display_data"
    }
   ],
   "source": [
    "import plotly.express as px\n",
    "\n",
    "# compute normalization for arrays on all columns\n",
    "def normalize_columns(\n",
    "    comp_vals: np.array,\n",
    "    col_map: Dict, \n",
    "    **kwargs\n",
    ") -> Tuple[np.array, np.array]:\n",
    "    \"\"\"Normalize viable columns on array\n",
    "\n",
    "    Broadcast a normalization of features to numpy array containing data. \n",
    "    This normalized data can then be used for correlation analysis.\n",
    "    Args: \n",
    "        comp_vals (np.array) : Comparative values from derived dataset\n",
    "        col_map (Dict) : dictionary of column value names\n",
    "    Returns: \n",
    "\n",
    "    \"\"\"\n",
    "    # drop any columns if all zero\n",
    "    where_any = np.where(np.any(comp_vals, axis=0))[0]\n",
    "    # grab columns where sum is non zero\n",
    "    comp_vals = comp_vals[:, where_any]\n",
    "    col_map_slice = deepcopy(col_map)\n",
    "    # remove zero sum columns from \n",
    "    col_map = col_map[where_any]\n",
    "    # get max for each column \n",
    "    col_max = comp_vals.max(axis=0)\n",
    "    col_min = comp_vals.min(axis=0)\n",
    "    # find where max and min are equal\n",
    "    viable_dist = np.where(np.not_equal(col_max, col_min))[0]\n",
    "    comp_vals = comp_vals[:, viable_dist]\n",
    "    col_max = col_max[viable_dist]\n",
    "    col_min = col_min[viable_dist]\n",
    "    col_map = col_map[viable_dist]\n",
    "    # broadcast normalization\n",
    "    comp_dist_min = (comp_vals-col_min)\n",
    "    # convert from object type to float on final operation\n",
    "    comp_norm = comp_dist_min/(col_max-col_min)\n",
    "    logging.info(f\"shape of normalized array {comp_norm.shape}\")\n",
    "    return comp_norm, col_map\n",
    "\n",
    "\n",
    "a_norm, a_norm_cols = normalize_columns(a_comp_vals, a_col_map)\n",
    "b_norm, b_norm_cols = normalize_columns(b_comp_vals, b_col_map)\n",
    "# get pearson correlation matrix for each of the numeric values\n",
    "a_corr_coef = np.corrcoef(a_norm, rowvar=False)\n",
    "b_corr_coef = np.corrcoef(b_norm, rowvar=False)\n",
    "\n",
    "a_corr_df = pd.DataFrame(data=a_corr_coef, index=a_norm_cols, columns=a_norm_cols)\n",
    "b_corr_df = pd.DataFrame(data=b_corr_coef, index=b_norm_cols, columns=b_norm_cols)\n",
    "\n",
    "\n",
    "fig = px.imshow(a_corr_df, title=\"Correlation Matrix for Dataset 'a'\")\n",
    "fig.show()\n",
    "fig = px.imshow(b_corr_df, title=\"Correlation Matrix for Dataset 'b'\")\n",
    "fig.show()\n"
   ]
  },
  {
   "attachments": {},
   "cell_type": "markdown",
   "metadata": {},
   "source": [
    "## K-S Test for Distributional Similarity Between Columns\n",
    "\n",
    "Use the kolomogorov-smirnov 2-sample test to retrieve a D-statistic comparing features' hypothetical class distributions in the 'a' dataset to the 'b' dataset. This will allow us to parse out features that can be compared and used to join the two datasets."
   ]
  },
  {
   "cell_type": "code",
   "execution_count": 30,
   "metadata": {},
   "outputs": [],
   "source": [
    "def get_balance_distribution(\n",
    "    features: np.array\n",
    ") -> List: \n",
    "    \"\"\"Get the balance distribution for each feature in numpy array\n",
    "    \n",
    "    Args:\n",
    "        features (np.array) : feature set\n",
    "    Returns: \n",
    "        balance_distributions (List) : list of balance distributions for each column in array\n",
    "    \"\"\"\n",
    "    balance_distributions = []\n",
    "    for i in range(features.shape[1]):\n",
    "        feature = features[:, i]\n",
    "        # get unique values for feature\n",
    "        unique, counts = np.unique(feature, return_counts=True)\n",
    "        # get count for each unique value in array\n",
    "        counts = np.asarray((unique, counts)).T[:, 1]\n",
    "        # get count distribution\n",
    "        count_distribution = counts/sum(counts)\n",
    "        balance_distributions.append(count_distribution)\n",
    "    return balance_distributions\n",
    "    "
   ]
  },
  {
   "cell_type": "code",
   "execution_count": 31,
   "metadata": {},
   "outputs": [],
   "source": [
    "a_bd = get_balance_distribution(a_comp_vals)\n",
    "b_bd = get_balance_distribution(b_comp_vals)"
   ]
  },
  {
   "cell_type": "code",
   "execution_count": 32,
   "metadata": {},
   "outputs": [],
   "source": [
    "from scipy.stats import ks_2samp\n",
    "\n",
    "d_stat = np.zeros(shape=(len(a_bd), len(b_bd)))\n",
    "for i, a_dist in enumerate(a_bd):\n",
    "    for j, b_dist in enumerate(b_bd):\n",
    "        d_stat[i][j] = ks_2samp(a_dist,b_dist).statistic"
   ]
  },
  {
   "cell_type": "code",
   "execution_count": 33,
   "metadata": {},
   "outputs": [
    {
     "data": {
      "application/vnd.plotly.v1+json": {
       "config": {
        "plotlyServerURL": "https://plot.ly"
       },
       "data": [
        {
         "coloraxis": "coloraxis",
         "hovertemplate": "x: %{x}<br>y: %{y}<br>color: %{z}<extra></extra>",
         "name": "0",
         "type": "heatmap",
         "x": [
          "primary_sic_code_b__company",
          "industry_code_b__company",
          "sector_code_b__company",
          "zip_postal_code_b__company",
          "year_founded_b__company",
          "nace_code_b__company",
          "address_id_b__address",
          "location_postal_code_b__address",
          "tele_country_b__address",
          "tele_area_b__address",
          "tele_b__address",
          "fax_country_b__address",
          "fax_area_b__address",
          "fax_b__address",
          "hq_b__address"
         ],
         "xaxis": "x",
         "y": [
          "geo_id",
          "zipcode_a__geo",
          "latitude_a__geo",
          "longitude_a__geo",
          "elevation_a__geo",
          "area_code_a__geo",
          "county_fips_a__geo",
          "state_fips_a__geo",
          "timezone_a__geo",
          "congress_district_a__geo",
          "congress_land_area_a__geo",
          "parent_vendor_id_a__company",
          "top_vendor_id_a__company",
          "cnt_children_a__company",
          "orgtype_id_a__company",
          "phone_a__company",
          "dunsnumber_a__company",
          "zipcode_a__company",
          "parentdunsnumber_a__company",
          "score_a__company",
          "cnt_opp_a__company",
          "bucket_id_a__company",
          "lvl_a__company"
         ],
         "yaxis": "y",
         "z": [
          [
           -0.4862480238841487,
           -0.8863940194378352,
           -0.9997237569060774,
           -0.7246972812428604,
           -0.439735423483345,
           -0.6565664110948246,
           -0.999988219078025,
           -0.7383309759547383,
           -0.39868192580899764,
           -0.5633734939759036,
           -0.9901969851105151,
           -0.3856660527931247,
           -0.5750861644510094,
           -0.9939464948252295,
           -1
          ],
          [
           -0.4632973651214837,
           -0.8861438404868478,
           -0.9999238327366897,
           -0.7246972812428604,
           -0.43007808253721286,
           -0.6491667456837256,
           -0.999988219078025,
           -0.7383309759547383,
           -0.3946130158971959,
           -0.5633734939759036,
           -0.9901969851105151,
           -0.38159714288132296,
           -0.5750861644510094,
           -0.9939464948252295,
           -1
          ],
          [
           -0.4810203743722503,
           -0.8872192538408312,
           -0.9999287241625089,
           -0.7246972812428604,
           -0.4387456836598413,
           -0.6559951706983578,
           -0.999988219078025,
           -0.7383309759547383,
           -0.39907748701761525,
           -0.5633734939759036,
           -0.9901969851105151,
           -0.3860616140017423,
           -0.5750861644510094,
           -0.9939464948252295,
           -1
          ],
          [
           -0.4812254606521773,
           -0.8872943390475319,
           -0.9999287393999857,
           -0.7246972812428604,
           -0.4387743453537743,
           -0.6561606243010281,
           -0.999988219078025,
           -0.7383309759547383,
           -0.3990210829575185,
           -0.5633734939759036,
           -0.9901969851105151,
           -0.38600520994164556,
           -0.5750861644510094,
           -0.9939464948252295,
           -1
          ],
          [
           -0.06899867306452429,
           -0.6477344355215104,
           -0.975609756097561,
           -0.7688133225922222,
           -0.15048543689320387,
           -0.24909259682778848,
           -0.999988219078025,
           -0.7750182048056957,
           -0.22285714285714286,
           -0.5698974672586192,
           -0.9901969851105151,
           -0.24444444444444444,
           -0.5860419269289104,
           -0.9939464948252295,
           -1
          ],
          [
           -0.7389398070847698,
           -0.14663031688798991,
           -0.8714859437751004,
           -0.9420402652419134,
           -0.6359613210122042,
           -0.588796000327842,
           -0.999988219078025,
           -0.9430259936492789,
           -0.5561216293746414,
           -0.8366265060240964,
           -0.9948433333816167,
           -0.5653279785809906,
           -0.8450522918854146,
           -0.995642205612138,
           -0.9959839357429718
          ],
          [
           -0.3104104951333051,
           -0.41219870818673526,
           -0.7665140614780902,
           -0.801552589319908,
           -0.24551232800167633,
           -0.2102187637644986,
           -0.999988219078025,
           -0.8077574715333815,
           -0.22285714285714286,
           -0.6026367339863049,
           -0.9901969851105151,
           -0.24444444444444444,
           -0.6187811936565961,
           -0.9939464948252295,
           -1
          ],
          [
           -0.8869531755610361,
           -0.6054552439492893,
           -0.3620414673046252,
           -0.9622849103567692,
           -0.8353772781468234,
           -0.8216612960973864,
           -0.999988219078025,
           -0.9626727710365022,
           -0.7298245614035088,
           -0.9235595011625449,
           -0.9901969851105151,
           -0.7353801169590644,
           -0.9239161419057245,
           -0.9939464948252295,
           -1
          ],
          [
           -0.7743768693918245,
           -0.5102189781021897,
           -0.4090909090909091,
           -0.9631596984235778,
           -0.7466019417475728,
           -0.7326530612244898,
           -0.999988219078025,
           -0.96505186232909,
           -0.6285714285714286,
           -0.8653012048192771,
           -0.9995684207281359,
           -0.6333333333333333,
           -0.8709502708025603,
           -0.9999023628197617,
           -1
          ],
          [
           -0.7472854164778392,
           -0.21406768414067684,
           -0.6272727272727273,
           -0.9902330363262508,
           -0.6432480141218005,
           -0.5539888682745826,
           -0.999988219078025,
           -0.9912187647336163,
           -0.597922077922078,
           -0.8870098576122672,
           -0.9998458645457629,
           -0.6080808080808081,
           -0.8956895394118437,
           -0.9999511814098809,
           -0.9818181818181818
          ],
          [
           -0.6701457399363681,
           -0.3233627686182431,
           -0.9836829836829837,
           -0.9696106954503115,
           -0.5842555502749678,
           -0.47356453070738785,
           -0.999988219078025,
           -0.9710833720734711,
           -0.5523276723276723,
           -0.8327407532226809,
           -0.9965283953076425,
           -0.5635975135975136,
           -0.8398735680862712,
           -0.9973272675381638,
           -0.9976689976689976
          ],
          [
           -0.7619498166545894,
           -0.9523070247781292,
           -0.9995784148397976,
           -0.7246972812428604,
           -0.664860262938162,
           -0.8480486629727776,
           -0.999988219078025,
           -0.7383309759547383,
           -0.6223343772584919,
           -0.5633734939759036,
           -0.9901969851105151,
           -0.6028105677346824,
           -0.5750861644510094,
           -0.9939464948252295,
           -0.9997892074198989
          ],
          [
           -0.8721152493662538,
           -0.9836253902087918,
           -0.9999563261562651,
           -0.7246972812428604,
           -0.7884294136694607,
           -0.919501827022463,
           -0.999988219078025,
           -0.7383309759547383,
           -0.7160577077055218,
           -0.5633734939759036,
           -0.9901969851105151,
           -0.6944704061182202,
           -0.5750861644510094,
           -0.9939464948252295,
           -1
          ],
          [
           -0.39530058473228963,
           -0.708621029788913,
           -0.918918918918919,
           -0.7246972812428604,
           -0.3067436368407242,
           -0.5185328185328185,
           -0.999988219078025,
           -0.7383309759547383,
           -0.26733590733590734,
           -0.5633734939759036,
           -0.9901969851105151,
           -0.2493993993993994,
           -0.5750861644510094,
           -0.9939464948252295,
           -0.972972972972973
          ],
          [
           -0.4551345962113659,
           -0.3905109489051095,
           -0.625,
           -0.8381596984235778,
           -0.3786407766990291,
           -0.3836734693877551,
           -0.999988219078025,
           -0.84005186232909,
           -0.3407142857142857,
           -0.650421686746988,
           -0.9901969851105151,
           -0.3416666666666667,
           -0.6549113737075333,
           -0.9939464948252295,
           -0.875
          ],
          [
           -0.8686549442581347,
           -0.9843105507631055,
           -0.9998181818181818,
           -0.7246972812428604,
           -0.7849691085613416,
           -0.9249350649350649,
           -0.999988219078025,
           -0.7383309759547383,
           -0.7125974025974026,
           -0.5633734939759036,
           -0.9901969851105151,
           -0.691010101010101,
           -0.5750861644510094,
           -0.9939464948252295,
           -0.9998181818181818
          ],
          [
           -0.8775431164353891,
           -0.9853633122992729,
           -0.9999618524452583,
           -0.7246972812428604,
           -0.793857280738596,
           -0.9285332810166869,
           -0.999988219078025,
           -0.7383309759547383,
           -0.7214855747746569,
           -0.5633734939759036,
           -0.9901969851105151,
           -0.6998982731873553,
           -0.5750861644510094,
           -0.9939464948252295,
           -0.9999618524452583
          ],
          [
           -0.47309622832275633,
           -0.884781531333247,
           -0.9999322401409405,
           -0.7246972812428604,
           -0.4311974285462418,
           -0.64949650276156,
           -0.999988219078025,
           -0.7383309759547383,
           -0.39369678431068855,
           -0.5633734939759036,
           -0.9901969851105151,
           -0.3806809112948156,
           -0.5750861644510094,
           -0.9939464948252295,
           -1
          ],
          [
           -0.8245902063822662,
           -0.9820881041068041,
           -0.9999025483603762,
           -0.7246972812428604,
           -0.71512733286689,
           -0.9106890527004545,
           -0.999988219078025,
           -0.7383309759547383,
           -0.6849747669861688,
           -0.5633734939759036,
           -0.9901969851105151,
           -0.6654509574623593,
           -0.5750861644510094,
           -0.9939464948252295,
           -0.999951274180188
          ],
          [
           -0.9053385298649506,
           -0.7377571333775713,
           -0.3181818181818182,
           -0.9452831952146551,
           -0.9224183583406884,
           -0.8823747680890538,
           -0.999988219078025,
           -0.9458970897089709,
           -0.7901298701298701,
           -0.9290690032858707,
           -0.9988593976386448,
           -0.793939393939394,
           -0.9336377064589768,
           -0.9996582698691662,
           -1
          ],
          [
           -1,
           -1,
           -1,
           -1,
           -1,
           -1,
           -1,
           -1,
           -1,
           -1,
           -1,
           -1,
           -1,
           -1,
           -1
          ],
          [
           -0.9910269192422732,
           -0.9124087591240876,
           -0.6363636363636364,
           -0.9999428832533699,
           -0.9951456310679612,
           -0.9816326530612245,
           -0.999988219078025,
           -0.999941065535125,
           -0.9428571428571428,
           -0.9995180722891567,
           -0.9999691729091525,
           -0.9444444444444444,
           -0.999507631708518,
           -0.9999511814098809,
           -1
          ],
          [
           -0.5911016949152542,
           -0.4051094890510949,
           -0.5,
           -0.8986748914781814,
           -0.5716019417475728,
           -0.5596938775510204,
           -0.999988219078025,
           -0.9048797736916548,
           -0.4592857142857143,
           -0.6997590361445784,
           -0.9988593976386448,
           -0.4638888888888889,
           -0.7159034958148696,
           -0.9996582698691662,
           -0.875
          ]
         ]
        }
       ],
       "layout": {
        "coloraxis": {
         "colorscale": [
          [
           0,
           "#0d0887"
          ],
          [
           0.1111111111111111,
           "#46039f"
          ],
          [
           0.2222222222222222,
           "#7201a8"
          ],
          [
           0.3333333333333333,
           "#9c179e"
          ],
          [
           0.4444444444444444,
           "#bd3786"
          ],
          [
           0.5555555555555556,
           "#d8576b"
          ],
          [
           0.6666666666666666,
           "#ed7953"
          ],
          [
           0.7777777777777778,
           "#fb9f3a"
          ],
          [
           0.8888888888888888,
           "#fdca26"
          ],
          [
           1,
           "#f0f921"
          ]
         ]
        },
        "template": {
         "data": {
          "bar": [
           {
            "error_x": {
             "color": "#2a3f5f"
            },
            "error_y": {
             "color": "#2a3f5f"
            },
            "marker": {
             "line": {
              "color": "#E5ECF6",
              "width": 0.5
             },
             "pattern": {
              "fillmode": "overlay",
              "size": 10,
              "solidity": 0.2
             }
            },
            "type": "bar"
           }
          ],
          "barpolar": [
           {
            "marker": {
             "line": {
              "color": "#E5ECF6",
              "width": 0.5
             },
             "pattern": {
              "fillmode": "overlay",
              "size": 10,
              "solidity": 0.2
             }
            },
            "type": "barpolar"
           }
          ],
          "carpet": [
           {
            "aaxis": {
             "endlinecolor": "#2a3f5f",
             "gridcolor": "white",
             "linecolor": "white",
             "minorgridcolor": "white",
             "startlinecolor": "#2a3f5f"
            },
            "baxis": {
             "endlinecolor": "#2a3f5f",
             "gridcolor": "white",
             "linecolor": "white",
             "minorgridcolor": "white",
             "startlinecolor": "#2a3f5f"
            },
            "type": "carpet"
           }
          ],
          "choropleth": [
           {
            "colorbar": {
             "outlinewidth": 0,
             "ticks": ""
            },
            "type": "choropleth"
           }
          ],
          "contour": [
           {
            "colorbar": {
             "outlinewidth": 0,
             "ticks": ""
            },
            "colorscale": [
             [
              0,
              "#0d0887"
             ],
             [
              0.1111111111111111,
              "#46039f"
             ],
             [
              0.2222222222222222,
              "#7201a8"
             ],
             [
              0.3333333333333333,
              "#9c179e"
             ],
             [
              0.4444444444444444,
              "#bd3786"
             ],
             [
              0.5555555555555556,
              "#d8576b"
             ],
             [
              0.6666666666666666,
              "#ed7953"
             ],
             [
              0.7777777777777778,
              "#fb9f3a"
             ],
             [
              0.8888888888888888,
              "#fdca26"
             ],
             [
              1,
              "#f0f921"
             ]
            ],
            "type": "contour"
           }
          ],
          "contourcarpet": [
           {
            "colorbar": {
             "outlinewidth": 0,
             "ticks": ""
            },
            "type": "contourcarpet"
           }
          ],
          "heatmap": [
           {
            "colorbar": {
             "outlinewidth": 0,
             "ticks": ""
            },
            "colorscale": [
             [
              0,
              "#0d0887"
             ],
             [
              0.1111111111111111,
              "#46039f"
             ],
             [
              0.2222222222222222,
              "#7201a8"
             ],
             [
              0.3333333333333333,
              "#9c179e"
             ],
             [
              0.4444444444444444,
              "#bd3786"
             ],
             [
              0.5555555555555556,
              "#d8576b"
             ],
             [
              0.6666666666666666,
              "#ed7953"
             ],
             [
              0.7777777777777778,
              "#fb9f3a"
             ],
             [
              0.8888888888888888,
              "#fdca26"
             ],
             [
              1,
              "#f0f921"
             ]
            ],
            "type": "heatmap"
           }
          ],
          "heatmapgl": [
           {
            "colorbar": {
             "outlinewidth": 0,
             "ticks": ""
            },
            "colorscale": [
             [
              0,
              "#0d0887"
             ],
             [
              0.1111111111111111,
              "#46039f"
             ],
             [
              0.2222222222222222,
              "#7201a8"
             ],
             [
              0.3333333333333333,
              "#9c179e"
             ],
             [
              0.4444444444444444,
              "#bd3786"
             ],
             [
              0.5555555555555556,
              "#d8576b"
             ],
             [
              0.6666666666666666,
              "#ed7953"
             ],
             [
              0.7777777777777778,
              "#fb9f3a"
             ],
             [
              0.8888888888888888,
              "#fdca26"
             ],
             [
              1,
              "#f0f921"
             ]
            ],
            "type": "heatmapgl"
           }
          ],
          "histogram": [
           {
            "marker": {
             "pattern": {
              "fillmode": "overlay",
              "size": 10,
              "solidity": 0.2
             }
            },
            "type": "histogram"
           }
          ],
          "histogram2d": [
           {
            "colorbar": {
             "outlinewidth": 0,
             "ticks": ""
            },
            "colorscale": [
             [
              0,
              "#0d0887"
             ],
             [
              0.1111111111111111,
              "#46039f"
             ],
             [
              0.2222222222222222,
              "#7201a8"
             ],
             [
              0.3333333333333333,
              "#9c179e"
             ],
             [
              0.4444444444444444,
              "#bd3786"
             ],
             [
              0.5555555555555556,
              "#d8576b"
             ],
             [
              0.6666666666666666,
              "#ed7953"
             ],
             [
              0.7777777777777778,
              "#fb9f3a"
             ],
             [
              0.8888888888888888,
              "#fdca26"
             ],
             [
              1,
              "#f0f921"
             ]
            ],
            "type": "histogram2d"
           }
          ],
          "histogram2dcontour": [
           {
            "colorbar": {
             "outlinewidth": 0,
             "ticks": ""
            },
            "colorscale": [
             [
              0,
              "#0d0887"
             ],
             [
              0.1111111111111111,
              "#46039f"
             ],
             [
              0.2222222222222222,
              "#7201a8"
             ],
             [
              0.3333333333333333,
              "#9c179e"
             ],
             [
              0.4444444444444444,
              "#bd3786"
             ],
             [
              0.5555555555555556,
              "#d8576b"
             ],
             [
              0.6666666666666666,
              "#ed7953"
             ],
             [
              0.7777777777777778,
              "#fb9f3a"
             ],
             [
              0.8888888888888888,
              "#fdca26"
             ],
             [
              1,
              "#f0f921"
             ]
            ],
            "type": "histogram2dcontour"
           }
          ],
          "mesh3d": [
           {
            "colorbar": {
             "outlinewidth": 0,
             "ticks": ""
            },
            "type": "mesh3d"
           }
          ],
          "parcoords": [
           {
            "line": {
             "colorbar": {
              "outlinewidth": 0,
              "ticks": ""
             }
            },
            "type": "parcoords"
           }
          ],
          "pie": [
           {
            "automargin": true,
            "type": "pie"
           }
          ],
          "scatter": [
           {
            "fillpattern": {
             "fillmode": "overlay",
             "size": 10,
             "solidity": 0.2
            },
            "type": "scatter"
           }
          ],
          "scatter3d": [
           {
            "line": {
             "colorbar": {
              "outlinewidth": 0,
              "ticks": ""
             }
            },
            "marker": {
             "colorbar": {
              "outlinewidth": 0,
              "ticks": ""
             }
            },
            "type": "scatter3d"
           }
          ],
          "scattercarpet": [
           {
            "marker": {
             "colorbar": {
              "outlinewidth": 0,
              "ticks": ""
             }
            },
            "type": "scattercarpet"
           }
          ],
          "scattergeo": [
           {
            "marker": {
             "colorbar": {
              "outlinewidth": 0,
              "ticks": ""
             }
            },
            "type": "scattergeo"
           }
          ],
          "scattergl": [
           {
            "marker": {
             "colorbar": {
              "outlinewidth": 0,
              "ticks": ""
             }
            },
            "type": "scattergl"
           }
          ],
          "scattermapbox": [
           {
            "marker": {
             "colorbar": {
              "outlinewidth": 0,
              "ticks": ""
             }
            },
            "type": "scattermapbox"
           }
          ],
          "scatterpolar": [
           {
            "marker": {
             "colorbar": {
              "outlinewidth": 0,
              "ticks": ""
             }
            },
            "type": "scatterpolar"
           }
          ],
          "scatterpolargl": [
           {
            "marker": {
             "colorbar": {
              "outlinewidth": 0,
              "ticks": ""
             }
            },
            "type": "scatterpolargl"
           }
          ],
          "scatterternary": [
           {
            "marker": {
             "colorbar": {
              "outlinewidth": 0,
              "ticks": ""
             }
            },
            "type": "scatterternary"
           }
          ],
          "surface": [
           {
            "colorbar": {
             "outlinewidth": 0,
             "ticks": ""
            },
            "colorscale": [
             [
              0,
              "#0d0887"
             ],
             [
              0.1111111111111111,
              "#46039f"
             ],
             [
              0.2222222222222222,
              "#7201a8"
             ],
             [
              0.3333333333333333,
              "#9c179e"
             ],
             [
              0.4444444444444444,
              "#bd3786"
             ],
             [
              0.5555555555555556,
              "#d8576b"
             ],
             [
              0.6666666666666666,
              "#ed7953"
             ],
             [
              0.7777777777777778,
              "#fb9f3a"
             ],
             [
              0.8888888888888888,
              "#fdca26"
             ],
             [
              1,
              "#f0f921"
             ]
            ],
            "type": "surface"
           }
          ],
          "table": [
           {
            "cells": {
             "fill": {
              "color": "#EBF0F8"
             },
             "line": {
              "color": "white"
             }
            },
            "header": {
             "fill": {
              "color": "#C8D4E3"
             },
             "line": {
              "color": "white"
             }
            },
            "type": "table"
           }
          ]
         },
         "layout": {
          "annotationdefaults": {
           "arrowcolor": "#2a3f5f",
           "arrowhead": 0,
           "arrowwidth": 1
          },
          "autotypenumbers": "strict",
          "coloraxis": {
           "colorbar": {
            "outlinewidth": 0,
            "ticks": ""
           }
          },
          "colorscale": {
           "diverging": [
            [
             0,
             "#8e0152"
            ],
            [
             0.1,
             "#c51b7d"
            ],
            [
             0.2,
             "#de77ae"
            ],
            [
             0.3,
             "#f1b6da"
            ],
            [
             0.4,
             "#fde0ef"
            ],
            [
             0.5,
             "#f7f7f7"
            ],
            [
             0.6,
             "#e6f5d0"
            ],
            [
             0.7,
             "#b8e186"
            ],
            [
             0.8,
             "#7fbc41"
            ],
            [
             0.9,
             "#4d9221"
            ],
            [
             1,
             "#276419"
            ]
           ],
           "sequential": [
            [
             0,
             "#0d0887"
            ],
            [
             0.1111111111111111,
             "#46039f"
            ],
            [
             0.2222222222222222,
             "#7201a8"
            ],
            [
             0.3333333333333333,
             "#9c179e"
            ],
            [
             0.4444444444444444,
             "#bd3786"
            ],
            [
             0.5555555555555556,
             "#d8576b"
            ],
            [
             0.6666666666666666,
             "#ed7953"
            ],
            [
             0.7777777777777778,
             "#fb9f3a"
            ],
            [
             0.8888888888888888,
             "#fdca26"
            ],
            [
             1,
             "#f0f921"
            ]
           ],
           "sequentialminus": [
            [
             0,
             "#0d0887"
            ],
            [
             0.1111111111111111,
             "#46039f"
            ],
            [
             0.2222222222222222,
             "#7201a8"
            ],
            [
             0.3333333333333333,
             "#9c179e"
            ],
            [
             0.4444444444444444,
             "#bd3786"
            ],
            [
             0.5555555555555556,
             "#d8576b"
            ],
            [
             0.6666666666666666,
             "#ed7953"
            ],
            [
             0.7777777777777778,
             "#fb9f3a"
            ],
            [
             0.8888888888888888,
             "#fdca26"
            ],
            [
             1,
             "#f0f921"
            ]
           ]
          },
          "colorway": [
           "#636efa",
           "#EF553B",
           "#00cc96",
           "#ab63fa",
           "#FFA15A",
           "#19d3f3",
           "#FF6692",
           "#B6E880",
           "#FF97FF",
           "#FECB52"
          ],
          "font": {
           "color": "#2a3f5f"
          },
          "geo": {
           "bgcolor": "white",
           "lakecolor": "white",
           "landcolor": "#E5ECF6",
           "showlakes": true,
           "showland": true,
           "subunitcolor": "white"
          },
          "hoverlabel": {
           "align": "left"
          },
          "hovermode": "closest",
          "mapbox": {
           "style": "light"
          },
          "paper_bgcolor": "white",
          "plot_bgcolor": "#E5ECF6",
          "polar": {
           "angularaxis": {
            "gridcolor": "white",
            "linecolor": "white",
            "ticks": ""
           },
           "bgcolor": "#E5ECF6",
           "radialaxis": {
            "gridcolor": "white",
            "linecolor": "white",
            "ticks": ""
           }
          },
          "scene": {
           "xaxis": {
            "backgroundcolor": "#E5ECF6",
            "gridcolor": "white",
            "gridwidth": 2,
            "linecolor": "white",
            "showbackground": true,
            "ticks": "",
            "zerolinecolor": "white"
           },
           "yaxis": {
            "backgroundcolor": "#E5ECF6",
            "gridcolor": "white",
            "gridwidth": 2,
            "linecolor": "white",
            "showbackground": true,
            "ticks": "",
            "zerolinecolor": "white"
           },
           "zaxis": {
            "backgroundcolor": "#E5ECF6",
            "gridcolor": "white",
            "gridwidth": 2,
            "linecolor": "white",
            "showbackground": true,
            "ticks": "",
            "zerolinecolor": "white"
           }
          },
          "shapedefaults": {
           "line": {
            "color": "#2a3f5f"
           }
          },
          "ternary": {
           "aaxis": {
            "gridcolor": "white",
            "linecolor": "white",
            "ticks": ""
           },
           "baxis": {
            "gridcolor": "white",
            "linecolor": "white",
            "ticks": ""
           },
           "bgcolor": "#E5ECF6",
           "caxis": {
            "gridcolor": "white",
            "linecolor": "white",
            "ticks": ""
           }
          },
          "title": {
           "x": 0.05
          },
          "xaxis": {
           "automargin": true,
           "gridcolor": "white",
           "linecolor": "white",
           "ticks": "",
           "title": {
            "standoff": 15
           },
           "zerolinecolor": "white",
           "zerolinewidth": 2
          },
          "yaxis": {
           "automargin": true,
           "gridcolor": "white",
           "linecolor": "white",
           "ticks": "",
           "title": {
            "standoff": 15
           },
           "zerolinecolor": "white",
           "zerolinewidth": 2
          }
         }
        },
        "title": {
         "text": "Kolmogorov-Smirnov 2-sample Distributional Similarity Heatmap"
        },
        "xaxis": {
         "anchor": "y",
         "constrain": "domain",
         "domain": [
          0,
          1
         ],
         "scaleanchor": "y"
        },
        "yaxis": {
         "anchor": "x",
         "autorange": "reversed",
         "constrain": "domain",
         "domain": [
          0,
          1
         ]
        }
       }
      }
     },
     "metadata": {},
     "output_type": "display_data"
    }
   ],
   "source": [
    "import plotly.express as px\n",
    "\n",
    "stat_df = pd.DataFrame(data = -d_stat, index=a_col_map, columns=b_col_map)\n",
    "stat_df.to_csv(\"../data/artifacts/ks_stat_df.csv\", index=False)\n",
    "fig = px.imshow(stat_df, title=\"Kolmogorov-Smirnov 2-sample Distributional Similarity Heatmap\")\n",
    "fig.show()"
   ]
  }
 ],
 "metadata": {
  "kernelspec": {
   "display_name": "Python 3.8.16 ('govini')",
   "language": "python",
   "name": "python3"
  },
  "language_info": {
   "codemirror_mode": {
    "name": "ipython",
    "version": 3
   },
   "file_extension": ".py",
   "mimetype": "text/x-python",
   "name": "python",
   "nbconvert_exporter": "python",
   "pygments_lexer": "ipython3",
   "version": "3.8.16"
  },
  "orig_nbformat": 4,
  "vscode": {
   "interpreter": {
    "hash": "7a700d818d873106691bc02df9e21480cbb93cfe612ce0959de7b716bc87aafb"
   }
  }
 },
 "nbformat": 4,
 "nbformat_minor": 2
}
