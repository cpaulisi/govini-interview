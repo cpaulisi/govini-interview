{
 "cells": [
  {
   "attachments": {},
   "cell_type": "markdown",
   "metadata": {},
   "source": [
    "# Extraction and EDA\n",
    "\n",
    "This notebook extracts the data and performs analysis to test for feature availability."
   ]
  },
  {
   "cell_type": "code",
   "execution_count": 1,
   "metadata": {},
   "outputs": [
    {
     "name": "stderr",
     "output_type": "stream",
     "text": [
      "INFO:root:Filepaths: ['../data/data/a__geo.csv', '../data/data/a__company.csv']\n",
      "INFO:root:Reading ../data/data/a__geo.csv into key a__geo\n",
      "INFO:root:Reading ../data/data/a__company.csv into key a__company\n",
      "INFO:root:Filepaths: ['../data/data/b__company.csv', '../data/data/b__hierarchy.csv', '../data/data/b__address.csv']\n",
      "INFO:root:Reading ../data/data/b__company.csv into key b__company\n",
      "INFO:root:Reading ../data/data/b__hierarchy.csv into key b__hierarchy\n",
      "INFO:root:Reading ../data/data/b__address.csv into key b__address\n",
      "/var/folders/vn/k48mm0r10wn2dfq08pnrlbtc0000gn/T/ipykernel_49663/3202556339.py:34: DtypeWarning: Columns (11,15) have mixed types. Specify dtype option on import or set low_memory=False.\n",
      "  file_d[fname_abbr] = pd.read_csv(f)\n",
      "INFO:root:Merging values of dict_keys(['a__geo', 'a__company'])\n",
      "INFO:root:Merging values of dict_keys(['b__company', 'b__hierarchy', 'b__address'])\n"
     ]
    }
   ],
   "source": [
    "import os\n",
    "import glob\n",
    "from typing import Dict, Union, List\n",
    "import logging\n",
    "from functools import reduce\n",
    "from copy import deepcopy\n",
    "import pandas as pd\n",
    "import numpy as np\n",
    "import re, string\n",
    "from pandas.core.tools.datetimes import _guess_datetime_format_for_array\n",
    "\n",
    "# set logger level\n",
    "logging.basicConfig(level=logging.DEBUG)\n",
    "\n",
    "def data_into_dict(\n",
    "        filepath: Union[str, List], \n",
    ") -> Dict[str, pd.DataFrame]:   \n",
    "    \"\"\"Read data from paths into dictionary values\n",
    "    This is an example of Google style.\n",
    "\n",
    "    Args:\n",
    "        filepath (Union[str, List]) : string literal of list of strings pointing to files for io\n",
    "    Returns:\n",
    "        file_d: dictionary of files as dataframes, with key as filename abbreviation\n",
    "    \"\"\"\n",
    "    logging.info(f\"Filepaths: {filepath}\")\n",
    "    # create file dictionary\n",
    "    file_d = dict()\n",
    "    for f in filepath:\n",
    "        # get abbreviation for key\n",
    "        fname_abbr =  os.path.split(f)[1].split(\".\")[0]\n",
    "        logging.info(f\"Reading {f} into key {fname_abbr}\")\n",
    "        # read dataframe into value\n",
    "        file_d[fname_abbr] = pd.read_csv(f)\n",
    "    return file_d\n",
    "\n",
    "\n",
    "# read in data from dir\n",
    "data_path = \"../data/data/\"\n",
    "# group filenames by prefix\n",
    "a_files = data_into_dict(glob.glob(os.path.join(data_path, \"a__*\")))\n",
    "b_files = data_into_dict(glob.glob(os.path.join(data_path, \"b__*\")))\n",
    "\n",
    "# consolidate dataframe groups into merged structure \n",
    "def merge_all_frames(\n",
    "    frames: Dict, \n",
    "    on: str, \n",
    "    how: str, \n",
    "    rename_exclusions: List=[]\n",
    ") -> pd.DataFrame:\n",
    "    \"\"\"Merge all frames in list into single dataframe \n",
    "\n",
    "    Args:\n",
    "        frames (Dict) : dict of dfs with frame values to merge into single frame\n",
    "        on (str) : column to merge on \n",
    "        how (str) : merge type\n",
    "        rename (List) : list of columns to not rename\n",
    "    Returns:\n",
    "        frame_merged (pd.DataFrame): merged dataframe\n",
    "    \"\"\"\n",
    "    frames = deepcopy(frames)\n",
    "    # append df key names to columns to resolve conflicts in col names\n",
    "    for frame in frames.items(): \n",
    "        frames[frame[0]] = frame[1].rename({col:f\"{col}_{frame[0]}\" \\\n",
    "            for col in frame[1] if (col!=on) and (col not in rename_exclusions)}, axis=1)\n",
    "\n",
    "    # merge frames and set key value as conflicting column suffixes\n",
    "    logging.info(f\"Merging values of {frames.keys()}\")\n",
    "    frame_merged = reduce(\n",
    "                lambda  left,right: pd.merge(left,right,on=[on],how=how), frames.values()\n",
    "            )\n",
    "        \n",
    "    return frame_merged\n",
    "\n",
    "a_frame = merge_all_frames(a_files, on=\"geo_id\", how='outer', rename_exclusions=['vendor_id'])\n",
    "b_frame = merge_all_frames(b_files, on=\"b_entity_id\", how='outer')\n",
    "\n",
    "a_frame = a_frame.set_index(\"vendor_id\").reset_index()\n",
    "b_frame = b_frame.set_index(\"b_entity_id\").reset_index()"
   ]
  },
  {
   "cell_type": "code",
   "execution_count": 2,
   "metadata": {},
   "outputs": [
    {
     "name": "stderr",
     "output_type": "stream",
     "text": [
      "INFO:root:Pointing to column in position 0\n",
      "INFO:root:Column vendor_id excluded.\n",
      "INFO:root:Pointing to column in position 1\n",
      "INFO:root:Working compression on column geo_id\n",
      "INFO:root:Numeric proportion for geo_id: 1.0\n",
      "INFO:root:Converted column geo_id into Int64 type.\n",
      "INFO:root:Pointing to column in position 2\n",
      "INFO:root:Working compression on column zipcode_a__geo\n",
      "INFO:root:Numeric proportion for zipcode_a__geo: 0.9727074016884913\n",
      "INFO:root:Converted column zipcode_a__geo into Int64 type.\n",
      "INFO:root:Pointing to column in position 3\n",
      "INFO:root:Working compression on column is_primary_a__geo\n",
      "INFO:root:Numeric proportion for is_primary_a__geo: 0\n",
      "INFO:root:Converted column is_primary_a__geo into string type.\n",
      "INFO:root:Pointing to column in position 4\n",
      "INFO:root:Working compression on column latitude_a__geo\n",
      "INFO:root:Numeric proportion for latitude_a__geo: 0.9878210806023029\n",
      "INFO:root:Converted column latitude_a__geo into float type.\n",
      "INFO:root:Pointing to column in position 5\n",
      "INFO:root:Working compression on column longitude_a__geo\n",
      "INFO:root:Numeric proportion for longitude_a__geo: 0.9878210806023029\n",
      "INFO:root:Converted column longitude_a__geo into float type.\n",
      "INFO:root:Pointing to column in position 6\n",
      "INFO:root:Working compression on column elevation_a__geo\n",
      "INFO:root:Numeric proportion for elevation_a__geo: 1.0\n",
      "INFO:root:Converted column elevation_a__geo into Int64 type.\n",
      "INFO:root:Pointing to column in position 7\n",
      "INFO:root:Working compression on column state_a__geo\n",
      "INFO:root:Numeric proportion for state_a__geo: 0\n",
      "INFO:root:Converted column state_a__geo into string type.\n",
      "INFO:root:Pointing to column in position 8\n",
      "INFO:root:Working compression on column state_full_name_a__geo\n",
      "INFO:root:Numeric proportion for state_full_name_a__geo: 0\n",
      "INFO:root:Converted column state_full_name_a__geo into string type.\n",
      "INFO:root:Pointing to column in position 9\n",
      "INFO:root:Working compression on column area_code_a__geo\n",
      "INFO:root:Numeric proportion for area_code_a__geo: 0.6657943473709639\n",
      "INFO:root:Converted column area_code_a__geo into Int64 type.\n",
      "INFO:root:Pointing to column in position 10\n",
      "INFO:root:Working compression on column city_a__geo\n",
      "INFO:root:Numeric proportion for city_a__geo: 0\n",
      "INFO:root:Converted column city_a__geo into string type.\n",
      "INFO:root:Pointing to column in position 11\n",
      "INFO:root:Working compression on column city_display_a__geo\n",
      "INFO:root:Numeric proportion for city_display_a__geo: 0\n",
      "INFO:root:Converted column city_display_a__geo into string type.\n",
      "INFO:root:Pointing to column in position 12\n",
      "INFO:root:Working compression on column county_a__geo\n",
      "INFO:root:Numeric proportion for county_a__geo: 0\n",
      "INFO:root:Converted column county_a__geo into string type.\n",
      "INFO:root:Pointing to column in position 13\n",
      "INFO:root:Working compression on column county_fips_a__geo\n",
      "INFO:root:Numeric proportion for county_fips_a__geo: 0.9874761944191438\n",
      "INFO:root:Converted column county_fips_a__geo into Int64 type.\n",
      "INFO:root:Pointing to column in position 14\n",
      "INFO:root:Working compression on column state_fips_a__geo\n",
      "INFO:root:Numeric proportion for state_fips_a__geo: 0.9604179669411504\n",
      "INFO:root:Converted column state_fips_a__geo into Int64 type.\n",
      "INFO:root:Pointing to column in position 15\n",
      "INFO:root:Working compression on column timezone_a__geo\n",
      "INFO:root:Numeric proportion for timezone_a__geo: 1.0\n",
      "INFO:root:Converted column timezone_a__geo into Int64 type.\n",
      "INFO:root:Pointing to column in position 16\n",
      "INFO:root:Working compression on column daylight_saving_a__geo\n",
      "INFO:root:Numeric proportion for daylight_saving_a__geo: 0\n",
      "INFO:root:Converted column daylight_saving_a__geo into string type.\n",
      "INFO:root:Pointing to column in position 17\n",
      "INFO:root:Working compression on column region_a__geo\n",
      "INFO:root:Numeric proportion for region_a__geo: 0\n",
      "INFO:root:Converted column region_a__geo into string type.\n",
      "INFO:root:Pointing to column in position 18\n",
      "INFO:root:Working compression on column division_a__geo\n",
      "INFO:root:Numeric proportion for division_a__geo: 0\n",
      "INFO:root:Converted column division_a__geo into string type.\n",
      "INFO:root:Pointing to column in position 19\n",
      "INFO:root:Working compression on column congress_district_a__geo\n",
      "INFO:root:Numeric proportion for congress_district_a__geo: 0.6447187634177759\n",
      "INFO:root:Converted column congress_district_a__geo into Int64 type.\n",
      "INFO:root:Pointing to column in position 20\n",
      "INFO:root:Working compression on column congress_land_area_a__geo\n",
      "INFO:root:Numeric proportion for congress_land_area_a__geo: 0.6447187634177759\n",
      "INFO:root:Converted column congress_land_area_a__geo into float type.\n",
      "INFO:root:Pointing to column in position 21\n",
      "INFO:root:Working compression on column country_a__geo\n",
      "INFO:root:Numeric proportion for country_a__geo: 0\n",
      "INFO:root:Converted column country_a__geo into string type.\n",
      "INFO:root:Pointing to column in position 22\n",
      "INFO:root:Working compression on column continent_a__geo\n",
      "INFO:root:Numeric proportion for continent_a__geo: 0\n",
      "INFO:root:Converted column continent_a__geo into string type.\n",
      "INFO:root:Pointing to column in position 23\n",
      "INFO:root:Working compression on column country_iso2_a__geo\n",
      "INFO:root:Numeric proportion for country_iso2_a__geo: 0\n",
      "INFO:root:Converted column country_iso2_a__geo into string type.\n",
      "INFO:root:Pointing to column in position 24\n",
      "INFO:root:Working compression on column parent_vendor_id_a__company\n",
      "INFO:root:Numeric proportion for parent_vendor_id_a__company: 1.0\n",
      "INFO:root:Converted column parent_vendor_id_a__company into Int64 type.\n",
      "INFO:root:Pointing to column in position 25\n",
      "INFO:root:Working compression on column top_vendor_id_a__company\n",
      "INFO:root:Numeric proportion for top_vendor_id_a__company: 1.0\n",
      "INFO:root:Converted column top_vendor_id_a__company into Int64 type.\n",
      "INFO:root:Pointing to column in position 26\n",
      "INFO:root:Working compression on column cnt_children_a__company\n",
      "INFO:root:Numeric proportion for cnt_children_a__company: 1.0\n",
      "INFO:root:Converted column cnt_children_a__company into Int64 type.\n",
      "INFO:root:Pointing to column in position 27\n",
      "INFO:root:Working compression on column orgtype_id_a__company\n",
      "INFO:root:Numeric proportion for orgtype_id_a__company: 1.0\n",
      "INFO:root:Converted column orgtype_id_a__company into Int64 type.\n",
      "INFO:root:Pointing to column in position 28\n",
      "INFO:root:Working compression on column name_a__company\n",
      "INFO:root:Numeric proportion for name_a__company: 0\n",
      "INFO:root:Converted column name_a__company into string type.\n",
      "INFO:root:Pointing to column in position 29\n",
      "INFO:root:Working compression on column email_a__company\n",
      "INFO:root:Numeric proportion for email_a__company: 0\n",
      "INFO:root:Converted column email_a__company into string type.\n",
      "INFO:root:Pointing to column in position 30\n",
      "INFO:root:Working compression on column phone_a__company\n",
      "INFO:root:Numeric proportion for phone_a__company: 0.8870022539444027\n",
      "INFO:root:Converted column phone_a__company into float type.\n",
      "INFO:root:Pointing to column in position 31\n",
      "INFO:root:Working compression on column fax_a__company\n",
      "INFO:root:Numeric proportion for fax_a__company: 0\n",
      "INFO:root:Converted column fax_a__company into string type.\n",
      "INFO:root:Pointing to column in position 32\n",
      "INFO:root:Working compression on column dunsnumber_a__company\n",
      "INFO:root:Numeric proportion for dunsnumber_a__company: 0.9999638793570526\n",
      "INFO:root:Converted column dunsnumber_a__company into Int64 type.\n",
      "INFO:root:Pointing to column in position 33\n",
      "INFO:root:Working compression on column websiteurl_a__company\n",
      "INFO:root:Numeric proportion for websiteurl_a__company: 0\n",
      "INFO:root:Converted column websiteurl_a__company into string type.\n",
      "INFO:root:Pointing to column in position 34\n",
      "INFO:root:Working compression on column address_a__company\n",
      "INFO:root:Numeric proportion for address_a__company: 0\n",
      "INFO:root:Converted column address_a__company into string type.\n",
      "INFO:root:Pointing to column in position 35\n",
      "INFO:root:Working compression on column address1_a__company\n",
      "INFO:root:Numeric proportion for address1_a__company: 0.0010363933511380397\n",
      "INFO:root:Converted column address1_a__company into string type.\n",
      "INFO:root:Pointing to column in position 36\n",
      "INFO:root:Working compression on column address2_a__company\n",
      "INFO:root:Numeric proportion for address2_a__company: 0.017421602787456445\n",
      "INFO:root:Converted column address2_a__company into string type.\n",
      "INFO:root:Pointing to column in position 37\n",
      "INFO:root:Working compression on column country_a__company\n",
      "INFO:root:Numeric proportion for country_a__company: 0\n",
      "INFO:root:Converted column country_a__company into string type.\n",
      "INFO:root:Pointing to column in position 38\n",
      "INFO:root:Working compression on column zipcode_a__company\n",
      "INFO:root:Numeric proportion for zipcode_a__company: 0.9738354386801197\n",
      "INFO:root:Converted column zipcode_a__company into Int64 type.\n",
      "INFO:root:Pointing to column in position 39\n",
      "INFO:root:Working compression on column parentdunsnumber_a__company\n",
      "INFO:root:Numeric proportion for parentdunsnumber_a__company: 1.0\n",
      "INFO:root:Converted column parentdunsnumber_a__company into Int64 type.\n",
      "INFO:root:Pointing to column in position 40\n",
      "INFO:root:Working compression on column score_a__company\n",
      "INFO:root:Numeric proportion for score_a__company: 1.0\n",
      "INFO:root:Converted column score_a__company into Int64 type.\n",
      "INFO:root:Pointing to column in position 41\n",
      "INFO:root:Working compression on column cnt_opp_a__company\n",
      "INFO:root:Numeric proportion for cnt_opp_a__company: 1.0\n",
      "INFO:root:Converted column cnt_opp_a__company into Int64 type.\n",
      "INFO:root:Pointing to column in position 42\n",
      "INFO:root:Working compression on column bucket_id_a__company\n",
      "INFO:root:Numeric proportion for bucket_id_a__company: 1.0\n",
      "INFO:root:Converted column bucket_id_a__company into Int64 type.\n",
      "INFO:root:Pointing to column in position 43\n",
      "INFO:root:Working compression on column load_date_a__company\n",
      "INFO:root:Numeric proportion for load_date_a__company: 0\n",
      "INFO:root:Converted column load_date_a__company into string type.\n",
      "INFO:root:Pointing to column in position 44\n",
      "INFO:root:Working compression on column lvl_a__company\n",
      "INFO:root:Numeric proportion for lvl_a__company: 1.0\n",
      "INFO:root:Converted column lvl_a__company into Int64 type.\n",
      "INFO:root:Pointing to column in position 0\n",
      "INFO:root:Column b_entity_id excluded.\n",
      "INFO:root:Pointing to column in position 1\n",
      "INFO:root:Working compression on column entity_name_b__company\n",
      "INFO:root:Numeric proportion for entity_name_b__company: 0\n",
      "INFO:root:Converted column entity_name_b__company into string type.\n",
      "INFO:root:Pointing to column in position 2\n",
      "INFO:root:Working compression on column entity_proper_name_b__company\n",
      "INFO:root:Numeric proportion for entity_proper_name_b__company: 5.607424229680097e-06\n",
      "INFO:root:Converted column entity_proper_name_b__company into string type.\n",
      "INFO:root:Pointing to column in position 3\n",
      "INFO:root:Working compression on column primary_sic_code_b__company\n",
      "INFO:root:Numeric proportion for primary_sic_code_b__company: 1.0\n",
      "INFO:root:Converted column primary_sic_code_b__company into Int64 type.\n",
      "INFO:root:Pointing to column in position 4\n",
      "INFO:root:Working compression on column industry_code_b__company\n",
      "INFO:root:Numeric proportion for industry_code_b__company: 1.0\n",
      "INFO:root:Converted column industry_code_b__company into Int64 type.\n",
      "INFO:root:Pointing to column in position 5\n",
      "INFO:root:Working compression on column sector_code_b__company\n",
      "INFO:root:Numeric proportion for sector_code_b__company: 1.0\n",
      "INFO:root:Converted column sector_code_b__company into Int64 type.\n",
      "INFO:root:Pointing to column in position 6\n",
      "INFO:root:Working compression on column iso_country_b__company\n",
      "INFO:root:Numeric proportion for iso_country_b__company: 0.00013199242566541952\n",
      "INFO:root:Converted column iso_country_b__company into string type.\n",
      "INFO:root:Pointing to column in position 7\n",
      "INFO:root:Working compression on column metro_area_b__company\n",
      "INFO:root:Numeric proportion for metro_area_b__company: 0\n",
      "INFO:root:Converted column metro_area_b__company into string type.\n",
      "INFO:root:Pointing to column in position 8\n",
      "INFO:root:Working compression on column state_province_b__company\n",
      "INFO:root:Numeric proportion for state_province_b__company: 0\n",
      "INFO:root:Converted column state_province_b__company into string type.\n",
      "INFO:root:Pointing to column in position 9\n",
      "INFO:root:Working compression on column zip_postal_code_b__company\n",
      "INFO:root:Numeric proportion for zip_postal_code_b__company: 0.6880184584958523\n",
      "INFO:root:Converted column zip_postal_code_b__company into float type.\n",
      "INFO:root:Pointing to column in position 10\n",
      "INFO:root:Working compression on column web_site_b__company\n",
      "INFO:root:Numeric proportion for web_site_b__company: 0\n",
      "INFO:root:Converted column web_site_b__company into string type.\n",
      "INFO:root:Pointing to column in position 11\n",
      "INFO:root:Working compression on column entity_type_b__company\n",
      "INFO:root:Numeric proportion for entity_type_b__company: 0\n",
      "INFO:root:Converted column entity_type_b__company into string type.\n",
      "INFO:root:Pointing to column in position 12\n",
      "INFO:root:Working compression on column entity_sub_type_b__company\n",
      "INFO:root:Numeric proportion for entity_sub_type_b__company: 0\n",
      "INFO:root:Converted column entity_sub_type_b__company into string type.\n",
      "INFO:root:Pointing to column in position 13\n",
      "INFO:root:Working compression on column year_founded_b__company\n",
      "INFO:root:Numeric proportion for year_founded_b__company: 1.0\n",
      "INFO:root:Converted column year_founded_b__company into Int64 type.\n",
      "INFO:root:Pointing to column in position 14\n",
      "INFO:root:Working compression on column iso_country_incorp_b__company\n",
      "INFO:root:Numeric proportion for iso_country_incorp_b__company: 0.00013199242566541952\n",
      "INFO:root:Converted column iso_country_incorp_b__company into string type.\n",
      "INFO:root:Pointing to column in position 15\n",
      "INFO:root:Working compression on column iso_country_cor_b__company\n",
      "INFO:root:Numeric proportion for iso_country_cor_b__company: 0\n",
      "INFO:root:Converted column iso_country_cor_b__company into string type.\n",
      "INFO:root:Pointing to column in position 16\n",
      "INFO:root:Working compression on column nace_code_b__company\n",
      "INFO:root:Numeric proportion for nace_code_b__company: 1.0\n",
      "INFO:root:Converted column nace_code_b__company into float type.\n",
      "INFO:root:Pointing to column in position 17\n",
      "INFO:root:Working compression on column b_parent_entity_id_b__hierarchy\n",
      "INFO:root:Numeric proportion for b_parent_entity_id_b__hierarchy: 0\n",
      "INFO:root:Converted column b_parent_entity_id_b__hierarchy into string type.\n",
      "INFO:root:Pointing to column in position 18\n",
      "INFO:root:Working compression on column b_ultimate_parent_entity_id_b__hierarchy\n",
      "INFO:root:Numeric proportion for b_ultimate_parent_entity_id_b__hierarchy: 0\n",
      "INFO:root:Converted column b_ultimate_parent_entity_id_b__hierarchy into string type.\n",
      "INFO:root:Pointing to column in position 19\n",
      "INFO:root:Working compression on column address_id_b__address\n",
      "INFO:root:Numeric proportion for address_id_b__address: 1.0\n",
      "INFO:root:Converted column address_id_b__address into Int64 type.\n",
      "INFO:root:Pointing to column in position 20\n",
      "INFO:root:Working compression on column location_city_b__address\n",
      "INFO:root:Numeric proportion for location_city_b__address: 0.00013200274565710967\n",
      "INFO:root:Converted column location_city_b__address into string type.\n",
      "INFO:root:Pointing to column in position 21\n",
      "INFO:root:Working compression on column state_province_b__address\n",
      "INFO:root:Numeric proportion for state_province_b__address: 0\n",
      "INFO:root:Converted column state_province_b__address into string type.\n",
      "INFO:root:Pointing to column in position 22\n",
      "INFO:root:Working compression on column location_postal_code_b__address\n",
      "INFO:root:Numeric proportion for location_postal_code_b__address: 0.6858968721601736\n",
      "INFO:root:Converted column location_postal_code_b__address into float type.\n",
      "INFO:root:Pointing to column in position 23\n",
      "INFO:root:Working compression on column city_state_zip_b__address\n",
      "INFO:root:Numeric proportion for city_state_zip_b__address: 0\n",
      "INFO:root:Converted column city_state_zip_b__address into string type.\n",
      "INFO:root:Pointing to column in position 24\n",
      "INFO:root:Working compression on column location_street1_b__address\n",
      "INFO:root:Numeric proportion for location_street1_b__address: 0.0001912158385549966\n",
      "INFO:root:Converted column location_street1_b__address into string type.\n",
      "INFO:root:Pointing to column in position 25\n",
      "INFO:root:Working compression on column location_street2_b__address\n",
      "INFO:root:Numeric proportion for location_street2_b__address: 0.001052225456841219\n",
      "INFO:root:Converted column location_street2_b__address into string type.\n",
      "INFO:root:Pointing to column in position 26\n",
      "INFO:root:Working compression on column location_street3_b__address\n",
      "INFO:root:Numeric proportion for location_street3_b__address: 0.0003312355084465055\n",
      "INFO:root:Converted column location_street3_b__address into string type.\n",
      "INFO:root:Pointing to column in position 27\n",
      "INFO:root:Working compression on column iso_country_b__address\n",
      "INFO:root:Numeric proportion for iso_country_b__address: 0\n",
      "INFO:root:Converted column iso_country_b__address into string type.\n",
      "INFO:root:Pointing to column in position 28\n",
      "INFO:root:Working compression on column tele_country_b__address\n",
      "INFO:root:Numeric proportion for tele_country_b__address: 1.0\n",
      "INFO:root:Converted column tele_country_b__address into Int64 type.\n",
      "INFO:root:Pointing to column in position 29\n",
      "INFO:root:Working compression on column tele_area_b__address\n",
      "INFO:root:Numeric proportion for tele_area_b__address: 0.9998992646318122\n",
      "INFO:root:Converted column tele_area_b__address into Int64 type.\n",
      "INFO:root:Pointing to column in position 30\n",
      "INFO:root:Working compression on column tele_b__address\n",
      "INFO:root:Numeric proportion for tele_b__address: 0.8366980816150792\n",
      "INFO:root:Converted column tele_b__address into float type.\n",
      "INFO:root:Pointing to column in position 31\n",
      "INFO:root:Working compression on column tele_full_b__address\n",
      "INFO:root:Numeric proportion for tele_full_b__address: 0.0017222408266755968\n",
      "INFO:root:Converted column tele_full_b__address into string type.\n",
      "INFO:root:Pointing to column in position 32\n",
      "INFO:root:Working compression on column fax_country_b__address\n",
      "INFO:root:Numeric proportion for fax_country_b__address: 1.0\n",
      "INFO:root:Converted column fax_country_b__address into Int64 type.\n",
      "INFO:root:Pointing to column in position 33\n",
      "INFO:root:Working compression on column fax_area_b__address\n",
      "INFO:root:Numeric proportion for fax_area_b__address: 0.9998856946905184\n",
      "INFO:root:Converted column fax_area_b__address into Int64 type.\n",
      "INFO:root:Pointing to column in position 34\n",
      "INFO:root:Working compression on column fax_b__address\n",
      "INFO:root:Numeric proportion for fax_b__address: 0.8365514839608404\n",
      "INFO:root:Converted column fax_b__address into float type.\n",
      "INFO:root:Pointing to column in position 35\n",
      "INFO:root:Working compression on column fax_full_b__address\n",
      "INFO:root:Numeric proportion for fax_full_b__address: 0.002089540688000619\n",
      "INFO:root:Converted column fax_full_b__address into string type.\n",
      "INFO:root:Pointing to column in position 36\n",
      "INFO:root:Working compression on column hq_b__address\n",
      "INFO:root:Numeric proportion for hq_b__address: 1.0\n",
      "INFO:root:Converted column hq_b__address into Int64 type.\n"
     ]
    }
   ],
   "source": [
    "def type_compression(\n",
    "    frame: pd.DataFrame, \n",
    "    column_exclusions: List=[],\n",
    "    numeric_proportion_threshold: float=0.5\n",
    ") -> pd.DataFrame:\n",
    "    \"\"\"Compress types of values into a standard\n",
    "\n",
    "    Args:\n",
    "        frame (pd.DataFrame) : data frame to compress types\n",
    "        column_exclusions (List) : columns to exclude from compression\n",
    "        numeric_proportion_threshold (float) : proportion of values in mixed type column\n",
    "            that must pass numeric validation in order to convert that column to either float or int type\n",
    "    Returns: \n",
    "        frame_comp (pd.DataFrame) : compressed type data\n",
    "    \"\"\"\n",
    "    # get column types\n",
    "    col_types = frame.dtypes.to_dict()\n",
    "    # replace na value with string literal\n",
    "    frame = frame.fillna(\"null\")\n",
    "    # set heuristic inline function for testing non-null string values\n",
    "    non_null = lambda x: ('null' not in x.lower().replace(\" \", \"\")) \\\n",
    "        and ('nan' not in x.lower().replace(\" \", \"\"))\\\n",
    "        and ('notdefined' not in x.lower().replace(\" \", \"\"))\\\n",
    "        and ('na' not in x.lower().replace(\" \", \"\"))\n",
    "    # convert object types to string values\n",
    "    for i, data in enumerate(col_types.items()):\n",
    "        # column is first index of data item\n",
    "        col = data[0]\n",
    "        logging.info(f\"Pointing to column in position {i}\")\n",
    "        # log column position\n",
    "        if col not in column_exclusions:\n",
    "            logging.info(f\"Working compression on column {col}\")\n",
    "            frame[col] = frame[col].astype(str)\n",
    "            # get all values in series that are not null\n",
    "            non_null_index = frame[col].apply(non_null)\n",
    "            non_null_s = frame[col][non_null_index]\n",
    "            # create inline function for testing if data is numeric, only stripping dashes from left \n",
    "            isnum = lambda x: (x.lstrip(\"-\").replace(\".\", \"\").isnumeric()) and (x.count(\".\")<=1)\n",
    "            isnum_s = non_null_s.apply(isnum)\n",
    "            isnum_sum, isnum_true = isnum_s.value_counts().sum(), isnum_s.value_counts().get(True)\n",
    "            # get proportion of numeric strings in non-null series\n",
    "            # get proportion is numeric values are present\n",
    "            if isnum_true:\n",
    "                isnum_prop = float(isnum_true)/float(isnum_sum)\n",
    "            else: \n",
    "                isnum_prop = 0\n",
    "            logging.info(f\"Numeric proportion for {col}: {isnum_prop}\")\n",
    "            # strip whitespace\n",
    "            frame[col] = frame[col].str.strip()\n",
    "            # check proprtion and convert based upon value\n",
    "            if isnum_prop >= numeric_proportion_threshold:\n",
    "                col_numeric = frame[col].apply(isnum)\n",
    "                # check for int values among all numeric values\n",
    "                int_check = frame[col][col_numeric]\\\n",
    "                    .apply(lambda x: set(x.split(\".\")[-1]).issubset(\"0\") or x.isdigit())\n",
    "                if int_check.all():\n",
    "                    # set null type\n",
    "                    frame.loc[~col_numeric,col] = np.nan\n",
    "                    # set type as int, with float conversion first\n",
    "                    # to offset np.nan type data\n",
    "                    frame[col] = frame[col].astype(\"float\")\n",
    "                    frame[col] = frame[col].astype(\"Int64\")\n",
    "                    logging.info(f\"Converted column {col} into Int64 type.\")\n",
    "                else: \n",
    "                    # set null type\n",
    "                    frame.loc[~col_numeric,col] = np.nan\n",
    "                    # set type as float if non-int numeric values exist\n",
    "                    frame[col] = frame[col].astype(\"float\")\n",
    "                    logging.info(f\"Converted column {col} into float type.\")\n",
    "            # if non null values are not primarily numeric, then convert to lowercase\n",
    "            # and remove non-alphanumeric chars\n",
    "            else:\n",
    "                # convert all to lowercase\n",
    "                frame[col] = frame[col].apply(str.lower)\n",
    "                # create regex pattern for keeping only alphanumeric characters\n",
    "                frame.loc[non_null_index, col] = frame[col][non_null_index]\\\n",
    "                    .apply(lambda x: re.sub(r'[^A-Za-z0-9 ]+', \"\", x))\n",
    "                # create regex pattern for removing redundant whitespace\n",
    "                frame.loc[non_null_index, col] = frame[col][non_null_index]\\\n",
    "                    .apply(lambda x: re.sub(\" +\", \" \", x))\n",
    "                # convert all null values to nan\n",
    "                frame.loc[~non_null_index,col] = np.nan\n",
    "                logging.info(f\"Converted column {col} into string type.\")\n",
    "        else:\n",
    "            logging.info(f\"Column {col} excluded.\") \n",
    "\n",
    "\n",
    "    return frame\n",
    "\n",
    "\n",
    "\n",
    "a_comp = type_compression(frame=a_frame, column_exclusions=['vendor_id'])\n",
    "b_comp = type_compression(frame=b_frame, column_exclusions=['b_entity_id'])"
   ]
  },
  {
   "attachments": {},
   "cell_type": "markdown",
   "metadata": {},
   "source": [
    "## Clustering and Analysis\n",
    "\n",
    "This section of the notebook analyzes the data in an unsupervised fashion. The datasets are tested for similarity by clustering around an arbitrary number of centroids. "
   ]
  },
  {
   "cell_type": "code",
   "execution_count": 3,
   "metadata": {},
   "outputs": [
    {
     "name": "stderr",
     "output_type": "stream",
     "text": [
      "DEBUG:matplotlib:matplotlib data path: /Users/cullenpaulisick/opt/anaconda3/envs/govini/lib/python3.8/site-packages/matplotlib/mpl-data\n",
      "DEBUG:matplotlib:CONFIGDIR=/Users/cullenpaulisick/.matplotlib\n",
      "DEBUG:matplotlib:interactive is False\n",
      "DEBUG:matplotlib:platform is darwin\n",
      "DEBUG:matplotlib:CACHEDIR=/Users/cullenpaulisick/.matplotlib\n",
      "DEBUG:matplotlib.font_manager:Using fontManager instance from /Users/cullenpaulisick/.matplotlib/fontlist-v330.json\n",
      "DEBUG:matplotlib.pyplot:Loaded backend module://matplotlib_inline.backend_inline version unknown.\n",
      "DEBUG:matplotlib.pyplot:Loaded backend module://matplotlib_inline.backend_inline version unknown.\n",
      "DEBUG:matplotlib.font_manager:findfont: Matching sans\\-serif:style=normal:variant=normal:weight=normal:stretch=normal:size=10.0.\n",
      "DEBUG:matplotlib.font_manager:findfont: score(FontEntry(fname='/Users/cullenpaulisick/opt/anaconda3/envs/govini/lib/python3.8/site-packages/matplotlib/mpl-data/fonts/ttf/cmb10.ttf', name='cmb10', style='normal', variant='normal', weight=400, stretch='normal', size='scalable')) = 10.05\n",
      "DEBUG:matplotlib.font_manager:findfont: score(FontEntry(fname='/Users/cullenpaulisick/opt/anaconda3/envs/govini/lib/python3.8/site-packages/matplotlib/mpl-data/fonts/ttf/DejaVuSansMono-Oblique.ttf', name='DejaVu Sans Mono', style='oblique', variant='normal', weight=400, stretch='normal', size='scalable')) = 11.05\n",
      "DEBUG:matplotlib.font_manager:findfont: score(FontEntry(fname='/Users/cullenpaulisick/opt/anaconda3/envs/govini/lib/python3.8/site-packages/matplotlib/mpl-data/fonts/ttf/DejaVuSerif-Italic.ttf', name='DejaVu Serif', style='italic', variant='normal', weight=400, stretch='normal', size='scalable')) = 11.05\n",
      "DEBUG:matplotlib.font_manager:findfont: score(FontEntry(fname='/Users/cullenpaulisick/opt/anaconda3/envs/govini/lib/python3.8/site-packages/matplotlib/mpl-data/fonts/ttf/STIXSizFourSymBol.ttf', name='STIXSizeFourSym', style='normal', variant='normal', weight=700, stretch='normal', size='scalable')) = 10.335\n",
      "DEBUG:matplotlib.font_manager:findfont: score(FontEntry(fname='/Users/cullenpaulisick/opt/anaconda3/envs/govini/lib/python3.8/site-packages/matplotlib/mpl-data/fonts/ttf/STIXGeneralBolIta.ttf', name='STIXGeneral', style='italic', variant='normal', weight=700, stretch='normal', size='scalable')) = 11.335\n",
      "DEBUG:matplotlib.font_manager:findfont: score(FontEntry(fname='/Users/cullenpaulisick/opt/anaconda3/envs/govini/lib/python3.8/site-packages/matplotlib/mpl-data/fonts/ttf/DejaVuSans-Bold.ttf', name='DejaVu Sans', style='normal', variant='normal', weight=700, stretch='normal', size='scalable')) = 0.33499999999999996\n",
      "DEBUG:matplotlib.font_manager:findfont: score(FontEntry(fname='/Users/cullenpaulisick/opt/anaconda3/envs/govini/lib/python3.8/site-packages/matplotlib/mpl-data/fonts/ttf/DejaVuSans.ttf', name='DejaVu Sans', style='normal', variant='normal', weight=400, stretch='normal', size='scalable')) = 0.05\n",
      "DEBUG:matplotlib.font_manager:findfont: score(FontEntry(fname='/Users/cullenpaulisick/opt/anaconda3/envs/govini/lib/python3.8/site-packages/matplotlib/mpl-data/fonts/ttf/STIXSizThreeSymBol.ttf', name='STIXSizeThreeSym', style='normal', variant='normal', weight=700, stretch='normal', size='scalable')) = 10.335\n",
      "DEBUG:matplotlib.font_manager:findfont: score(FontEntry(fname='/Users/cullenpaulisick/opt/anaconda3/envs/govini/lib/python3.8/site-packages/matplotlib/mpl-data/fonts/ttf/cmtt10.ttf', name='cmtt10', style='normal', variant='normal', weight=400, stretch='normal', size='scalable')) = 10.05\n",
      "DEBUG:matplotlib.font_manager:findfont: score(FontEntry(fname='/Users/cullenpaulisick/opt/anaconda3/envs/govini/lib/python3.8/site-packages/matplotlib/mpl-data/fonts/ttf/STIXSizTwoSymBol.ttf', name='STIXSizeTwoSym', style='normal', variant='normal', weight=700, stretch='normal', size='scalable')) = 10.335\n",
      "DEBUG:matplotlib.font_manager:findfont: score(FontEntry(fname='/Users/cullenpaulisick/opt/anaconda3/envs/govini/lib/python3.8/site-packages/matplotlib/mpl-data/fonts/ttf/STIXGeneral.ttf', name='STIXGeneral', style='normal', variant='normal', weight=400, stretch='normal', size='scalable')) = 10.05\n",
      "DEBUG:matplotlib.font_manager:findfont: score(FontEntry(fname='/Users/cullenpaulisick/opt/anaconda3/envs/govini/lib/python3.8/site-packages/matplotlib/mpl-data/fonts/ttf/STIXSizOneSymReg.ttf', name='STIXSizeOneSym', style='normal', variant='normal', weight=400, stretch='normal', size='scalable')) = 10.05\n",
      "DEBUG:matplotlib.font_manager:findfont: score(FontEntry(fname='/Users/cullenpaulisick/opt/anaconda3/envs/govini/lib/python3.8/site-packages/matplotlib/mpl-data/fonts/ttf/STIXSizThreeSymReg.ttf', name='STIXSizeThreeSym', style='normal', variant='normal', weight=400, stretch='normal', size='scalable')) = 10.05\n",
      "DEBUG:matplotlib.font_manager:findfont: score(FontEntry(fname='/Users/cullenpaulisick/opt/anaconda3/envs/govini/lib/python3.8/site-packages/matplotlib/mpl-data/fonts/ttf/STIXGeneralItalic.ttf', name='STIXGeneral', style='italic', variant='normal', weight=400, stretch='normal', size='scalable')) = 11.05\n",
      "DEBUG:matplotlib.font_manager:findfont: score(FontEntry(fname='/Users/cullenpaulisick/opt/anaconda3/envs/govini/lib/python3.8/site-packages/matplotlib/mpl-data/fonts/ttf/STIXSizTwoSymReg.ttf', name='STIXSizeTwoSym', style='normal', variant='normal', weight=400, stretch='normal', size='scalable')) = 10.05\n",
      "DEBUG:matplotlib.font_manager:findfont: score(FontEntry(fname='/Users/cullenpaulisick/opt/anaconda3/envs/govini/lib/python3.8/site-packages/matplotlib/mpl-data/fonts/ttf/cmr10.ttf', name='cmr10', style='normal', variant='normal', weight=400, stretch='normal', size='scalable')) = 10.05\n",
      "DEBUG:matplotlib.font_manager:findfont: score(FontEntry(fname='/Users/cullenpaulisick/opt/anaconda3/envs/govini/lib/python3.8/site-packages/matplotlib/mpl-data/fonts/ttf/cmmi10.ttf', name='cmmi10', style='normal', variant='normal', weight=400, stretch='normal', size='scalable')) = 10.05\n",
      "DEBUG:matplotlib.font_manager:findfont: score(FontEntry(fname='/Users/cullenpaulisick/opt/anaconda3/envs/govini/lib/python3.8/site-packages/matplotlib/mpl-data/fonts/ttf/DejaVuSansMono.ttf', name='DejaVu Sans Mono', style='normal', variant='normal', weight=400, stretch='normal', size='scalable')) = 10.05\n",
      "DEBUG:matplotlib.font_manager:findfont: score(FontEntry(fname='/Users/cullenpaulisick/opt/anaconda3/envs/govini/lib/python3.8/site-packages/matplotlib/mpl-data/fonts/ttf/DejaVuSerif.ttf', name='DejaVu Serif', style='normal', variant='normal', weight=400, stretch='normal', size='scalable')) = 10.05\n",
      "DEBUG:matplotlib.font_manager:findfont: score(FontEntry(fname='/Users/cullenpaulisick/opt/anaconda3/envs/govini/lib/python3.8/site-packages/matplotlib/mpl-data/fonts/ttf/STIXNonUniIta.ttf', name='STIXNonUnicode', style='italic', variant='normal', weight=400, stretch='normal', size='scalable')) = 11.05\n",
      "DEBUG:matplotlib.font_manager:findfont: score(FontEntry(fname='/Users/cullenpaulisick/opt/anaconda3/envs/govini/lib/python3.8/site-packages/matplotlib/mpl-data/fonts/ttf/STIXNonUniBol.ttf', name='STIXNonUnicode', style='normal', variant='normal', weight=700, stretch='normal', size='scalable')) = 10.335\n",
      "DEBUG:matplotlib.font_manager:findfont: score(FontEntry(fname='/Users/cullenpaulisick/opt/anaconda3/envs/govini/lib/python3.8/site-packages/matplotlib/mpl-data/fonts/ttf/STIXSizFiveSymReg.ttf', name='STIXSizeFiveSym', style='normal', variant='normal', weight=400, stretch='normal', size='scalable')) = 10.05\n",
      "DEBUG:matplotlib.font_manager:findfont: score(FontEntry(fname='/Users/cullenpaulisick/opt/anaconda3/envs/govini/lib/python3.8/site-packages/matplotlib/mpl-data/fonts/ttf/cmex10.ttf', name='cmex10', style='normal', variant='normal', weight=400, stretch='normal', size='scalable')) = 10.05\n",
      "DEBUG:matplotlib.font_manager:findfont: score(FontEntry(fname='/Users/cullenpaulisick/opt/anaconda3/envs/govini/lib/python3.8/site-packages/matplotlib/mpl-data/fonts/ttf/STIXNonUni.ttf', name='STIXNonUnicode', style='normal', variant='normal', weight=400, stretch='normal', size='scalable')) = 10.05\n",
      "DEBUG:matplotlib.font_manager:findfont: score(FontEntry(fname='/Users/cullenpaulisick/opt/anaconda3/envs/govini/lib/python3.8/site-packages/matplotlib/mpl-data/fonts/ttf/cmsy10.ttf', name='cmsy10', style='normal', variant='normal', weight=400, stretch='normal', size='scalable')) = 10.05\n",
      "DEBUG:matplotlib.font_manager:findfont: score(FontEntry(fname='/Users/cullenpaulisick/opt/anaconda3/envs/govini/lib/python3.8/site-packages/matplotlib/mpl-data/fonts/ttf/DejaVuSans-BoldOblique.ttf', name='DejaVu Sans', style='oblique', variant='normal', weight=700, stretch='normal', size='scalable')) = 1.335\n",
      "DEBUG:matplotlib.font_manager:findfont: score(FontEntry(fname='/Users/cullenpaulisick/opt/anaconda3/envs/govini/lib/python3.8/site-packages/matplotlib/mpl-data/fonts/ttf/STIXNonUniBolIta.ttf', name='STIXNonUnicode', style='italic', variant='normal', weight=700, stretch='normal', size='scalable')) = 11.335\n",
      "DEBUG:matplotlib.font_manager:findfont: score(FontEntry(fname='/Users/cullenpaulisick/opt/anaconda3/envs/govini/lib/python3.8/site-packages/matplotlib/mpl-data/fonts/ttf/STIXSizOneSymBol.ttf', name='STIXSizeOneSym', style='normal', variant='normal', weight=700, stretch='normal', size='scalable')) = 10.335\n",
      "DEBUG:matplotlib.font_manager:findfont: score(FontEntry(fname='/Users/cullenpaulisick/opt/anaconda3/envs/govini/lib/python3.8/site-packages/matplotlib/mpl-data/fonts/ttf/cmss10.ttf', name='cmss10', style='normal', variant='normal', weight=400, stretch='normal', size='scalable')) = 10.05\n",
      "DEBUG:matplotlib.font_manager:findfont: score(FontEntry(fname='/Users/cullenpaulisick/opt/anaconda3/envs/govini/lib/python3.8/site-packages/matplotlib/mpl-data/fonts/ttf/DejaVuSerif-BoldItalic.ttf', name='DejaVu Serif', style='italic', variant='normal', weight=700, stretch='normal', size='scalable')) = 11.335\n",
      "DEBUG:matplotlib.font_manager:findfont: score(FontEntry(fname='/Users/cullenpaulisick/opt/anaconda3/envs/govini/lib/python3.8/site-packages/matplotlib/mpl-data/fonts/ttf/DejaVuSansMono-Bold.ttf', name='DejaVu Sans Mono', style='normal', variant='normal', weight=700, stretch='normal', size='scalable')) = 10.335\n",
      "DEBUG:matplotlib.font_manager:findfont: score(FontEntry(fname='/Users/cullenpaulisick/opt/anaconda3/envs/govini/lib/python3.8/site-packages/matplotlib/mpl-data/fonts/ttf/DejaVuSans-Oblique.ttf', name='DejaVu Sans', style='oblique', variant='normal', weight=400, stretch='normal', size='scalable')) = 1.05\n",
      "DEBUG:matplotlib.font_manager:findfont: score(FontEntry(fname='/Users/cullenpaulisick/opt/anaconda3/envs/govini/lib/python3.8/site-packages/matplotlib/mpl-data/fonts/ttf/DejaVuSerif-Bold.ttf', name='DejaVu Serif', style='normal', variant='normal', weight=700, stretch='normal', size='scalable')) = 10.335\n",
      "DEBUG:matplotlib.font_manager:findfont: score(FontEntry(fname='/Users/cullenpaulisick/opt/anaconda3/envs/govini/lib/python3.8/site-packages/matplotlib/mpl-data/fonts/ttf/DejaVuSansDisplay.ttf', name='DejaVu Sans Display', style='normal', variant='normal', weight=400, stretch='normal', size='scalable')) = 10.05\n",
      "DEBUG:matplotlib.font_manager:findfont: score(FontEntry(fname='/Users/cullenpaulisick/opt/anaconda3/envs/govini/lib/python3.8/site-packages/matplotlib/mpl-data/fonts/ttf/DejaVuSerifDisplay.ttf', name='DejaVu Serif Display', style='normal', variant='normal', weight=400, stretch='normal', size='scalable')) = 10.05\n",
      "DEBUG:matplotlib.font_manager:findfont: score(FontEntry(fname='/Users/cullenpaulisick/opt/anaconda3/envs/govini/lib/python3.8/site-packages/matplotlib/mpl-data/fonts/ttf/STIXSizFourSymReg.ttf', name='STIXSizeFourSym', style='normal', variant='normal', weight=400, stretch='normal', size='scalable')) = 10.05\n",
      "DEBUG:matplotlib.font_manager:findfont: score(FontEntry(fname='/Users/cullenpaulisick/opt/anaconda3/envs/govini/lib/python3.8/site-packages/matplotlib/mpl-data/fonts/ttf/STIXGeneralBol.ttf', name='STIXGeneral', style='normal', variant='normal', weight=700, stretch='normal', size='scalable')) = 10.335\n",
      "DEBUG:matplotlib.font_manager:findfont: score(FontEntry(fname='/Users/cullenpaulisick/opt/anaconda3/envs/govini/lib/python3.8/site-packages/matplotlib/mpl-data/fonts/ttf/DejaVuSansMono-BoldOblique.ttf', name='DejaVu Sans Mono', style='oblique', variant='normal', weight=700, stretch='normal', size='scalable')) = 11.335\n",
      "DEBUG:matplotlib.font_manager:findfont: score(FontEntry(fname='/System/Library/Fonts/Supplemental/NotoSansPsalterPahlavi-Regular.ttf', name='Noto Sans Psalter Pahlavi', style='normal', variant='normal', weight=400, stretch='normal', size='scalable')) = 10.05\n",
      "DEBUG:matplotlib.font_manager:findfont: score(FontEntry(fname='/System/Library/Fonts/Supplemental/NotoSansInscriptionalParthian-Regular.ttf', name='Noto Sans Inscriptional Parthian', style='normal', variant='normal', weight=400, stretch='normal', size='scalable')) = 10.05\n",
      "DEBUG:matplotlib.font_manager:findfont: score(FontEntry(fname='/System/Library/Fonts/NewYork.ttf', name='.New York', style='normal', variant='normal', weight=400, stretch='normal', size='scalable')) = 10.05\n",
      "DEBUG:matplotlib.font_manager:findfont: score(FontEntry(fname='/System/Library/Fonts/Supplemental/Herculanum.ttf', name='Herculanum', style='normal', variant='normal', weight=400, stretch='normal', size='scalable')) = 10.05\n",
      "DEBUG:matplotlib.font_manager:findfont: score(FontEntry(fname='/System/Library/Fonts/ヒラギノ角ゴシック W1.ttc', name='Hiragino Sans', style='normal', variant='normal', weight=200, stretch='normal', size='scalable')) = 10.24\n",
      "DEBUG:matplotlib.font_manager:findfont: score(FontEntry(fname='/System/Library/Fonts/Supplemental/NotoSansSiddham-Regular.ttf', name='Noto Sans Siddham', style='normal', variant='normal', weight=400, stretch='normal', size='scalable')) = 10.05\n",
      "DEBUG:matplotlib.font_manager:findfont: score(FontEntry(fname='/System/Library/Fonts/Supplemental/Arial Unicode.ttf', name='Arial Unicode MS', style='normal', variant='normal', weight=400, stretch='normal', size='scalable')) = 10.05\n",
      "DEBUG:matplotlib.font_manager:findfont: score(FontEntry(fname='/System/Library/Fonts/Supplemental/Trebuchet MS Italic.ttf', name='Trebuchet MS', style='italic', variant='normal', weight=400, stretch='normal', size='scalable')) = 11.05\n",
      "DEBUG:matplotlib.font_manager:findfont: score(FontEntry(fname='/System/Library/Fonts/ヒラギノ角ゴシック W4.ttc', name='Hiragino Sans', style='normal', variant='normal', weight=400, stretch='normal', size='scalable')) = 10.05\n",
      "DEBUG:matplotlib.font_manager:findfont: score(FontEntry(fname='/System/Library/Fonts/KohinoorTelugu.ttc', name='Kohinoor Telugu', style='normal', variant='normal', weight=400, stretch='normal', size='scalable')) = 10.05\n",
      "DEBUG:matplotlib.font_manager:findfont: score(FontEntry(fname='/System/Library/Fonts/Supplemental/Copperplate.ttc', name='Copperplate', style='normal', variant='normal', weight=400, stretch='normal', size='scalable')) = 10.05\n",
      "DEBUG:matplotlib.font_manager:findfont: score(FontEntry(fname='/System/Library/Fonts/Supplemental/Arial Rounded Bold.ttf', name='Arial Rounded MT Bold', style='normal', variant='normal', weight=400, stretch='normal', size='scalable')) = 10.05\n",
      "DEBUG:matplotlib.font_manager:findfont: score(FontEntry(fname='/System/Library/Fonts/Supplemental/PTSerifCaption.ttc', name='PT Serif Caption', style='normal', variant='normal', weight=400, stretch='normal', size='scalable')) = 10.05\n",
      "DEBUG:matplotlib.font_manager:findfont: score(FontEntry(fname='/System/Library/Fonts/Monaco.ttf', name='Monaco', style='normal', variant='normal', weight=400, stretch='normal', size='scalable')) = 10.05\n",
      "DEBUG:matplotlib.font_manager:findfont: score(FontEntry(fname='/System/Library/Fonts/NotoSansKannada.ttc', name='Noto Sans Kannada', style='normal', variant='normal', weight=900, stretch='normal', size='scalable')) = 10.525\n",
      "DEBUG:matplotlib.font_manager:findfont: score(FontEntry(fname='/System/Library/Fonts/Supplemental/Farisi.ttf', name='Farisi', style='normal', variant='normal', weight=400, stretch='normal', size='scalable')) = 10.05\n",
      "DEBUG:matplotlib.font_manager:findfont: score(FontEntry(fname='/System/Library/Fonts/Supplemental/Wingdings 2.ttf', name='Wingdings 2', style='normal', variant='normal', weight=400, stretch='normal', size='scalable')) = 10.05\n",
      "DEBUG:matplotlib.font_manager:findfont: score(FontEntry(fname='/System/Library/Fonts/Supplemental/Diwan Thuluth.ttf', name='Diwan Thuluth', style='normal', variant='normal', weight=400, stretch='normal', size='scalable')) = 10.05\n",
      "DEBUG:matplotlib.font_manager:findfont: score(FontEntry(fname='/System/Library/Fonts/Supplemental/PTMono.ttc', name='PT Mono', style='normal', variant='normal', weight=700, stretch='normal', size='scalable')) = 10.335\n",
      "DEBUG:matplotlib.font_manager:findfont: score(FontEntry(fname='/System/Library/Fonts/Supplemental/Courier New Bold.ttf', name='Courier New', style='normal', variant='normal', weight=700, stretch='normal', size='scalable')) = 10.335\n",
      "DEBUG:matplotlib.font_manager:findfont: score(FontEntry(fname='/System/Library/Fonts/Supplemental/Myanmar MN.ttc', name='Myanmar MN', style='normal', variant='normal', weight=400, stretch='normal', size='scalable')) = 10.05\n",
      "DEBUG:matplotlib.font_manager:findfont: score(FontEntry(fname='/System/Library/Fonts/Supplemental/STIXIntUpDReg.otf', name='STIXIntegralsUpD', style='normal', variant='normal', weight=400, stretch='normal', size='scalable')) = 10.05\n",
      "DEBUG:matplotlib.font_manager:findfont: score(FontEntry(fname='/System/Library/Fonts/Supplemental/Kannada Sangam MN.ttc', name='Kannada Sangam MN', style='normal', variant='normal', weight=400, stretch='normal', size='scalable')) = 10.05\n",
      "DEBUG:matplotlib.font_manager:findfont: score(FontEntry(fname='/System/Library/Fonts/Supplemental/NotoSansMiao-Regular.ttf', name='Noto Sans Miao', style='normal', variant='normal', weight=400, stretch='normal', size='scalable')) = 10.05\n",
      "DEBUG:matplotlib.font_manager:findfont: score(FontEntry(fname='/System/Library/Fonts/Supplemental/Bodoni 72.ttc', name='Bodoni 72', style='normal', variant='normal', weight=400, stretch='normal', size='scalable')) = 10.05\n",
      "DEBUG:matplotlib.font_manager:findfont: score(FontEntry(fname='/System/Library/Fonts/KohinoorGujarati.ttc', name='Kohinoor Gujarati', style='normal', variant='normal', weight=700, stretch='normal', size='scalable')) = 10.335\n",
      "DEBUG:matplotlib.font_manager:findfont: score(FontEntry(fname='/System/Library/Fonts/Supplemental/STIXVarBol.otf', name='STIXVariants', style='normal', variant='normal', weight=700, stretch='normal', size='scalable')) = 10.335\n",
      "DEBUG:matplotlib.font_manager:findfont: score(FontEntry(fname='/System/Library/Fonts/Supplemental/NotoSansGothic-Regular.ttf', name='Noto Sans Gothic', style='normal', variant='normal', weight=400, stretch='normal', size='scalable')) = 10.05\n",
      "DEBUG:matplotlib.font_manager:findfont: score(FontEntry(fname='/System/Library/Fonts/Supplemental/NotoSansKaithi-Regular.ttf', name='Noto Sans Kaithi', style='normal', variant='normal', weight=400, stretch='normal', size='scalable')) = 10.05\n",
      "DEBUG:matplotlib.font_manager:findfont: score(FontEntry(fname='/System/Library/Fonts/Supplemental/Arial Bold Italic.ttf', name='Arial', style='italic', variant='normal', weight=700, stretch='normal', size='scalable')) = 7.698636363636363\n",
      "DEBUG:matplotlib.font_manager:findfont: score(FontEntry(fname='/System/Library/Fonts/NotoSansOriya.ttc', name='Noto Sans Oriya', style='normal', variant='normal', weight=400, stretch='normal', size='scalable')) = 10.05\n",
      "DEBUG:matplotlib.font_manager:findfont: score(FontEntry(fname='/System/Library/Fonts/Supplemental/Hoefler Text Ornaments.ttf', name='Hoefler Text', style='normal', variant='normal', weight=400, stretch='normal', size='scalable')) = 10.05\n",
      "DEBUG:matplotlib.font_manager:findfont: score(FontEntry(fname='/System/Library/Fonts/Hiragino Sans GB.ttc', name='Hiragino Sans GB', style='normal', variant='normal', weight=300, stretch='normal', size='scalable')) = 10.145\n",
      "DEBUG:matplotlib.font_manager:findfont: score(FontEntry(fname='/System/Library/Fonts/Supplemental/Telugu Sangam MN.ttc', name='Telugu Sangam MN', style='normal', variant='normal', weight=400, stretch='normal', size='scalable')) = 10.05\n",
      "DEBUG:matplotlib.font_manager:findfont: score(FontEntry(fname='/System/Library/Fonts/Supplemental/NotoSansHatran-Regular.ttf', name='Noto Sans Hatran', style='normal', variant='normal', weight=400, stretch='normal', size='scalable')) = 10.05\n",
      "DEBUG:matplotlib.font_manager:findfont: score(FontEntry(fname='/System/Library/Fonts/Supplemental/NotoSansLinearA-Regular.ttf', name='Noto Sans Linear A', style='normal', variant='normal', weight=400, stretch='normal', size='scalable')) = 10.05\n",
      "DEBUG:matplotlib.font_manager:findfont: score(FontEntry(fname='/System/Library/Fonts/Supplemental/STIXSizThreeSymBol.otf', name='STIXSizeThreeSym', style='normal', variant='normal', weight=700, stretch='normal', size='scalable')) = 10.335\n",
      "DEBUG:matplotlib.font_manager:findfont: score(FontEntry(fname='/System/Library/Fonts/Supplemental/Cochin.ttc', name='Cochin', style='normal', variant='normal', weight=500, stretch='normal', size='scalable')) = 10.145\n",
      "DEBUG:matplotlib.font_manager:findfont: score(FontEntry(fname='/System/Library/Fonts/Supplemental/BigCaslon.ttf', name='Big Caslon', style='normal', variant='normal', weight=500, stretch='normal', size='scalable')) = 10.145\n",
      "DEBUG:matplotlib.font_manager:findfont: score(FontEntry(fname='/System/Library/Fonts/Supplemental/STIXIntDBol.otf', name='STIXIntegralsD', style='normal', variant='normal', weight=700, stretch='normal', size='scalable')) = 10.335\n",
      "DEBUG:matplotlib.font_manager:findfont: score(FontEntry(fname='/System/Library/Fonts/Supplemental/Andale Mono.ttf', name='Andale Mono', style='normal', variant='normal', weight=400, stretch='normal', size='scalable')) = 10.05\n",
      "DEBUG:matplotlib.font_manager:findfont: score(FontEntry(fname='/System/Library/Fonts/Supplemental/STIXIntUpSmReg.otf', name='STIXIntegralsUpSm', style='normal', variant='normal', weight=400, stretch='normal', size='scalable')) = 10.05\n",
      "DEBUG:matplotlib.font_manager:findfont: score(FontEntry(fname='/System/Library/Fonts/Supplemental/NotoSansKhojki-Regular.ttf', name='Noto Sans Khojki', style='normal', variant='normal', weight=400, stretch='normal', size='scalable')) = 10.05\n",
      "DEBUG:matplotlib.font_manager:findfont: score(FontEntry(fname='/System/Library/Fonts/Supplemental/Galvji.ttc', name='Galvji', style='normal', variant='normal', weight=400, stretch='normal', size='scalable')) = 10.05\n",
      "DEBUG:matplotlib.font_manager:findfont: score(FontEntry(fname='/System/Library/Fonts/Supplemental/NotoSansInscriptionalPahlavi-Regular.ttf', name='Noto Sans Inscriptional Pahlavi', style='normal', variant='normal', weight=400, stretch='normal', size='scalable')) = 10.05\n",
      "DEBUG:matplotlib.font_manager:findfont: score(FontEntry(fname='/System/Library/Fonts/MuktaMahee.ttc', name='Mukta Mahee', style='normal', variant='normal', weight=400, stretch='normal', size='scalable')) = 10.05\n",
      "DEBUG:matplotlib.font_manager:findfont: score(FontEntry(fname='/System/Library/Fonts/Supplemental/Waseem.ttc', name='Waseem', style='normal', variant='normal', weight=400, stretch='normal', size='scalable')) = 10.05\n",
      "DEBUG:matplotlib.font_manager:findfont: score(FontEntry(fname='/System/Library/Fonts/GeezaPro.ttc', name='Geeza Pro', style='normal', variant='normal', weight=400, stretch='normal', size='scalable')) = 10.05\n",
      "DEBUG:matplotlib.font_manager:findfont: score(FontEntry(fname='/System/Library/Fonts/Supplemental/Silom.ttf', name='Silom', style='normal', variant='normal', weight=400, stretch='normal', size='scalable')) = 10.05\n",
      "DEBUG:matplotlib.font_manager:findfont: score(FontEntry(fname='/System/Library/Fonts/Supplemental/NotoSansLycian-Regular.ttf', name='Noto Sans Lycian', style='normal', variant='normal', weight=400, stretch='normal', size='scalable')) = 10.05\n",
      "DEBUG:matplotlib.font_manager:findfont: score(FontEntry(fname='/System/Library/Fonts/Supplemental/Skia.ttf', name='Skia', style='normal', variant='normal', weight=5, stretch='normal', size='scalable')) = 10.42525\n",
      "DEBUG:matplotlib.font_manager:findfont: score(FontEntry(fname='/System/Library/Fonts/Supplemental/Muna.ttc', name='Muna', style='normal', variant='normal', weight=400, stretch='normal', size='scalable')) = 10.05\n",
      "DEBUG:matplotlib.font_manager:findfont: score(FontEntry(fname='/System/Library/Fonts/AppleSDGothicNeo.ttc', name='Apple SD Gothic Neo', style='normal', variant='normal', weight=400, stretch='normal', size='scalable')) = 10.05\n",
      "DEBUG:matplotlib.font_manager:findfont: score(FontEntry(fname='/System/Library/Fonts/Supplemental/NotoSansOldPermic-Regular.ttf', name='Noto Sans Old Permic', style='normal', variant='normal', weight=400, stretch='normal', size='scalable')) = 10.05\n",
      "DEBUG:matplotlib.font_manager:findfont: score(FontEntry(fname='/System/Library/Fonts/ヒラギノ丸ゴ ProN W4.ttc', name='Hiragino Maru Gothic Pro', style='normal', variant='normal', weight=400, stretch='normal', size='scalable')) = 10.05\n",
      "DEBUG:matplotlib.font_manager:findfont: score(FontEntry(fname='/System/Library/Fonts/Supplemental/Apple Chancery.ttf', name='Apple Chancery', style='normal', variant='normal', weight=0, stretch='normal', size='scalable')) = 10.43\n",
      "DEBUG:matplotlib.font_manager:findfont: score(FontEntry(fname='/System/Library/Fonts/Supplemental/NotoSerifYezidi-Regular.otf', name='Noto Serif Yezidi', style='normal', variant='normal', weight=400, stretch='normal', size='scalable')) = 10.05\n",
      "DEBUG:matplotlib.font_manager:findfont: score(FontEntry(fname='/System/Library/Fonts/Supplemental/STIXSizFourSymReg.otf', name='STIXSizeFourSym', style='normal', variant='normal', weight=400, stretch='normal', size='scalable')) = 10.05\n",
      "DEBUG:matplotlib.font_manager:findfont: score(FontEntry(fname='/System/Library/Fonts/Supplemental/Shree714.ttc', name='Shree Devanagari 714', style='normal', variant='normal', weight=400, stretch='normal', size='scalable')) = 10.05\n",
      "DEBUG:matplotlib.font_manager:findfont: score(FontEntry(fname='/System/Library/Fonts/Supplemental/NotoSansCaucasianAlbanian-Regular.ttf', name='Noto Sans Caucasian Albanian', style='normal', variant='normal', weight=400, stretch='normal', size='scalable')) = 10.05\n",
      "DEBUG:matplotlib.font_manager:findfont: score(FontEntry(fname='/System/Library/Fonts/Supplemental/Seravek.ttc', name='Seravek', style='normal', variant='normal', weight=400, stretch='normal', size='scalable')) = 10.05\n",
      "DEBUG:matplotlib.font_manager:findfont: score(FontEntry(fname='/System/Library/Fonts/Supplemental/NotoSansBamum-Regular.ttf', name='Noto Sans Bamum', style='normal', variant='normal', weight=400, stretch='normal', size='scalable')) = 10.05\n",
      "DEBUG:matplotlib.font_manager:findfont: score(FontEntry(fname='/System/Library/Fonts/Avenir.ttc', name='Avenir', style='normal', variant='normal', weight=400, stretch='normal', size='scalable')) = 10.05\n",
      "DEBUG:matplotlib.font_manager:findfont: score(FontEntry(fname='/System/Library/Fonts/Apple Braille Outline 8 Dot.ttf', name='Apple Braille', style='normal', variant='normal', weight=400, stretch='normal', size='scalable')) = 10.05\n",
      "DEBUG:matplotlib.font_manager:findfont: score(FontEntry(fname='/System/Library/Fonts/Supplemental/Malayalam Sangam MN.ttc', name='Malayalam Sangam MN', style='normal', variant='normal', weight=400, stretch='normal', size='scalable')) = 10.05\n",
      "DEBUG:matplotlib.font_manager:findfont: score(FontEntry(fname='/System/Library/Fonts/Supplemental/Trebuchet MS Bold Italic.ttf', name='Trebuchet MS', style='italic', variant='normal', weight=700, stretch='normal', size='scalable')) = 11.335\n",
      "DEBUG:matplotlib.font_manager:findfont: score(FontEntry(fname='/System/Library/Fonts/Supplemental/NotoSansLisu-Regular.ttf', name='Noto Sans Lisu', style='normal', variant='normal', weight=400, stretch='normal', size='scalable')) = 10.05\n",
      "DEBUG:matplotlib.font_manager:findfont: score(FontEntry(fname='/System/Library/Fonts/SFNSMono.ttf', name='.SF NS Mono', style='normal', variant='normal', weight=295, stretch='normal', size='scalable')) = 10.14975\n",
      "DEBUG:matplotlib.font_manager:findfont: score(FontEntry(fname='/System/Library/Fonts/Supplemental/NotoSansPhagsPa-Regular.ttf', name='Noto Sans PhagsPa', style='normal', variant='normal', weight=400, stretch='normal', size='scalable')) = 10.05\n",
      "DEBUG:matplotlib.font_manager:findfont: score(FontEntry(fname='/System/Library/Fonts/Supplemental/STIXSizFiveSymReg.otf', name='STIXSizeFiveSym', style='normal', variant='normal', weight=400, stretch='normal', size='scalable')) = 10.05\n",
      "DEBUG:matplotlib.font_manager:findfont: score(FontEntry(fname='/System/Library/Fonts/Supplemental/STIXSizOneSymReg.otf', name='STIXSizeOneSym', style='normal', variant='normal', weight=400, stretch='normal', size='scalable')) = 10.05\n",
      "DEBUG:matplotlib.font_manager:findfont: score(FontEntry(fname='/System/Library/Fonts/Supplemental/NotoSansSyriac-Regular.ttf', name='Noto Sans Syriac', style='normal', variant='normal', weight=400, stretch='normal', size='scalable')) = 10.05\n",
      "DEBUG:matplotlib.font_manager:findfont: score(FontEntry(fname='/System/Library/Fonts/Supplemental/Charter.ttc', name='Charter', style='normal', variant='normal', weight=400, stretch='normal', size='scalable')) = 10.05\n",
      "DEBUG:matplotlib.font_manager:findfont: score(FontEntry(fname='/System/Library/Fonts/Supplemental/STIXIntDReg.otf', name='STIXIntegralsD', style='normal', variant='normal', weight=400, stretch='normal', size='scalable')) = 10.05\n",
      "DEBUG:matplotlib.font_manager:findfont: score(FontEntry(fname='/System/Library/Fonts/Supplemental/Gurmukhi.ttf', name='Gurmukhi MT', style='normal', variant='normal', weight=500, stretch='normal', size='scalable')) = 10.145\n",
      "DEBUG:matplotlib.font_manager:findfont: score(FontEntry(fname='/System/Library/Fonts/Supplemental/NotoSansOldSouthArabian-Regular.ttf', name='Noto Sans Old South Arabian', style='normal', variant='normal', weight=400, stretch='normal', size='scalable')) = 10.05\n",
      "DEBUG:matplotlib.font_manager:findfont: score(FontEntry(fname='/System/Library/Fonts/Supplemental/STIXSizTwoSymBol.otf', name='STIXSizeTwoSym', style='normal', variant='normal', weight=700, stretch='normal', size='scalable')) = 10.335\n",
      "DEBUG:matplotlib.font_manager:findfont: score(FontEntry(fname='/System/Library/Fonts/Supplemental/Zapfino.ttf', name='Zapfino', style='normal', variant='normal', weight=400, stretch='normal', size='scalable')) = 10.05\n",
      "DEBUG:matplotlib.font_manager:findfont: score(FontEntry(fname='/System/Library/Fonts/Supplemental/NotoSansBuginese-Regular.ttf', name='Noto Sans Buginese', style='normal', variant='normal', weight=400, stretch='normal', size='scalable')) = 10.05\n",
      "DEBUG:matplotlib.font_manager:findfont: score(FontEntry(fname='/System/Library/Fonts/Geneva.ttf', name='Geneva', style='normal', variant='normal', weight=400, stretch='normal', size='scalable')) = 4.595454545454545\n",
      "DEBUG:matplotlib.font_manager:findfont: score(FontEntry(fname='/System/Library/Fonts/Supplemental/Tamil MN.ttc', name='Tamil MN', style='normal', variant='normal', weight=400, stretch='normal', size='scalable')) = 10.05\n",
      "DEBUG:matplotlib.font_manager:findfont: score(FontEntry(fname='/System/Library/Fonts/Supplemental/Rockwell.ttc', name='Rockwell', style='normal', variant='normal', weight=400, stretch='normal', size='scalable')) = 10.05\n",
      "DEBUG:matplotlib.font_manager:findfont: score(FontEntry(fname='/System/Library/Fonts/Supplemental/NotoSansCarian-Regular.ttf', name='Noto Sans Carian', style='normal', variant='normal', weight=400, stretch='normal', size='scalable')) = 10.05\n",
      "DEBUG:matplotlib.font_manager:findfont: score(FontEntry(fname='/System/Library/Fonts/Supplemental/NotoSansBassaVah-Regular.ttf', name='Noto Sans Bassa Vah', style='normal', variant='normal', weight=400, stretch='normal', size='scalable')) = 10.05\n",
      "DEBUG:matplotlib.font_manager:findfont: score(FontEntry(fname='/System/Library/Fonts/Supplemental/NotoSansLinearB-Regular.ttf', name='Noto Sans Linear B', style='normal', variant='normal', weight=400, stretch='normal', size='scalable')) = 10.05\n",
      "DEBUG:matplotlib.font_manager:findfont: score(FontEntry(fname='/System/Library/Fonts/Supplemental/Songti.ttc', name='Songti SC', style='normal', variant='normal', weight=900, stretch='normal', size='scalable')) = 10.525\n",
      "DEBUG:matplotlib.font_manager:findfont: score(FontEntry(fname='/System/Library/Fonts/ヒラギノ角ゴシック W8.ttc', name='Hiragino Sans', style='normal', variant='normal', weight=800, stretch='normal', size='scalable')) = 10.43\n",
      "DEBUG:matplotlib.font_manager:findfont: score(FontEntry(fname='/System/Library/Fonts/Supplemental/Arial Narrow Bold Italic.ttf', name='Arial Narrow', style='italic', variant='normal', weight=700, stretch='condensed', size='scalable')) = 11.535\n",
      "DEBUG:matplotlib.font_manager:findfont: score(FontEntry(fname='/System/Library/Fonts/Supplemental/Nadeem.ttc', name='Nadeem', style='normal', variant='normal', weight=400, stretch='normal', size='scalable')) = 10.05\n",
      "DEBUG:matplotlib.font_manager:findfont: score(FontEntry(fname='/System/Library/Fonts/Palatino.ttc', name='Palatino', style='normal', variant='normal', weight=400, stretch='normal', size='scalable')) = 10.05\n",
      "DEBUG:matplotlib.font_manager:findfont: score(FontEntry(fname='/System/Library/Fonts/Supplemental/NotoSansKharoshthi-Regular.ttf', name='Noto Sans Kharoshthi', style='normal', variant='normal', weight=400, stretch='normal', size='scalable')) = 10.05\n",
      "DEBUG:matplotlib.font_manager:findfont: score(FontEntry(fname='/System/Library/Fonts/Avenir Next Condensed.ttc', name='Avenir Next Condensed', style='normal', variant='normal', weight=700, stretch='condensed', size='scalable')) = 10.535\n",
      "DEBUG:matplotlib.font_manager:findfont: score(FontEntry(fname='/System/Library/Fonts/Supplemental/NotoSansKhudawadi-Regular.ttf', name='Noto Sans Khudawadi', style='normal', variant='normal', weight=400, stretch='normal', size='scalable')) = 10.05\n",
      "DEBUG:matplotlib.font_manager:findfont: score(FontEntry(fname='/System/Library/Fonts/Supplemental/NotoSansPalmyrene-Regular.ttf', name='Noto Sans Palmyrene', style='normal', variant='normal', weight=400, stretch='normal', size='scalable')) = 10.05\n",
      "DEBUG:matplotlib.font_manager:findfont: score(FontEntry(fname='/System/Library/Fonts/Supplemental/Arial.ttf', name='Arial', style='normal', variant='normal', weight=400, stretch='normal', size='scalable')) = 6.413636363636363\n",
      "DEBUG:matplotlib.font_manager:findfont: score(FontEntry(fname='/System/Library/Fonts/Supplemental/Oriya MN.ttc', name='Oriya MN', style='normal', variant='normal', weight=400, stretch='normal', size='scalable')) = 10.05\n",
      "DEBUG:matplotlib.font_manager:findfont: score(FontEntry(fname='/System/Library/Fonts/Supplemental/Wingdings 3.ttf', name='Wingdings 3', style='normal', variant='normal', weight=400, stretch='normal', size='scalable')) = 10.05\n",
      "DEBUG:matplotlib.font_manager:findfont: score(FontEntry(fname='/System/Library/Fonts/Supplemental/Verdana Bold.ttf', name='Verdana', style='normal', variant='normal', weight=700, stretch='normal', size='scalable')) = 3.9713636363636367\n",
      "DEBUG:matplotlib.font_manager:findfont: score(FontEntry(fname='/System/Library/Fonts/SFNSMonoItalic.ttf', name='.SF NS Mono', style='italic', variant='normal', weight=295, stretch='normal', size='scalable')) = 11.14975\n",
      "DEBUG:matplotlib.font_manager:findfont: score(FontEntry(fname='/System/Library/Fonts/ヒラギノ角ゴシック W0.ttc', name='Hiragino Sans', style='normal', variant='normal', weight=100, stretch='normal', size='scalable')) = 10.335\n",
      "DEBUG:matplotlib.font_manager:findfont: score(FontEntry(fname='/System/Library/Fonts/Supplemental/Courier New Italic.ttf', name='Courier New', style='italic', variant='normal', weight=400, stretch='normal', size='scalable')) = 11.05\n",
      "DEBUG:matplotlib.font_manager:findfont: score(FontEntry(fname='/System/Library/Fonts/Supplemental/NotoSansMarchen-Regular.ttf', name='Noto Sans Marchen', style='normal', variant='normal', weight=400, stretch='normal', size='scalable')) = 10.05\n",
      "DEBUG:matplotlib.font_manager:findfont: score(FontEntry(fname='/System/Library/Fonts/Supplemental/Gujarati Sangam MN.ttc', name='Gujarati Sangam MN', style='normal', variant='normal', weight=400, stretch='normal', size='scalable')) = 10.05\n",
      "DEBUG:matplotlib.font_manager:findfont: score(FontEntry(fname='/System/Library/Fonts/Supplemental/Verdana.ttf', name='Verdana', style='normal', variant='normal', weight=400, stretch='normal', size='scalable')) = 3.6863636363636365\n",
      "DEBUG:matplotlib.font_manager:findfont: score(FontEntry(fname='/System/Library/Fonts/Supplemental/NotoSansOldItalic-Regular.ttf', name='Noto Sans Old Italic', style='italic', variant='normal', weight=400, stretch='normal', size='scalable')) = 11.05\n",
      "DEBUG:matplotlib.font_manager:findfont: score(FontEntry(fname='/System/Library/Fonts/Supplemental/Sathu.ttf', name='Sathu', style='normal', variant='normal', weight=400, stretch='normal', size='scalable')) = 10.05\n",
      "DEBUG:matplotlib.font_manager:findfont: score(FontEntry(fname='/System/Library/Fonts/Supplemental/GillSans.ttc', name='Gill Sans', style='normal', variant='normal', weight=400, stretch='normal', size='scalable')) = 10.05\n",
      "DEBUG:matplotlib.font_manager:findfont: score(FontEntry(fname='/System/Library/Fonts/Apple Braille Outline 6 Dot.ttf', name='Apple Braille', style='normal', variant='normal', weight=400, stretch='normal', size='scalable')) = 10.05\n",
      "DEBUG:matplotlib.font_manager:findfont: score(FontEntry(fname='/System/Library/Fonts/ヒラギノ角ゴシック W9.ttc', name='Hiragino Sans', style='normal', variant='normal', weight=900, stretch='normal', size='scalable')) = 10.525\n",
      "DEBUG:matplotlib.font_manager:findfont: score(FontEntry(fname='/System/Library/Fonts/Apple Braille Pinpoint 6 Dot.ttf', name='Apple Braille', style='normal', variant='normal', weight=400, stretch='normal', size='scalable')) = 10.05\n",
      "DEBUG:matplotlib.font_manager:findfont: score(FontEntry(fname='/System/Library/Fonts/Supplemental/NotoSansThaana-Regular.ttf', name='Noto Sans Thaana', style='normal', variant='normal', weight=400, stretch='normal', size='scalable')) = 10.05\n",
      "DEBUG:matplotlib.font_manager:findfont: score(FontEntry(fname='/System/Library/Fonts/Supplemental/NotoSansMasaramGondi-Regular.otf', name='Noto Sans Masaram Gondi', style='normal', variant='normal', weight=400, stretch='normal', size='scalable')) = 10.05\n",
      "DEBUG:matplotlib.font_manager:findfont: score(FontEntry(fname='/System/Library/Fonts/Apple Braille.ttf', name='Apple Braille', style='normal', variant='normal', weight=400, stretch='normal', size='scalable')) = 10.05\n",
      "DEBUG:matplotlib.font_manager:findfont: score(FontEntry(fname='/System/Library/Fonts/Supplemental/Oriya Sangam MN.ttc', name='Oriya Sangam MN', style='normal', variant='normal', weight=400, stretch='normal', size='scalable')) = 10.05\n",
      "DEBUG:matplotlib.font_manager:findfont: score(FontEntry(fname='/System/Library/Fonts/Supplemental/Sana.ttc', name='Sana', style='normal', variant='normal', weight=400, stretch='normal', size='scalable')) = 10.05\n",
      "DEBUG:matplotlib.font_manager:findfont: score(FontEntry(fname='/System/Library/Fonts/Supplemental/ITFDevanagari.ttc', name='ITF Devanagari', style='normal', variant='normal', weight=400, stretch='normal', size='scalable')) = 10.05\n",
      "DEBUG:matplotlib.font_manager:findfont: score(FontEntry(fname='/System/Library/Fonts/Supplemental/Al Nile.ttc', name='Al Nile', style='normal', variant='normal', weight=400, stretch='normal', size='scalable')) = 10.05\n",
      "DEBUG:matplotlib.font_manager:findfont: score(FontEntry(fname='/System/Library/Fonts/Supplemental/STIXGeneral.otf', name='STIXGeneral', style='normal', variant='normal', weight=400, stretch='normal', size='scalable')) = 10.05\n",
      "DEBUG:matplotlib.font_manager:findfont: score(FontEntry(fname='/System/Library/Fonts/Supplemental/Marion.ttc', name='Marion', style='normal', variant='normal', weight=400, stretch='normal', size='scalable')) = 10.05\n",
      "DEBUG:matplotlib.font_manager:findfont: score(FontEntry(fname='/System/Library/Fonts/AquaKana.ttc', name='.Aqua Kana', style='normal', variant='normal', weight=300, stretch='normal', size='scalable')) = 10.145\n",
      "DEBUG:matplotlib.font_manager:findfont: score(FontEntry(fname='/System/Library/Fonts/Supplemental/NotoSansTaiTham-Regular.ttf', name='Noto Sans Tai Tham', style='normal', variant='normal', weight=400, stretch='normal', size='scalable')) = 10.05\n",
      "DEBUG:matplotlib.font_manager:findfont: score(FontEntry(fname='/Library/Fonts/Arial Unicode.ttf', name='Arial Unicode MS', style='normal', variant='normal', weight=400, stretch='normal', size='scalable')) = 10.05\n",
      "DEBUG:matplotlib.font_manager:findfont: score(FontEntry(fname='/System/Library/Fonts/HelveticaNeue.ttc', name='Helvetica Neue', style='normal', variant='normal', weight=400, stretch='normal', size='scalable')) = 10.05\n",
      "DEBUG:matplotlib.font_manager:findfont: score(FontEntry(fname='/System/Library/Fonts/Supplemental/Mishafi.ttf', name='Mishafi', style='normal', variant='normal', weight=400, stretch='normal', size='scalable')) = 10.05\n",
      "DEBUG:matplotlib.font_manager:findfont: score(FontEntry(fname='/System/Library/Fonts/Supplemental/NotoSansTirhuta-Regular.ttf', name='Noto Sans Tirhuta', style='normal', variant='normal', weight=400, stretch='normal', size='scalable')) = 10.05\n",
      "DEBUG:matplotlib.font_manager:findfont: score(FontEntry(fname='/System/Library/Fonts/Supplemental/NotoSansLydian-Regular.ttf', name='Noto Sans Lydian', style='normal', variant='normal', weight=400, stretch='normal', size='scalable')) = 10.05\n",
      "DEBUG:matplotlib.font_manager:findfont: score(FontEntry(fname='/System/Library/Fonts/Supplemental/AppleGothic.ttf', name='AppleGothic', style='normal', variant='normal', weight=400, stretch='normal', size='scalable')) = 10.05\n",
      "DEBUG:matplotlib.font_manager:findfont: score(FontEntry(fname='/System/Library/Fonts/Supplemental/AmericanTypewriter.ttc', name='American Typewriter', style='normal', variant='normal', weight=400, stretch='normal', size='scalable')) = 10.05\n",
      "DEBUG:matplotlib.font_manager:findfont: score(FontEntry(fname='/System/Library/Fonts/Supplemental/AppleMyungjo.ttf', name='AppleMyungjo', style='normal', variant='normal', weight=400, stretch='normal', size='scalable')) = 10.05\n",
      "DEBUG:matplotlib.font_manager:findfont: score(FontEntry(fname='/System/Library/Fonts/Supplemental/Trattatello.ttf', name='Trattatello', style='normal', variant='normal', weight=400, stretch='normal', size='scalable')) = 10.05\n",
      "DEBUG:matplotlib.font_manager:findfont: score(FontEntry(fname='/System/Library/Fonts/Supplemental/DecoTypeNaskh.ttc', name='DecoType Naskh', style='normal', variant='normal', weight=400, stretch='normal', size='scalable')) = 10.05\n",
      "DEBUG:matplotlib.font_manager:findfont: score(FontEntry(fname='/System/Library/Fonts/Supplemental/Myanmar Sangam MN.ttc', name='Myanmar Sangam MN', style='normal', variant='normal', weight=400, stretch='normal', size='scalable')) = 10.05\n",
      "DEBUG:matplotlib.font_manager:findfont: score(FontEntry(fname='/System/Library/Fonts/Supplemental/Baghdad.ttc', name='Baghdad', style='normal', variant='normal', weight=400, stretch='normal', size='scalable')) = 10.05\n",
      "DEBUG:matplotlib.font_manager:findfont: score(FontEntry(fname='/System/Library/Fonts/Supplemental/NotoSansCoptic-Regular.ttf', name='Noto Sans Coptic', style='normal', variant='normal', weight=400, stretch='normal', size='scalable')) = 10.05\n",
      "DEBUG:matplotlib.font_manager:findfont: score(FontEntry(fname='/System/Library/Fonts/Supplemental/NotoSansUgaritic-Regular.ttf', name='Noto Sans Ugaritic', style='normal', variant='normal', weight=400, stretch='normal', size='scalable')) = 10.05\n",
      "DEBUG:matplotlib.font_manager:findfont: score(FontEntry(fname='/System/Library/Fonts/Supplemental/NotoSansMahajani-Regular.ttf', name='Noto Sans Mahajani', style='normal', variant='normal', weight=400, stretch='normal', size='scalable')) = 10.05\n",
      "DEBUG:matplotlib.font_manager:findfont: score(FontEntry(fname='/System/Library/Fonts/Supplemental/Tahoma.ttf', name='Tahoma', style='normal', variant='normal', weight=400, stretch='normal', size='scalable')) = 10.05\n",
      "DEBUG:matplotlib.font_manager:findfont: score(FontEntry(fname='/System/Library/Fonts/Apple Braille Pinpoint 8 Dot.ttf', name='Apple Braille', style='normal', variant='normal', weight=400, stretch='normal', size='scalable')) = 10.05\n",
      "DEBUG:matplotlib.font_manager:findfont: score(FontEntry(fname='/System/Library/Fonts/Thonburi.ttc', name='Thonburi', style='normal', variant='normal', weight=400, stretch='normal', size='scalable')) = 10.05\n",
      "DEBUG:matplotlib.font_manager:findfont: score(FontEntry(fname='/System/Library/Fonts/Helvetica.ttc', name='Helvetica', style='normal', variant='normal', weight=400, stretch='normal', size='scalable')) = 7.322727272727273\n",
      "DEBUG:matplotlib.font_manager:findfont: score(FontEntry(fname='/System/Library/Fonts/Supplemental/NotoSansSaurashtra-Regular.ttf', name='Noto Sans Saurashtra', style='normal', variant='normal', weight=400, stretch='normal', size='scalable')) = 10.05\n",
      "DEBUG:matplotlib.font_manager:findfont: score(FontEntry(fname='/System/Library/Fonts/Supplemental/NotoSansSundanese-Regular.ttf', name='Noto Sans Sundanese', style='normal', variant='normal', weight=400, stretch='normal', size='scalable')) = 10.05\n",
      "DEBUG:matplotlib.font_manager:findfont: score(FontEntry(fname='/System/Library/Fonts/STHeiti Light.ttc', name='Heiti TC', style='normal', variant='normal', weight=300, stretch='normal', size='scalable')) = 10.145\n",
      "DEBUG:matplotlib.font_manager:findfont: score(FontEntry(fname='/System/Library/Fonts/Supplemental/STIXSizOneSymBol.otf', name='STIXSizeOneSym', style='normal', variant='normal', weight=700, stretch='normal', size='scalable')) = 10.335\n",
      "DEBUG:matplotlib.font_manager:findfont: score(FontEntry(fname='/System/Library/Fonts/Supplemental/NotoSansMandaic-Regular.ttf', name='Noto Sans Mandaic', style='normal', variant='normal', weight=400, stretch='normal', size='scalable')) = 10.05\n",
      "DEBUG:matplotlib.font_manager:findfont: score(FontEntry(fname='/System/Library/Fonts/Supplemental/STIXGeneralBolIta.otf', name='STIXGeneral', style='italic', variant='normal', weight=700, stretch='normal', size='scalable')) = 11.335\n",
      "DEBUG:matplotlib.font_manager:findfont: score(FontEntry(fname='/System/Library/Fonts/Supplemental/NotoSansModi-Regular.ttf', name='Noto Sans Modi', style='normal', variant='normal', weight=400, stretch='normal', size='scalable')) = 10.05\n",
      "DEBUG:matplotlib.font_manager:findfont: score(FontEntry(fname='/System/Library/Fonts/Keyboard.ttf', name='.Keyboard', style='normal', variant='normal', weight=100, stretch='normal', size='scalable')) = 10.335\n",
      "DEBUG:matplotlib.font_manager:findfont: score(FontEntry(fname='/System/Library/Fonts/Supplemental/NotoSansYi-Regular.ttf', name='Noto Sans Yi', style='normal', variant='normal', weight=400, stretch='normal', size='scalable')) = 10.05\n",
      "DEBUG:matplotlib.font_manager:findfont: score(FontEntry(fname='/System/Library/Fonts/KohinoorBangla.ttc', name='Kohinoor Bangla', style='normal', variant='normal', weight=400, stretch='normal', size='scalable')) = 10.05\n",
      "DEBUG:matplotlib.font_manager:findfont: score(FontEntry(fname='/System/Library/Fonts/Supplemental/DevanagariMT.ttc', name='Devanagari MT', style='normal', variant='normal', weight=400, stretch='normal', size='scalable')) = 10.05\n",
      "DEBUG:matplotlib.font_manager:findfont: score(FontEntry(fname='/System/Library/Fonts/Supplemental/NotoSansKayahLi-Regular.ttf', name='Noto Sans Kayah Li', style='normal', variant='normal', weight=400, stretch='normal', size='scalable')) = 10.05\n",
      "DEBUG:matplotlib.font_manager:findfont: score(FontEntry(fname='/System/Library/Fonts/Supplemental/Chalkduster.ttf', name='Chalkduster', style='normal', variant='normal', weight=400, stretch='normal', size='scalable')) = 10.05\n",
      "DEBUG:matplotlib.font_manager:findfont: score(FontEntry(fname='/System/Library/Fonts/NotoSerifMyanmar.ttc', name='Noto Serif Myanmar', style='normal', variant='normal', weight=900, stretch='normal', size='scalable')) = 10.525\n",
      "DEBUG:matplotlib.font_manager:findfont: score(FontEntry(fname='/System/Library/Fonts/Times.ttc', name='Times', style='normal', variant='normal', weight=400, stretch='normal', size='scalable')) = 10.05\n",
      "DEBUG:matplotlib.font_manager:findfont: score(FontEntry(fname='/System/Library/Fonts/Supplemental/Georgia Bold Italic.ttf', name='Georgia', style='italic', variant='normal', weight=700, stretch='normal', size='scalable')) = 11.335\n",
      "DEBUG:matplotlib.font_manager:findfont: score(FontEntry(fname='/System/Library/Fonts/Supplemental/Kannada MN.ttc', name='Kannada MN', style='normal', variant='normal', weight=400, stretch='normal', size='scalable')) = 10.05\n",
      "DEBUG:matplotlib.font_manager:findfont: score(FontEntry(fname='/System/Library/Fonts/Supplemental/NotoSansNewa-Regular.ttf', name='Noto Sans Newa', style='normal', variant='normal', weight=400, stretch='normal', size='scalable')) = 10.05\n",
      "DEBUG:matplotlib.font_manager:findfont: score(FontEntry(fname='/System/Library/Fonts/Supplemental/InaiMathi-MN.ttc', name='InaiMathi', style='normal', variant='normal', weight=400, stretch='normal', size='scalable')) = 10.05\n",
      "DEBUG:matplotlib.font_manager:findfont: score(FontEntry(fname='/System/Library/Fonts/ヒラギノ角ゴシック W2.ttc', name='Hiragino Sans', style='normal', variant='normal', weight=250, stretch='normal', size='scalable')) = 10.1925\n",
      "DEBUG:matplotlib.font_manager:findfont: score(FontEntry(fname='/System/Library/Fonts/Supplemental/Papyrus.ttc', name='Papyrus', style='normal', variant='normal', weight=400, stretch='condensed', size='scalable')) = 10.25\n",
      "DEBUG:matplotlib.font_manager:findfont: score(FontEntry(fname='/System/Library/Fonts/Supplemental/NotoSansJavanese-Regular.otf', name='Noto Sans Javanese', style='normal', variant='normal', weight=400, stretch='normal', size='scalable')) = 10.05\n",
      "DEBUG:matplotlib.font_manager:findfont: score(FontEntry(fname='/System/Library/Fonts/Supplemental/SuperClarendon.ttc', name='Superclarendon', style='normal', variant='normal', weight=400, stretch='normal', size='scalable')) = 10.05\n",
      "DEBUG:matplotlib.font_manager:findfont: score(FontEntry(fname='/System/Library/Fonts/NotoSansMyanmar.ttc', name='Noto Sans Myanmar', style='normal', variant='normal', weight=900, stretch='normal', size='scalable')) = 10.525\n",
      "DEBUG:matplotlib.font_manager:findfont: score(FontEntry(fname='/System/Library/Fonts/Supplemental/NotoSansSylotiNagri-Regular.ttf', name='Noto Sans Syloti Nagri', style='normal', variant='normal', weight=400, stretch='normal', size='scalable')) = 10.05\n",
      "DEBUG:matplotlib.font_manager:findfont: score(FontEntry(fname='/System/Library/Fonts/NewYorkItalic.ttf', name='.New York', style='italic', variant='normal', weight=400, stretch='normal', size='scalable')) = 11.05\n",
      "DEBUG:matplotlib.font_manager:findfont: score(FontEntry(fname='/System/Library/Fonts/Supplemental/NotoSansOsmanya-Regular.ttf', name='Noto Sans Osmanya', style='normal', variant='normal', weight=400, stretch='normal', size='scalable')) = 10.05\n",
      "DEBUG:matplotlib.font_manager:findfont: score(FontEntry(fname='/System/Library/Fonts/ヒラギノ角ゴシック W7.ttc', name='Hiragino Sans', style='normal', variant='normal', weight=700, stretch='normal', size='scalable')) = 10.335\n",
      "DEBUG:matplotlib.font_manager:findfont: score(FontEntry(fname='/System/Library/Fonts/SFArabic.ttf', name='.SF Arabic', style='normal', variant='normal', weight=400, stretch='normal', size='scalable')) = 10.05\n",
      "DEBUG:matplotlib.font_manager:findfont: score(FontEntry(fname='/System/Library/Fonts/Supplemental/Arial Narrow.ttf', name='Arial Narrow', style='normal', variant='normal', weight=400, stretch='condensed', size='scalable')) = 10.25\n",
      "DEBUG:matplotlib.font_manager:findfont: score(FontEntry(fname='/System/Library/Fonts/Supplemental/Arial Italic.ttf', name='Arial', style='italic', variant='normal', weight=400, stretch='normal', size='scalable')) = 7.413636363636363\n",
      "DEBUG:matplotlib.font_manager:findfont: score(FontEntry(fname='/System/Library/Fonts/Supplemental/NotoSansOlChiki-Regular.ttf', name='Noto Sans Ol Chiki', style='normal', variant='normal', weight=400, stretch='normal', size='scalable')) = 10.05\n",
      "DEBUG:matplotlib.font_manager:findfont: score(FontEntry(fname='/System/Library/Fonts/Supplemental/Kokonor.ttf', name='Kokonor', style='normal', variant='normal', weight=400, stretch='normal', size='scalable')) = 10.05\n",
      "DEBUG:matplotlib.font_manager:findfont: score(FontEntry(fname='/System/Library/Fonts/Supplemental/STIXNonUniBol.otf', name='STIXNonUnicode', style='normal', variant='normal', weight=700, stretch='normal', size='scalable')) = 10.335\n",
      "DEBUG:matplotlib.font_manager:findfont: score(FontEntry(fname='/System/Library/Fonts/Supplemental/STIXNonUni.otf', name='STIXNonUnicode', style='normal', variant='normal', weight=400, stretch='normal', size='scalable')) = 10.05\n",
      "DEBUG:matplotlib.font_manager:findfont: score(FontEntry(fname='/System/Library/Fonts/Supplemental/Bangla MN.ttc', name='Bangla MN', style='normal', variant='normal', weight=400, stretch='normal', size='scalable')) = 10.05\n",
      "DEBUG:matplotlib.font_manager:findfont: score(FontEntry(fname='/System/Library/Fonts/Supplemental/STIXGeneralBol.otf', name='STIXGeneral', style='normal', variant='normal', weight=700, stretch='normal', size='scalable')) = 10.335\n",
      "DEBUG:matplotlib.font_manager:findfont: score(FontEntry(fname='/System/Library/Fonts/Supplemental/NotoSansNabataean-Regular.ttf', name='Noto Sans Nabataean', style='normal', variant='normal', weight=400, stretch='normal', size='scalable')) = 10.05\n",
      "DEBUG:matplotlib.font_manager:findfont: score(FontEntry(fname='/System/Library/Fonts/Supplemental/NotoSansCypriot-Regular.ttf', name='Noto Sans Cypriot', style='normal', variant='normal', weight=400, stretch='normal', size='scalable')) = 10.05\n",
      "DEBUG:matplotlib.font_manager:findfont: score(FontEntry(fname='/System/Library/Fonts/Supplemental/Hoefler Text.ttc', name='Hoefler Text', style='normal', variant='normal', weight=400, stretch='normal', size='scalable')) = 10.05\n",
      "DEBUG:matplotlib.font_manager:findfont: score(FontEntry(fname='/System/Library/Fonts/Kohinoor.ttc', name='Kohinoor Devanagari', style='normal', variant='normal', weight=400, stretch='normal', size='scalable')) = 10.05\n",
      "DEBUG:matplotlib.font_manager:findfont: score(FontEntry(fname='/System/Library/Fonts/Supplemental/Arial Narrow Italic.ttf', name='Arial Narrow', style='italic', variant='normal', weight=400, stretch='condensed', size='scalable')) = 11.25\n",
      "DEBUG:matplotlib.font_manager:findfont: score(FontEntry(fname='/System/Library/Fonts/Supplemental/Webdings.ttf', name='Webdings', style='normal', variant='normal', weight=400, stretch='normal', size='scalable')) = 10.05\n",
      "DEBUG:matplotlib.font_manager:findfont: score(FontEntry(fname='/System/Library/Fonts/NotoNastaliq.ttc', name='Noto Nastaliq Urdu', style='normal', variant='normal', weight=400, stretch='normal', size='scalable')) = 10.05\n",
      "DEBUG:matplotlib.font_manager:findfont: score(FontEntry(fname='/System/Library/Fonts/Supplemental/NotoSansManichaean-Regular.ttf', name='Noto Sans Manichaean', style='normal', variant='normal', weight=400, stretch='normal', size='scalable')) = 10.05\n",
      "DEBUG:matplotlib.font_manager:findfont: score(FontEntry(fname='/System/Library/Fonts/Supplemental/Arial Narrow Bold.ttf', name='Arial Narrow', style='normal', variant='normal', weight=700, stretch='condensed', size='scalable')) = 10.535\n",
      "DEBUG:matplotlib.font_manager:findfont: score(FontEntry(fname='/System/Library/Fonts/Supplemental/Times New Roman Italic.ttf', name='Times New Roman', style='italic', variant='normal', weight=400, stretch='normal', size='scalable')) = 11.05\n",
      "DEBUG:matplotlib.font_manager:findfont: score(FontEntry(fname='/System/Library/Fonts/Supplemental/NotoSansNKo-Regular.ttf', name='Noto Sans NKo', style='normal', variant='normal', weight=400, stretch='normal', size='scalable')) = 10.05\n",
      "DEBUG:matplotlib.font_manager:findfont: score(FontEntry(fname='/System/Library/Fonts/Supplemental/Phosphate.ttc', name='Phosphate', style='normal', variant='normal', weight=400, stretch='normal', size='scalable')) = 10.05\n",
      "DEBUG:matplotlib.font_manager:findfont: score(FontEntry(fname='/System/Library/Fonts/Supplemental/Lao Sangam MN.ttf', name='Lao Sangam MN', style='normal', variant='normal', weight=400, stretch='normal', size='scalable')) = 10.05\n",
      "DEBUG:matplotlib.font_manager:findfont: score(FontEntry(fname='/System/Library/Fonts/Supplemental/Malayalam MN.ttc', name='Malayalam MN', style='normal', variant='normal', weight=400, stretch='normal', size='scalable')) = 10.05\n",
      "DEBUG:matplotlib.font_manager:findfont: score(FontEntry(fname='/System/Library/Fonts/Supplemental/NotoSansCuneiform-Regular.ttf', name='Noto Sans Cuneiform', style='normal', variant='normal', weight=400, stretch='normal', size='scalable')) = 10.05\n",
      "DEBUG:matplotlib.font_manager:findfont: score(FontEntry(fname='/System/Library/Fonts/Supplemental/NotoSansBuhid-Regular.ttf', name='Noto Sans Buhid', style='normal', variant='normal', weight=400, stretch='normal', size='scalable')) = 10.05\n",
      "DEBUG:matplotlib.font_manager:findfont: score(FontEntry(fname='/System/Library/Fonts/Supplemental/Trebuchet MS Bold.ttf', name='Trebuchet MS', style='normal', variant='normal', weight=700, stretch='normal', size='scalable')) = 10.335\n",
      "DEBUG:matplotlib.font_manager:findfont: score(FontEntry(fname='/System/Library/Fonts/Supplemental/NotoSansGlagolitic-Regular.ttf', name='Noto Sans Glagolitic', style='normal', variant='normal', weight=400, stretch='normal', size='scalable')) = 10.05\n",
      "DEBUG:matplotlib.font_manager:findfont: score(FontEntry(fname='/System/Library/Fonts/Supplemental/Times New Roman.ttf', name='Times New Roman', style='normal', variant='normal', weight=400, stretch='normal', size='scalable')) = 10.05\n",
      "DEBUG:matplotlib.font_manager:findfont: score(FontEntry(fname='/System/Library/Fonts/Supplemental/Bodoni 72 Smallcaps Book.ttf', name='Bodoni 72 Smallcaps', style='normal', variant='normal', weight=400, stretch='normal', size='scalable')) = 10.05\n",
      "DEBUG:matplotlib.font_manager:findfont: score(FontEntry(fname='/System/Library/Fonts/Supplemental/SnellRoundhand.ttc', name='Snell Roundhand', style='normal', variant='normal', weight=500, stretch='normal', size='scalable')) = 10.145\n",
      "DEBUG:matplotlib.font_manager:findfont: score(FontEntry(fname='/System/Library/Fonts/Supplemental/Mshtakan.ttc', name='Mshtakan', style='normal', variant='normal', weight=400, stretch='normal', size='scalable')) = 10.05\n",
      "DEBUG:matplotlib.font_manager:findfont: score(FontEntry(fname='/System/Library/Fonts/Supplemental/AlBayan.ttc', name='Al Bayan', style='normal', variant='normal', weight=400, stretch='normal', size='scalable')) = 10.05\n",
      "DEBUG:matplotlib.font_manager:findfont: score(FontEntry(fname='/System/Library/Fonts/Supplemental/PTSerif.ttc', name='PT Serif', style='normal', variant='normal', weight=400, stretch='normal', size='scalable')) = 10.05\n",
      "DEBUG:matplotlib.font_manager:findfont: score(FontEntry(fname='/System/Library/Fonts/Supplemental/Georgia Bold.ttf', name='Georgia', style='normal', variant='normal', weight=700, stretch='normal', size='scalable')) = 10.335\n",
      "DEBUG:matplotlib.font_manager:findfont: score(FontEntry(fname='/System/Library/Fonts/Supplemental/NotoSansTaiLe-Regular.ttf', name='Noto Sans Tai Le', style='normal', variant='normal', weight=400, stretch='normal', size='scalable')) = 10.05\n",
      "DEBUG:matplotlib.font_manager:findfont: score(FontEntry(fname='/System/Library/Fonts/Supplemental/NotoSansMeeteiMayek-Regular.ttf', name='Noto Sans Meetei Mayek', style='normal', variant='normal', weight=400, stretch='normal', size='scalable')) = 10.05\n",
      "DEBUG:matplotlib.font_manager:findfont: score(FontEntry(fname='/System/Library/Fonts/ヒラギノ角ゴシック W3.ttc', name='Hiragino Sans', style='normal', variant='normal', weight=300, stretch='normal', size='scalable')) = 10.145\n",
      "DEBUG:matplotlib.font_manager:findfont: score(FontEntry(fname='/System/Library/Fonts/Supplemental/DIN Alternate Bold.ttf', name='DIN Alternate', style='normal', variant='normal', weight=700, stretch='normal', size='scalable')) = 10.335\n",
      "DEBUG:matplotlib.font_manager:findfont: score(FontEntry(fname='/System/Library/Fonts/Supplemental/Wingdings.ttf', name='Wingdings', style='normal', variant='normal', weight=400, stretch='normal', size='scalable')) = 10.05\n",
      "DEBUG:matplotlib.font_manager:findfont: score(FontEntry(fname='/System/Library/Fonts/Supplemental/NewPeninimMT.ttc', name='New Peninim MT', style='normal', variant='normal', weight=400, stretch='normal', size='scalable')) = 10.05\n",
      "DEBUG:matplotlib.font_manager:findfont: score(FontEntry(fname='/System/Library/Fonts/Supplemental/Comic Sans MS Bold.ttf', name='Comic Sans MS', style='normal', variant='normal', weight=700, stretch='normal', size='scalable')) = 10.335\n",
      "DEBUG:matplotlib.font_manager:findfont: score(FontEntry(fname='/System/Library/Fonts/Supplemental/NotoSansOldTurkic-Regular.ttf', name='Noto Sans Old Turkic', style='normal', variant='normal', weight=400, stretch='normal', size='scalable')) = 10.05\n",
      "DEBUG:matplotlib.font_manager:findfont: score(FontEntry(fname='/System/Library/Fonts/Supplemental/Savoye LET.ttc', name='Savoye LET', style='normal', variant='normal', weight=400, stretch='normal', size='scalable')) = 10.05\n",
      "DEBUG:matplotlib.font_manager:findfont: score(FontEntry(fname='/System/Library/Fonts/Supplemental/Trebuchet MS.ttf', name='Trebuchet MS', style='normal', variant='normal', weight=400, stretch='normal', size='scalable')) = 10.05\n",
      "DEBUG:matplotlib.font_manager:findfont: score(FontEntry(fname='/System/Library/Fonts/Supplemental/NotoSansWarangCiti-Regular.ttf', name='Noto Sans Warang Citi', style='normal', variant='normal', weight=400, stretch='normal', size='scalable')) = 10.05\n",
      "DEBUG:matplotlib.font_manager:findfont: score(FontEntry(fname='/System/Library/Fonts/Supplemental/NotoSansElbasan-Regular.ttf', name='Noto Sans Elbasan', style='normal', variant='normal', weight=400, stretch='normal', size='scalable')) = 10.05\n",
      "DEBUG:matplotlib.font_manager:findfont: score(FontEntry(fname='/System/Library/Fonts/Supplemental/Arial Black.ttf', name='Arial Black', style='normal', variant='normal', weight=900, stretch='normal', size='scalable')) = 10.525\n",
      "DEBUG:matplotlib.font_manager:findfont: score(FontEntry(fname='/System/Library/Fonts/Supplemental/Iowan Old Style.ttc', name='Iowan Old Style', style='normal', variant='normal', weight=400, stretch='normal', size='scalable')) = 10.05\n",
      "DEBUG:matplotlib.font_manager:findfont: score(FontEntry(fname='/System/Library/Fonts/Supplemental/NotoSansPhoenician-Regular.ttf', name='Noto Sans Phoenician', style='normal', variant='normal', weight=400, stretch='normal', size='scalable')) = 10.05\n",
      "DEBUG:matplotlib.font_manager:findfont: score(FontEntry(fname='/System/Library/Fonts/Supplemental/Corsiva.ttc', name='Corsiva Hebrew', style='normal', variant='normal', weight=400, stretch='normal', size='scalable')) = 10.05\n",
      "DEBUG:matplotlib.font_manager:findfont: score(FontEntry(fname='/System/Library/Fonts/Supplemental/Bradley Hand Bold.ttf', name='Bradley Hand', style='normal', variant='normal', weight=700, stretch='normal', size='scalable')) = 10.335\n",
      "DEBUG:matplotlib.font_manager:findfont: score(FontEntry(fname='/System/Library/Fonts/SFCompactRounded.ttf', name='.SF Compact Rounded', style='normal', variant='normal', weight=400, stretch='normal', size='scalable')) = 10.05\n",
      "DEBUG:matplotlib.font_manager:findfont: score(FontEntry(fname='/System/Library/Fonts/Supplemental/Farah.ttc', name='Farah', style='normal', variant='normal', weight=400, stretch='normal', size='scalable')) = 10.05\n",
      "DEBUG:matplotlib.font_manager:findfont: score(FontEntry(fname='/System/Library/Fonts/Supplemental/Chalkboard.ttc', name='Chalkboard', style='normal', variant='normal', weight=400, stretch='normal', size='scalable')) = 10.05\n",
      "DEBUG:matplotlib.font_manager:findfont: score(FontEntry(fname='/System/Library/Fonts/PingFang.ttc', name='PingFang HK', style='normal', variant='normal', weight=400, stretch='normal', size='scalable')) = 10.05\n",
      "DEBUG:matplotlib.font_manager:findfont: score(FontEntry(fname='/System/Library/Fonts/SFNSRounded.ttf', name='.SF NS Rounded', style='normal', variant='normal', weight=400, stretch='normal', size='scalable')) = 10.05\n",
      "DEBUG:matplotlib.font_manager:findfont: score(FontEntry(fname='/System/Library/Fonts/ZapfDingbats.ttf', name='Zapf Dingbats', style='normal', variant='normal', weight=400, stretch='normal', size='scalable')) = 10.05\n",
      "DEBUG:matplotlib.font_manager:findfont: score(FontEntry(fname='/System/Library/Fonts/ヒラギノ角ゴシック W5.ttc', name='Hiragino Sans', style='normal', variant='normal', weight=500, stretch='normal', size='scalable')) = 10.145\n",
      "DEBUG:matplotlib.font_manager:findfont: score(FontEntry(fname='/System/Library/Fonts/Supplemental/STIXSizTwoSymReg.otf', name='STIXSizeTwoSym', style='normal', variant='normal', weight=400, stretch='normal', size='scalable')) = 10.05\n",
      "DEBUG:matplotlib.font_manager:findfont: score(FontEntry(fname='/System/Library/Fonts/Supplemental/STIXNonUniBolIta.otf', name='STIXNonUnicode', style='italic', variant='normal', weight=700, stretch='normal', size='scalable')) = 11.335\n",
      "DEBUG:matplotlib.font_manager:findfont: score(FontEntry(fname='/System/Library/Fonts/Supplemental/Baskerville.ttc', name='Baskerville', style='normal', variant='normal', weight=400, stretch='normal', size='scalable')) = 10.05\n",
      "DEBUG:matplotlib.font_manager:findfont: score(FontEntry(fname='/System/Library/Fonts/Supplemental/NotoSansChakma-Regular.ttf', name='Noto Sans Chakma', style='normal', variant='normal', weight=400, stretch='normal', size='scalable')) = 10.05\n",
      "DEBUG:matplotlib.font_manager:findfont: score(FontEntry(fname='/System/Library/Fonts/Supplemental/PTSans.ttc', name='PT Sans', style='normal', variant='normal', weight=400, stretch='normal', size='scalable')) = 10.05\n",
      "DEBUG:matplotlib.font_manager:findfont: score(FontEntry(fname='/System/Library/Fonts/Supplemental/NotoSansLepcha-Regular.ttf', name='Noto Sans Lepcha', style='normal', variant='normal', weight=400, stretch='normal', size='scalable')) = 10.05\n",
      "DEBUG:matplotlib.font_manager:findfont: score(FontEntry(fname='/System/Library/Fonts/Supplemental/KufiStandardGK.ttc', name='KufiStandardGK', style='normal', variant='normal', weight=400, stretch='normal', size='scalable')) = 10.05\n",
      "DEBUG:matplotlib.font_manager:findfont: score(FontEntry(fname='/System/Library/Fonts/Supplemental/NotoSansBrahmi-Regular.ttf', name='Noto Sans Brahmi', style='normal', variant='normal', weight=400, stretch='normal', size='scalable')) = 10.05\n",
      "DEBUG:matplotlib.font_manager:findfont: score(FontEntry(fname='/System/Library/Fonts/Supplemental/Verdana Bold Italic.ttf', name='Verdana', style='italic', variant='normal', weight=700, stretch='normal', size='scalable')) = 4.971363636363637\n",
      "DEBUG:matplotlib.font_manager:findfont: score(FontEntry(fname='/System/Library/Fonts/Supplemental/NotoSansHanunoo-Regular.ttf', name='Noto Sans Hanunoo', style='normal', variant='normal', weight=400, stretch='normal', size='scalable')) = 10.05\n",
      "DEBUG:matplotlib.font_manager:findfont: score(FontEntry(fname='/System/Library/Fonts/Supplemental/Diwan Kufi.ttc', name='Diwan Kufi', style='normal', variant='normal', weight=400, stretch='normal', size='scalable')) = 10.05\n",
      "DEBUG:matplotlib.font_manager:findfont: score(FontEntry(fname='/System/Library/Fonts/Supplemental/NotoSansAdlam-Regular.ttf', name='Noto Sans Adlam', style='normal', variant='normal', weight=400, stretch='normal', size='scalable')) = 10.05\n",
      "DEBUG:matplotlib.font_manager:findfont: score(FontEntry(fname='/System/Library/Fonts/Supplemental/NotoSansEgyptianHieroglyphs-Regular.ttf', name='Noto Sans Egyptian Hieroglyphs', style='normal', variant='normal', weight=400, stretch='normal', size='scalable')) = 10.05\n",
      "DEBUG:matplotlib.font_manager:findfont: score(FontEntry(fname='/System/Library/Fonts/Supplemental/GujaratiMT.ttc', name='Gujarati MT', style='normal', variant='normal', weight=400, stretch='normal', size='scalable')) = 10.05\n",
      "DEBUG:matplotlib.font_manager:findfont: score(FontEntry(fname='/System/Library/Fonts/Supplemental/STIXSizThreeSymReg.otf', name='STIXSizeThreeSym', style='normal', variant='normal', weight=400, stretch='normal', size='scalable')) = 10.05\n",
      "DEBUG:matplotlib.font_manager:findfont: score(FontEntry(fname='/System/Library/Fonts/Supplemental/Microsoft Sans Serif.ttf', name='Microsoft Sans Serif', style='normal', variant='normal', weight=400, stretch='normal', size='scalable')) = 10.05\n",
      "DEBUG:matplotlib.font_manager:findfont: score(FontEntry(fname='/System/Library/Fonts/Supplemental/STIXIntUpDBol.otf', name='STIXIntegralsUpD', style='normal', variant='normal', weight=700, stretch='normal', size='scalable')) = 10.335\n",
      "DEBUG:matplotlib.font_manager:findfont: score(FontEntry(fname='/System/Library/Fonts/Supplemental/Sinhala Sangam MN.ttc', name='Sinhala Sangam MN', style='normal', variant='normal', weight=400, stretch='normal', size='scalable')) = 10.05\n",
      "DEBUG:matplotlib.font_manager:findfont: score(FontEntry(fname='/System/Library/Fonts/Supplemental/Ayuthaya.ttf', name='Ayuthaya', style='normal', variant='normal', weight=400, stretch='normal', size='scalable')) = 10.05\n",
      "DEBUG:matplotlib.font_manager:findfont: score(FontEntry(fname='/System/Library/Fonts/Supplemental/NotoSansOsage-Regular.ttf', name='Noto Sans Osage', style='normal', variant='normal', weight=400, stretch='normal', size='scalable')) = 10.05\n",
      "DEBUG:matplotlib.font_manager:findfont: score(FontEntry(fname='/System/Library/Fonts/Supplemental/NotoSansTagalog-Regular.ttf', name='Noto Sans Tagalog', style='normal', variant='normal', weight=400, stretch='normal', size='scalable')) = 10.05\n",
      "DEBUG:matplotlib.font_manager:findfont: score(FontEntry(fname='/System/Library/Fonts/Supplemental/NotoSansMongolian-Regular.ttf', name='Noto Sans Mongolian', style='normal', variant='normal', weight=400, stretch='normal', size='scalable')) = 10.05\n",
      "DEBUG:matplotlib.font_manager:findfont: score(FontEntry(fname='/System/Library/Fonts/Apple Symbols.ttf', name='Apple Symbols', style='normal', variant='normal', weight=400, stretch='normal', size='scalable')) = 10.05\n",
      "DEBUG:matplotlib.font_manager:findfont: score(FontEntry(fname='/System/Library/Fonts/Supplemental/NotoSansOldPersian-Regular.ttf', name='Noto Sans Old Persian', style='normal', variant='normal', weight=400, stretch='normal', size='scalable')) = 10.05\n",
      "DEBUG:matplotlib.font_manager:findfont: score(FontEntry(fname='/System/Library/Fonts/Avenir Next.ttc', name='Avenir Next', style='normal', variant='normal', weight=700, stretch='normal', size='scalable')) = 10.335\n",
      "DEBUG:matplotlib.font_manager:findfont: score(FontEntry(fname='/System/Library/Fonts/Supplemental/STIXNonUniIta.otf', name='STIXNonUnicode', style='italic', variant='normal', weight=400, stretch='normal', size='scalable')) = 11.05\n",
      "DEBUG:matplotlib.font_manager:findfont: score(FontEntry(fname='/System/Library/Fonts/Supplemental/Courier New Bold Italic.ttf', name='Courier New', style='italic', variant='normal', weight=700, stretch='normal', size='scalable')) = 11.335\n",
      "DEBUG:matplotlib.font_manager:findfont: score(FontEntry(fname='/System/Library/Fonts/Supplemental/Athelas.ttc', name='Athelas', style='normal', variant='normal', weight=400, stretch='normal', size='scalable')) = 10.05\n",
      "DEBUG:matplotlib.font_manager:findfont: score(FontEntry(fname='/System/Library/Fonts/Supplemental/NotoSansHanifiRohingya-Regular.ttf', name='Noto Sans Hanifi Rohingya', style='normal', variant='normal', weight=400, stretch='normal', size='scalable')) = 10.05\n",
      "DEBUG:matplotlib.font_manager:findfont: score(FontEntry(fname='/System/Library/Fonts/Supplemental/Luminari.ttf', name='Luminari', style='normal', variant='normal', weight=400, stretch='normal', size='scalable')) = 10.05\n",
      "DEBUG:matplotlib.font_manager:findfont: score(FontEntry(fname='/System/Library/Fonts/Supplemental/Lao MN.ttc', name='Lao MN', style='normal', variant='normal', weight=400, stretch='normal', size='scalable')) = 10.05\n",
      "DEBUG:matplotlib.font_manager:findfont: score(FontEntry(fname='/System/Library/Fonts/Supplemental/NotoSansSoraSompeng-Regular.ttf', name='Noto Sans Sora Sompeng', style='normal', variant='normal', weight=400, stretch='normal', size='scalable')) = 10.05\n",
      "DEBUG:matplotlib.font_manager:findfont: score(FontEntry(fname='/System/Library/Fonts/STHeiti Medium.ttc', name='Heiti TC', style='normal', variant='normal', weight=400, stretch='normal', size='scalable')) = 10.05\n",
      "DEBUG:matplotlib.font_manager:findfont: score(FontEntry(fname='/System/Library/Fonts/Supplemental/Georgia.ttf', name='Georgia', style='normal', variant='normal', weight=400, stretch='normal', size='scalable')) = 10.05\n",
      "DEBUG:matplotlib.font_manager:findfont: score(FontEntry(fname='/System/Library/Fonts/Supplemental/STIXIntSmBol.otf', name='STIXIntegralsSm', style='normal', variant='normal', weight=700, stretch='normal', size='scalable')) = 10.335\n",
      "DEBUG:matplotlib.font_manager:findfont: score(FontEntry(fname='/System/Library/Fonts/Optima.ttc', name='Optima', style='normal', variant='normal', weight=400, stretch='normal', size='scalable')) = 10.05\n",
      "DEBUG:matplotlib.font_manager:findfont: score(FontEntry(fname='/System/Library/Fonts/Supplemental/STIXIntSmReg.otf', name='STIXIntegralsSm', style='normal', variant='normal', weight=400, stretch='normal', size='scalable')) = 10.05\n",
      "DEBUG:matplotlib.font_manager:findfont: score(FontEntry(fname='/System/Library/Fonts/Supplemental/Courier New.ttf', name='Courier New', style='normal', variant='normal', weight=400, stretch='normal', size='scalable')) = 10.05\n",
      "DEBUG:matplotlib.font_manager:findfont: score(FontEntry(fname='/System/Library/Fonts/Noteworthy.ttc', name='Noteworthy', style='normal', variant='normal', weight=300, stretch='normal', size='scalable')) = 10.145\n",
      "DEBUG:matplotlib.font_manager:findfont: score(FontEntry(fname='/System/Library/Fonts/Supplemental/Comic Sans MS.ttf', name='Comic Sans MS', style='normal', variant='normal', weight=400, stretch='normal', size='scalable')) = 10.05\n",
      "DEBUG:matplotlib.font_manager:findfont: score(FontEntry(fname='/System/Library/Fonts/Supplemental/EuphemiaCAS.ttc', name='Euphemia UCAS', style='normal', variant='normal', weight=400, stretch='normal', size='scalable')) = 10.05\n",
      "DEBUG:matplotlib.font_manager:findfont: score(FontEntry(fname='/System/Library/Fonts/Supplemental/Impact.ttf', name='Impact', style='normal', variant='normal', weight=400, stretch='normal', size='scalable')) = 10.05\n",
      "DEBUG:matplotlib.font_manager:findfont: score(FontEntry(fname='/System/Library/Fonts/Supplemental/Times New Roman Bold.ttf', name='Times New Roman', style='normal', variant='normal', weight=700, stretch='normal', size='scalable')) = 10.335\n",
      "DEBUG:matplotlib.font_manager:findfont: score(FontEntry(fname='/System/Library/Fonts/Supplemental/Academy Engraved LET Fonts.ttf', name='Academy Engraved LET', style='normal', variant='normal', weight=400, stretch='normal', size='scalable')) = 10.05\n",
      "DEBUG:matplotlib.font_manager:findfont: score(FontEntry(fname='/System/Library/Fonts/Supplemental/Mishafi Gold.ttf', name='Mishafi Gold', style='normal', variant='normal', weight=400, stretch='normal', size='scalable')) = 10.05\n",
      "DEBUG:matplotlib.font_manager:findfont: score(FontEntry(fname='/System/Library/Fonts/Courier.ttc', name='Courier', style='normal', variant='normal', weight=400, stretch='normal', size='scalable')) = 10.05\n",
      "DEBUG:matplotlib.font_manager:findfont: score(FontEntry(fname='/System/Library/Fonts/SFNSItalic.ttf', name='System Font', style='italic', variant='normal', weight=400, stretch='normal', size='scalable')) = 11.05\n",
      "DEBUG:matplotlib.font_manager:findfont: score(FontEntry(fname='/System/Library/Fonts/Supplemental/NotoSansMultani-Regular.ttf', name='Noto Sans Multani', style='normal', variant='normal', weight=400, stretch='normal', size='scalable')) = 10.05\n",
      "DEBUG:matplotlib.font_manager:findfont: score(FontEntry(fname='/System/Library/Fonts/Supplemental/Tahoma Bold.ttf', name='Tahoma', style='normal', variant='normal', weight=700, stretch='normal', size='scalable')) = 10.335\n",
      "DEBUG:matplotlib.font_manager:findfont: score(FontEntry(fname='/System/Library/Fonts/Supplemental/NotoSansAvestan-Regular.ttf', name='Noto Sans Avestan', style='normal', variant='normal', weight=400, stretch='normal', size='scalable')) = 10.05\n",
      "DEBUG:matplotlib.font_manager:findfont: score(FontEntry(fname='/System/Library/Fonts/Supplemental/NotoSansOldNorthArabian-Regular.ttf', name='Noto Sans Old North Arabian', style='normal', variant='normal', weight=400, stretch='normal', size='scalable')) = 10.05\n",
      "DEBUG:matplotlib.font_manager:findfont: score(FontEntry(fname='/System/Library/Fonts/Supplemental/ChalkboardSE.ttc', name='Chalkboard SE', style='normal', variant='normal', weight=400, stretch='normal', size='scalable')) = 10.05\n",
      "DEBUG:matplotlib.font_manager:findfont: score(FontEntry(fname='/System/Library/Fonts/Supplemental/NotoSansBhaiksuki-Regular.ttf', name='Noto Sans Bhaiksuki', style='normal', variant='normal', weight=400, stretch='normal', size='scalable')) = 10.05\n",
      "DEBUG:matplotlib.font_manager:findfont: score(FontEntry(fname='/System/Library/Fonts/MarkerFelt.ttc', name='Marker Felt', style='normal', variant='normal', weight=400, stretch='normal', size='scalable')) = 10.05\n",
      "DEBUG:matplotlib.font_manager:findfont: score(FontEntry(fname='/System/Library/Fonts/Supplemental/SukhumvitSet.ttc', name='Sukhumvit Set', style='normal', variant='normal', weight=250, stretch='normal', size='scalable')) = 10.1925\n",
      "DEBUG:matplotlib.font_manager:findfont: score(FontEntry(fname='/System/Library/Fonts/Supplemental/Gurmukhi MN.ttc', name='Gurmukhi MN', style='normal', variant='normal', weight=400, stretch='normal', size='scalable')) = 10.05\n",
      "DEBUG:matplotlib.font_manager:findfont: score(FontEntry(fname='/System/Library/Fonts/Supplemental/NotoSerifBalinese-Regular.ttf', name='Noto Serif Balinese', style='normal', variant='normal', weight=400, stretch='normal', size='scalable')) = 10.05\n",
      "DEBUG:matplotlib.font_manager:findfont: score(FontEntry(fname='/System/Library/Fonts/Supplemental/Brush Script.ttf', name='Brush Script MT', style='italic', variant='normal', weight=400, stretch='normal', size='scalable')) = 11.05\n",
      "DEBUG:matplotlib.font_manager:findfont: score(FontEntry(fname='/System/Library/Fonts/Supplemental/NotoSansPahawhHmong-Regular.ttf', name='Noto Sans Pahawh Hmong', style='normal', variant='normal', weight=400, stretch='normal', size='scalable')) = 10.05\n",
      "DEBUG:matplotlib.font_manager:findfont: score(FontEntry(fname='/System/Library/Fonts/Supplemental/Kefa.ttc', name='Kefa', style='normal', variant='normal', weight=400, stretch='normal', size='scalable')) = 10.05\n",
      "DEBUG:matplotlib.font_manager:findfont: score(FontEntry(fname='/System/Library/Fonts/Supplemental/Tamil Sangam MN.ttc', name='Tamil Sangam MN', style='normal', variant='normal', weight=400, stretch='normal', size='scalable')) = 10.05\n",
      "DEBUG:matplotlib.font_manager:findfont: score(FontEntry(fname='/System/Library/Fonts/Menlo.ttc', name='Menlo', style='normal', variant='normal', weight=400, stretch='normal', size='scalable')) = 10.05\n",
      "DEBUG:matplotlib.font_manager:findfont: score(FontEntry(fname='/System/Library/Fonts/Supplemental/NotoSansRejang-Regular.ttf', name='Noto Sans Rejang', style='normal', variant='normal', weight=400, stretch='normal', size='scalable')) = 10.05\n",
      "DEBUG:matplotlib.font_manager:findfont: score(FontEntry(fname='/System/Library/Fonts/Supplemental/NotoSansMro-Regular.ttf', name='Noto Sans Mro', style='normal', variant='normal', weight=400, stretch='normal', size='scalable')) = 10.05\n",
      "DEBUG:matplotlib.font_manager:findfont: score(FontEntry(fname='/System/Library/Fonts/Supplemental/STIXSizFourSymBol.otf', name='STIXSizeFourSym', style='normal', variant='normal', weight=700, stretch='normal', size='scalable')) = 10.335\n",
      "DEBUG:matplotlib.font_manager:findfont: score(FontEntry(fname='/System/Library/Fonts/Supplemental/Gurmukhi Sangam MN.ttc', name='Gurmukhi Sangam MN', style='normal', variant='normal', weight=400, stretch='normal', size='scalable')) = 10.05\n",
      "DEBUG:matplotlib.font_manager:findfont: score(FontEntry(fname='/System/Library/Fonts/Supplemental/Bodoni Ornaments.ttf', name='Bodoni Ornaments', style='normal', variant='normal', weight=400, stretch='normal', size='scalable')) = 10.05\n",
      "DEBUG:matplotlib.font_manager:findfont: score(FontEntry(fname='/System/Library/Fonts/ArialHB.ttc', name='Arial Hebrew', style='normal', variant='normal', weight=400, stretch='normal', size='scalable')) = 10.05\n",
      "DEBUG:matplotlib.font_manager:findfont: score(FontEntry(fname='/System/Library/Fonts/Supplemental/PartyLET-plain.ttf', name='Party LET', style='normal', variant='normal', weight=400, stretch='normal', size='scalable')) = 10.05\n",
      "DEBUG:matplotlib.font_manager:findfont: score(FontEntry(fname='/System/Library/Fonts/Supplemental/NotoSansOldHungarian-Regular.ttf', name='Noto Sans Old Hungarian', style='normal', variant='normal', weight=400, stretch='normal', size='scalable')) = 10.05\n",
      "DEBUG:matplotlib.font_manager:findfont: score(FontEntry(fname='/System/Library/Fonts/Supplemental/Kailasa.ttc', name='Kailasa', style='normal', variant='normal', weight=400, stretch='normal', size='scalable')) = 10.05\n",
      "DEBUG:matplotlib.font_manager:findfont: score(FontEntry(fname='/System/Library/Fonts/Symbol.ttf', name='Symbol', style='normal', variant='normal', weight=400, stretch='normal', size='scalable')) = 10.05\n",
      "DEBUG:matplotlib.font_manager:findfont: score(FontEntry(fname='/System/Library/Fonts/Supplemental/NotoSansDuployan-Regular.ttf', name='Noto Sans Duployan', style='normal', variant='normal', weight=400, stretch='normal', size='scalable')) = 10.05\n",
      "DEBUG:matplotlib.font_manager:findfont: score(FontEntry(fname='/System/Library/Fonts/LucidaGrande.ttc', name='Lucida Grande', style='normal', variant='normal', weight=500, stretch='normal', size='scalable')) = 2.872272727272727\n",
      "DEBUG:matplotlib.font_manager:findfont: score(FontEntry(fname='/System/Library/Fonts/Supplemental/Bodoni 72 OS.ttc', name='Bodoni 72 Oldstyle', style='normal', variant='normal', weight=400, stretch='normal', size='scalable')) = 10.05\n",
      "DEBUG:matplotlib.font_manager:findfont: score(FontEntry(fname='/System/Library/Fonts/ヒラギノ明朝 ProN.ttc', name='Hiragino Mincho ProN', style='normal', variant='normal', weight=300, stretch='normal', size='scalable')) = 10.145\n",
      "DEBUG:matplotlib.font_manager:findfont: score(FontEntry(fname='/System/Library/Fonts/NotoSansArmenian.ttc', name='Noto Sans Armenian', style='normal', variant='normal', weight=900, stretch='normal', size='scalable')) = 10.525\n",
      "DEBUG:matplotlib.font_manager:findfont: score(FontEntry(fname='/System/Library/Fonts/Supplemental/Krungthep.ttf', name='Krungthep', style='normal', variant='normal', weight=400, stretch='normal', size='scalable')) = 10.05\n",
      "DEBUG:matplotlib.font_manager:findfont: score(FontEntry(fname='/System/Library/Fonts/Supplemental/NotoSansSharada-Regular.ttf', name='Noto Sans Sharada', style='normal', variant='normal', weight=400, stretch='normal', size='scalable')) = 10.05\n",
      "DEBUG:matplotlib.font_manager:findfont: score(FontEntry(fname='/System/Library/Fonts/Supplemental/PlantagenetCherokee.ttf', name='Plantagenet Cherokee', style='normal', variant='normal', weight=400, stretch='normal', size='scalable')) = 10.05\n",
      "DEBUG:matplotlib.font_manager:findfont: score(FontEntry(fname='/System/Library/Fonts/Supplemental/STIXIntUpSmBol.otf', name='STIXIntegralsUpSm', style='normal', variant='normal', weight=700, stretch='normal', size='scalable')) = 10.335\n",
      "DEBUG:matplotlib.font_manager:findfont: score(FontEntry(fname='/System/Library/Fonts/Supplemental/STIXVar.otf', name='STIXVariants', style='normal', variant='normal', weight=400, stretch='normal', size='scalable')) = 10.05\n",
      "DEBUG:matplotlib.font_manager:findfont: score(FontEntry(fname='/System/Library/Fonts/Supplemental/Georgia Italic.ttf', name='Georgia', style='italic', variant='normal', weight=400, stretch='normal', size='scalable')) = 11.05\n",
      "DEBUG:matplotlib.font_manager:findfont: score(FontEntry(fname='/System/Library/Fonts/Supplemental/Damascus.ttc', name='Damascus', style='normal', variant='normal', weight=400, stretch='normal', size='scalable')) = 10.05\n",
      "DEBUG:matplotlib.font_manager:findfont: score(FontEntry(fname='/System/Library/Fonts/Supplemental/NotoSansTagbanwa-Regular.ttf', name='Noto Sans Tagbanwa', style='normal', variant='normal', weight=400, stretch='normal', size='scalable')) = 10.05\n",
      "DEBUG:matplotlib.font_manager:findfont: score(FontEntry(fname='/System/Library/Fonts/Supplemental/NotoSansMendeKikakui-Regular.ttf', name='Noto Sans Mende Kikakui', style='normal', variant='normal', weight=400, stretch='normal', size='scalable')) = 10.05\n",
      "DEBUG:matplotlib.font_manager:findfont: score(FontEntry(fname='/System/Library/Fonts/Supplemental/NotoSansTakri-Regular.ttf', name='Noto Sans Takri', style='normal', variant='normal', weight=400, stretch='normal', size='scalable')) = 10.05\n",
      "DEBUG:matplotlib.font_manager:findfont: score(FontEntry(fname='/System/Library/Fonts/Supplemental/NotoSansGunjalaGondi-Regular.otf', name='Noto Sans Gunjala Gondi', style='normal', variant='normal', weight=400, stretch='normal', size='scalable')) = 10.05\n",
      "DEBUG:matplotlib.font_manager:findfont: score(FontEntry(fname='/System/Library/Fonts/Supplemental/DIN Condensed Bold.ttf', name='DIN Condensed', style='normal', variant='normal', weight=700, stretch='condensed', size='scalable')) = 10.535\n",
      "DEBUG:matplotlib.font_manager:findfont: score(FontEntry(fname='/System/Library/Fonts/Supplemental/NotoSansTifinagh-Regular.ttf', name='Noto Sans Tifinagh', style='normal', variant='normal', weight=400, stretch='normal', size='scalable')) = 10.05\n",
      "DEBUG:matplotlib.font_manager:findfont: score(FontEntry(fname='/System/Library/Fonts/ヒラギノ角ゴシック W6.ttc', name='Hiragino Sans', style='normal', variant='normal', weight=600, stretch='normal', size='scalable')) = 10.24\n",
      "DEBUG:matplotlib.font_manager:findfont: score(FontEntry(fname='/System/Library/Fonts/Supplemental/STIXGeneralItalic.otf', name='STIXGeneral', style='italic', variant='normal', weight=400, stretch='normal', size='scalable')) = 11.05\n",
      "DEBUG:matplotlib.font_manager:findfont: score(FontEntry(fname='/System/Library/Fonts/Supplemental/Khmer Sangam MN.ttf', name='Khmer Sangam MN', style='normal', variant='normal', weight=400, stretch='normal', size='scalable')) = 10.05\n",
      "DEBUG:matplotlib.font_manager:findfont: score(FontEntry(fname='/System/Library/Fonts/Supplemental/Sinhala MN.ttc', name='Sinhala MN', style='normal', variant='normal', weight=400, stretch='normal', size='scalable')) = 10.05\n",
      "DEBUG:matplotlib.font_manager:findfont: score(FontEntry(fname='/System/Library/Fonts/SFCompact.ttf', name='.SF Compact', style='normal', variant='normal', weight=1000, stretch='normal', size='scalable')) = 10.62\n",
      "DEBUG:matplotlib.font_manager:findfont: score(FontEntry(fname='/System/Library/Fonts/Supplemental/NotoSansSamaritan-Regular.ttf', name='Noto Sans Samaritan', style='normal', variant='normal', weight=400, stretch='normal', size='scalable')) = 10.05\n",
      "DEBUG:matplotlib.font_manager:findfont: score(FontEntry(fname='/System/Library/Fonts/Supplemental/NotoSansNewTaiLue-Regular.ttf', name='Noto Sans New Tai Lue', style='normal', variant='normal', weight=400, stretch='normal', size='scalable')) = 10.05\n",
      "DEBUG:matplotlib.font_manager:findfont: score(FontEntry(fname='/System/Library/Fonts/Supplemental/Al Tarikh.ttc', name='Al Tarikh', style='normal', variant='normal', weight=400, stretch='normal', size='scalable')) = 10.05\n",
      "DEBUG:matplotlib.font_manager:findfont: score(FontEntry(fname='/System/Library/Fonts/Supplemental/Khmer MN.ttc', name='Khmer MN', style='normal', variant='normal', weight=400, stretch='normal', size='scalable')) = 10.05\n",
      "DEBUG:matplotlib.font_manager:findfont: score(FontEntry(fname='/System/Library/Fonts/SFCompactItalic.ttf', name='.SF Compact', style='italic', variant='normal', weight=1000, stretch='normal', size='scalable')) = 11.62\n",
      "DEBUG:matplotlib.font_manager:findfont: score(FontEntry(fname='/System/Library/Fonts/Supplemental/Verdana Italic.ttf', name='Verdana', style='italic', variant='normal', weight=400, stretch='normal', size='scalable')) = 4.6863636363636365\n",
      "DEBUG:matplotlib.font_manager:findfont: score(FontEntry(fname='/System/Library/Fonts/SFNS.ttf', name='System Font', style='normal', variant='normal', weight=400, stretch='normal', size='scalable')) = 10.05\n",
      "DEBUG:matplotlib.font_manager:findfont: score(FontEntry(fname='/System/Library/Fonts/Supplemental/NotoSansBatak-Regular.ttf', name='Noto Sans Batak', style='normal', variant='normal', weight=400, stretch='normal', size='scalable')) = 10.05\n",
      "DEBUG:matplotlib.font_manager:findfont: score(FontEntry(fname='/System/Library/Fonts/Supplemental/SignPainter.ttc', name='SignPainter', style='normal', variant='normal', weight=400, stretch='normal', size='scalable')) = 10.05\n",
      "DEBUG:matplotlib.font_manager:findfont: score(FontEntry(fname='/System/Library/Fonts/Supplemental/NotoSansTaiViet-Regular.ttf', name='Noto Sans Tai Viet', style='normal', variant='normal', weight=400, stretch='normal', size='scalable')) = 10.05\n",
      "DEBUG:matplotlib.font_manager:findfont: score(FontEntry(fname='/System/Library/Fonts/Supplemental/NotoSansLimbu-Regular.ttf', name='Noto Sans Limbu', style='normal', variant='normal', weight=400, stretch='normal', size='scalable')) = 10.05\n",
      "DEBUG:matplotlib.font_manager:findfont: score(FontEntry(fname='/System/Library/Fonts/Supplemental/Bangla Sangam MN.ttc', name='Bangla Sangam MN', style='normal', variant='normal', weight=400, stretch='normal', size='scalable')) = 10.05\n",
      "DEBUG:matplotlib.font_manager:findfont: score(FontEntry(fname='/System/Library/Fonts/Supplemental/NotoSansVai-Regular.ttf', name='Noto Sans Vai', style='normal', variant='normal', weight=400, stretch='normal', size='scalable')) = 10.05\n",
      "DEBUG:matplotlib.font_manager:findfont: score(FontEntry(fname='/System/Library/Fonts/Supplemental/NotoSansMeroitic-Regular.ttf', name='Noto Sans Meroitic', style='normal', variant='normal', weight=400, stretch='normal', size='scalable')) = 10.05\n",
      "DEBUG:matplotlib.font_manager:findfont: score(FontEntry(fname='/System/Library/Fonts/Supplemental/STIXIntUpBol.otf', name='STIXIntegralsUp', style='normal', variant='normal', weight=700, stretch='normal', size='scalable')) = 10.335\n",
      "DEBUG:matplotlib.font_manager:findfont: score(FontEntry(fname='/System/Library/Fonts/Supplemental/Telugu MN.ttc', name='Telugu MN', style='normal', variant='normal', weight=400, stretch='normal', size='scalable')) = 10.05\n",
      "DEBUG:matplotlib.font_manager:findfont: score(FontEntry(fname='/System/Library/Fonts/Supplemental/NotoSansImperialAramaic-Regular.ttf', name='Noto Sans Imperial Aramaic', style='normal', variant='normal', weight=400, stretch='normal', size='scalable')) = 10.05\n",
      "DEBUG:matplotlib.font_manager:findfont: score(FontEntry(fname='/System/Library/Fonts/Supplemental/NotoSansCham-Regular.ttf', name='Noto Sans Cham', style='normal', variant='normal', weight=400, stretch='normal', size='scalable')) = 10.05\n",
      "DEBUG:matplotlib.font_manager:findfont: score(FontEntry(fname='/System/Library/Fonts/Supplemental/Beirut.ttc', name='Beirut', style='normal', variant='normal', weight=700, stretch='normal', size='scalable')) = 10.335\n",
      "DEBUG:matplotlib.font_manager:findfont: score(FontEntry(fname='/System/Library/Fonts/Supplemental/Didot.ttc', name='Didot', style='normal', variant='normal', weight=400, stretch='normal', size='scalable')) = 10.05\n",
      "DEBUG:matplotlib.font_manager:findfont: score(FontEntry(fname='/System/Library/Fonts/Supplemental/Devanagari Sangam MN.ttc', name='Devanagari Sangam MN', style='normal', variant='normal', weight=400, stretch='normal', size='scalable')) = 10.05\n",
      "DEBUG:matplotlib.font_manager:findfont: score(FontEntry(fname='/System/Library/Fonts/Supplemental/NotoSansPauCinHau-Regular.ttf', name='Noto Sans Pau Cin Hau', style='normal', variant='normal', weight=400, stretch='normal', size='scalable')) = 10.05\n",
      "DEBUG:matplotlib.font_manager:findfont: score(FontEntry(fname='/System/Library/Fonts/Supplemental/NotoSansWancho-Regular.ttf', name='Noto Sans Wancho', style='normal', variant='normal', weight=400, stretch='normal', size='scalable')) = 10.05\n",
      "DEBUG:matplotlib.font_manager:findfont: score(FontEntry(fname='/System/Library/Fonts/Supplemental/Raanana.ttc', name='Raanana', style='normal', variant='normal', weight=400, stretch='normal', size='scalable')) = 10.05\n",
      "DEBUG:matplotlib.font_manager:findfont: score(FontEntry(fname='/System/Library/Fonts/Supplemental/Futura.ttc', name='Futura', style='normal', variant='normal', weight=500, stretch='normal', size='scalable')) = 10.145\n",
      "DEBUG:matplotlib.font_manager:findfont: score(FontEntry(fname='/System/Library/Fonts/Supplemental/STIXIntUpReg.otf', name='STIXIntegralsUp', style='normal', variant='normal', weight=400, stretch='normal', size='scalable')) = 10.05\n",
      "DEBUG:matplotlib.font_manager:findfont: score(FontEntry(fname='/System/Library/Fonts/Supplemental/Times New Roman Bold Italic.ttf', name='Times New Roman', style='italic', variant='normal', weight=700, stretch='normal', size='scalable')) = 11.335\n",
      "DEBUG:matplotlib.font_manager:findfont: score(FontEntry(fname='/System/Library/Fonts/Supplemental/Arial Bold.ttf', name='Arial', style='normal', variant='normal', weight=700, stretch='normal', size='scalable')) = 6.698636363636363\n",
      "DEBUG:matplotlib.font_manager:findfont: score(FontEntry(fname='/System/Library/Fonts/Supplemental/NotoSerifAhom-Regular.ttf', name='Noto Serif Ahom', style='normal', variant='normal', weight=400, stretch='normal', size='scalable')) = 10.05\n",
      "DEBUG:matplotlib.font_manager:findfont: Matching sans\\-serif:style=normal:variant=normal:weight=normal:stretch=normal:size=10.0 to DejaVu Sans ('/Users/cullenpaulisick/opt/anaconda3/envs/govini/lib/python3.8/site-packages/matplotlib/mpl-data/fonts/ttf/DejaVuSans.ttf') with score of 0.050000.\n"
     ]
    },
    {
     "data": {
      "image/png": "[encoded data removed]",
      "text/plain": [
       "<Figure size 640x480 with 1 Axes>"
      ]
     },
     "metadata": {},
     "output_type": "display_data"
    },
    {
     "data": {
      "image/png": "[encoded data removed]",
      "text/plain": [
       "<Figure size 640x480 with 1 Axes>"
      ]
     },
     "metadata": {},
     "output_type": "display_data"
    }
   ],
   "source": [
    "from kneed import KneeLocator\n",
    "from sklearn.datasets import make_blobs\n",
    "from sklearn.cluster import KMeans\n",
    "import matplotlib.pyplot as plt\n",
    "\n",
    "def centroid_analysis(\n",
    "    frame: pd.DataFrame,\n",
    "    index: str, \n",
    "    kmeans_parameters: Dict[str, Union[int, str]], \n",
    "    kmeans_iter: int, \n",
    "    visualize: bool=False\n",
    ") -> int:\n",
    "    \"\"\"Find optimal number of centroids through recommended evaluation metric\n",
    "\n",
    "    Function that find the optimal number of centroids in a dataset. Used to evaluate unlabeled datasets for \n",
    "    similarity metrics. \n",
    "\n",
    "    Args:   \n",
    "        frame (pd.DataFrame) : frame used to find centroids\n",
    "        index (str) : primary index of frame\n",
    "        kmeans_parameters (Dict[str, Union[int, str]]) : kmeans values used as parameters\n",
    "        kmeans_iter (int) : number of iterations to run on kmeans cluster\n",
    "        eval_method (int) : method of evaluation \n",
    "        visualize (bool) : visualization preference for elbow analysis\n",
    "    Returns: \n",
    "        n_centroids (int) : number of centroids that are considered optimal\n",
    "    \"\"\"\n",
    "\n",
    "    comp_num = frame[[col for col, datatype in frame.dtypes.to_dict().items() if (datatype != np.dtype('O'))or (col==index)]]\n",
    "    # check primary index for all unique values\n",
    "    if comp_num.index.value_counts().max()==1: \n",
    "        comp_dropna = comp_num.set_index(index).dropna()\n",
    "        col_map = comp_dropna.columns.to_numpy()\n",
    "        comp_vals = comp_dropna.values\n",
    "    # if non-unique primary index, consolidate based upon append-only insert on schema\n",
    "    else:\n",
    "        # get last index for each group\n",
    "        max_index_per_entity = comp_num.reset_index().groupby(index)['index'].max()\n",
    "        comp_dropna = comp_num.iloc[list(max_index_per_entity.values)].set_index(index).dropna()\n",
    "        col_map = comp_dropna.columns.to_numpy()\n",
    "        comp_vals = comp_dropna.values\n",
    "    # start inertia compilation\n",
    "    inertia_values = list()\n",
    "    for i in range(1,kmeans_iter):\n",
    "        km = KMeans(n_clusters=i, **kmeans_parameters)\n",
    "        # fit data to numpy data\n",
    "        km.fit(comp_vals)\n",
    "        inertia_values.append(km.inertia_)\n",
    "    if visualize:\n",
    "        plt.xticks(range(1, kmeans_iter))\n",
    "        plt.plot(range(1, kmeans_iter), inertia_values)\n",
    "        plt.xlabel(\"N-Centroid\")\n",
    "        plt.ylabel(\"SSE\")\n",
    "        plt.show()\n",
    "    # return elbow from method\n",
    "    knee = KneeLocator(\n",
    "        range(1, kmeans_iter), \n",
    "        inertia_values, \n",
    "        curve=\"convex\",\n",
    "        direction=\"decreasing\"\n",
    "    )\n",
    "    elbow = knee.elbow\n",
    "    return elbow, comp_vals, col_map\n",
    "\n",
    "a_elbow, a_comp_vals, a_col_map = centroid_analysis(\n",
    "    frame=a_comp, \n",
    "    index='vendor_id', \n",
    "    kmeans_parameters={\n",
    "        \"init\": \"random\",\n",
    "        \"n_init\": 10,\n",
    "        \"max_iter\": 500,\n",
    "        \"random_state\": 0,\n",
    "    }, \n",
    "    kmeans_iter=16, \n",
    "    visualize=True\n",
    ")\n",
    "b_elbow, b_comp_vals, b_col_map = centroid_analysis(\n",
    "    frame=b_comp, \n",
    "    index='b_entity_id', \n",
    "    kmeans_parameters={\n",
    "        \"init\": \"random\",\n",
    "        \"n_init\": 10,\n",
    "        \"max_iter\": 500,\n",
    "        \"random_state\": 0,\n",
    "    }, \n",
    "    kmeans_iter=16,\n",
    "    visualize=True\n",
    ")"
   ]
  },
  {
   "cell_type": "code",
   "execution_count": 4,
   "metadata": {},
   "outputs": [],
   "source": [
    "def get_balance_distribution(\n",
    "    features: np.array\n",
    ") -> List: \n",
    "    \"\"\"Get the balance distribution for each feature in numpy array\n",
    "    \n",
    "    Args:\n",
    "        features (np.array) : feature set\n",
    "    Returns: \n",
    "        balance_distributions (List) : list of balance distributions for each column in array\n",
    "    \"\"\"\n",
    "    balance_distributions = []\n",
    "    for i in range(features.shape[1]):\n",
    "        feature = features[:, i]\n",
    "        # get unique values for feature\n",
    "        unique, counts = np.unique(feature, return_counts=True)\n",
    "        # get count for each unique value in array\n",
    "        counts = np.asarray((unique, counts)).T[:, 1]\n",
    "        # get count distribution\n",
    "        count_distribution = counts/sum(counts)\n",
    "        balance_distributions.append(count_distribution)\n",
    "    return balance_distributions\n",
    "    "
   ]
  },
  {
   "cell_type": "code",
   "execution_count": 5,
   "metadata": {},
   "outputs": [],
   "source": [
    "a_bd = get_balance_distribution(a_comp_vals)\n",
    "b_bd = get_balance_distribution(b_comp_vals)"
   ]
  },
  {
   "cell_type": "code",
   "execution_count": 6,
   "metadata": {},
   "outputs": [],
   "source": [
    "from scipy.stats import ks_2samp\n",
    "\n",
    "d_stat = np.zeros(shape=(len(a_bd), len(b_bd)))\n",
    "for i, a_dist in enumerate(a_bd):\n",
    "    for j, b_dist in enumerate(b_bd):\n",
    "        d_stat[i][j] = ks_2samp(a_dist,b_dist).statistic"
   ]
  },
  {
   "cell_type": "code",
   "execution_count": 9,
   "metadata": {},
   "outputs": [
    {
     "data": {
      "application/vnd.plotly.v1+json": {
       "config": {
        "plotlyServerURL": "https://plot.ly"
       },
       "data": [
        {
         "coloraxis": "coloraxis",
         "hovertemplate": "x: %{x}<br>y: %{y}<br>color: %{z}<extra></extra>",
         "name": "0",
         "type": "heatmap",
         "x": [
          "primary_sic_code_b__company",
          "industry_code_b__company",
          "sector_code_b__company",
          "zip_postal_code_b__company",
          "year_founded_b__company",
          "nace_code_b__company",
          "address_id_b__address",
          "location_postal_code_b__address",
          "tele_country_b__address",
          "tele_area_b__address",
          "tele_b__address",
          "fax_country_b__address",
          "fax_area_b__address",
          "fax_b__address",
          "hq_b__address"
         ],
         "xaxis": "x",
         "y": [
          "geo_id",
          "zipcode_a__geo",
          "latitude_a__geo",
          "longitude_a__geo",
          "elevation_a__geo",
          "area_code_a__geo",
          "county_fips_a__geo",
          "state_fips_a__geo",
          "timezone_a__geo",
          "congress_district_a__geo",
          "congress_land_area_a__geo",
          "parent_vendor_id_a__company",
          "top_vendor_id_a__company",
          "cnt_children_a__company",
          "orgtype_id_a__company",
          "phone_a__company",
          "dunsnumber_a__company",
          "zipcode_a__company",
          "parentdunsnumber_a__company",
          "score_a__company",
          "cnt_opp_a__company",
          "bucket_id_a__company",
          "lvl_a__company"
         ],
         "yaxis": "y",
         "z": [
          [
           -0.8877005347593583,
           -0.5712060117302052,
           -0.9523809523809523,
           -0.9989103786434214,
           -0.5647058823529412,
           -0.7681159420289855,
           -1,
           -0.999206139190262,
           -0.6166666666666667,
           -0.8298555377207063,
           -1,
           -0.6229508196721312,
           -0.8242811501597445,
           -1,
           -1
          ],
          [
           -0.8877005347593583,
           -0.5712060117302052,
           -0.9523809523809523,
           -0.9989103786434214,
           -0.5647058823529412,
           -0.7681159420289855,
           -1,
           -0.999206139190262,
           -0.6166666666666667,
           -0.8298555377207063,
           -1,
           -0.6229508196721312,
           -0.8242811501597445,
           -1,
           -1
          ],
          [
           -0.8877005347593583,
           -0.5712060117302052,
           -0.9523809523809523,
           -0.9989103786434214,
           -0.5647058823529412,
           -0.7681159420289855,
           -1,
           -0.999206139190262,
           -0.6166666666666667,
           -0.8298555377207063,
           -1,
           -0.6229508196721312,
           -0.8242811501597445,
           -1,
           -1
          ],
          [
           -0.8877005347593583,
           -0.5712060117302052,
           -0.9523809523809523,
           -0.9989103786434214,
           -0.5647058823529412,
           -0.7681159420289855,
           -1,
           -0.999206139190262,
           -0.6166666666666667,
           -0.8298555377207063,
           -1,
           -0.6229508196721312,
           -0.8242811501597445,
           -1,
           -1
          ],
          [
           -0.8877005347593583,
           -0.38314075630252103,
           -0.84593837535014,
           -0.9989103786434214,
           -0.5647058823529412,
           -0.7681159420289855,
           -1,
           -0.999206139190262,
           -0.6166666666666667,
           -0.8298555377207063,
           -1,
           -0.6229508196721312,
           -0.8242811501597445,
           -1,
           -1
          ],
          [
           -0.8877005347593583,
           -0.34375,
           -0.7552380952380953,
           -0.9989103786434214,
           -0.5647058823529412,
           -0.7681159420289855,
           -1,
           -0.999206139190262,
           -0.6166666666666667,
           -0.8298555377207063,
           -1,
           -0.6229508196721312,
           -0.8242811501597445,
           -1,
           -1
          ],
          [
           -0.8877005347593583,
           -0.34375,
           -0.7047619047619048,
           -0.9989103786434214,
           -0.5647058823529412,
           -0.7681159420289855,
           -1,
           -0.999206139190262,
           -0.6166666666666667,
           -0.8298555377207063,
           -1,
           -0.6229508196721312,
           -0.8242811501597445,
           -1,
           -1
          ],
          [
           -0.8877005347593583,
           -0.5811820652173914,
           -0.5227743271221532,
           -0.9989103786434214,
           -0.60076726342711,
           -0.8019323671497585,
           -1,
           -0.999206139190262,
           -0.6797101449275362,
           -0.8520482936701793,
           -1,
           -0.6835352815395581,
           -0.8603278233087929,
           -1,
           -0.9782608695652174
          ],
          [
           -0.9879679144385026,
           -0.8203125,
           -0.6190476190476191,
           -1,
           -0.8117647058823529,
           -0.9589371980676329,
           -1,
           -1,
           -0.8166666666666667,
           -0.9871589085072231,
           -1,
           -0.819672131147541,
           -0.9888178913738019,
           -1,
           -0.5
          ],
          [
           -0.8877005347593583,
           -0.3876201923076923,
           -0.5091575091575091,
           -0.9989103786434214,
           -0.5647058823529412,
           -0.7681159420289855,
           -1,
           -0.999206139190262,
           -0.6166666666666667,
           -0.8298555377207063,
           -1,
           -0.6229508196721312,
           -0.8242811501597445,
           -1,
           -0.8974358974358975
          ],
          [
           -0.8877005347593583,
           -0.34375,
           -0.7976190476190477,
           -0.9989103786434214,
           -0.5647058823529412,
           -0.7681159420289855,
           -1,
           -0.999206139190262,
           -0.6166666666666667,
           -0.8298555377207063,
           -1,
           -0.6229508196721312,
           -0.8242811501597445,
           -1,
           -1
          ],
          [
           -0.8877005347593583,
           -0.6424758953168044,
           -0.9468713105076741,
           -0.9989103786434214,
           -0.5647058823529412,
           -0.7681159420289855,
           -1,
           -0.999206139190262,
           -0.6166666666666667,
           -0.8298555377207063,
           -1,
           -0.6229508196721312,
           -0.8242811501597445,
           -1,
           -1
          ],
          [
           -0.8877005347593583,
           -0.6449185552407932,
           -0.9438823688115473,
           -0.9989103786434214,
           -0.5647058823529412,
           -0.7681159420289855,
           -1,
           -0.999206139190262,
           -0.6166666666666667,
           -0.8298555377207063,
           -1,
           -0.6229508196721312,
           -0.8242811501597445,
           -1,
           -1
          ],
          [
           -0.8877005347593583,
           -0.34375,
           -0.7047619047619048,
           -0.9989103786434214,
           -0.5647058823529412,
           -0.7681159420289855,
           -1,
           -0.999206139190262,
           -0.6166666666666667,
           -0.8298555377207063,
           -1,
           -0.6229508196721312,
           -0.8242811501597445,
           -1,
           -0.8
          ],
          [
           -1,
           -1,
           -1,
           -1,
           -1,
           -1,
           -1,
           -1,
           -1,
           -1,
           -1,
           -1,
           -1,
           -1,
           -1
          ],
          [
           -0.8877005347593583,
           -0.6480756130790191,
           -0.9523809523809523,
           -0.9989103786434214,
           -0.5647058823529412,
           -0.7681159420289855,
           -1,
           -0.999206139190262,
           -0.6166666666666667,
           -0.8298555377207063,
           -1,
           -0.6229508196721312,
           -0.8242811501597445,
           -1,
           -1
          ],
          [
           -0.8877005347593583,
           -0.65625,
           -0.9523809523809523,
           -0.9989103786434214,
           -0.5647058823529412,
           -0.7681159420289855,
           -1,
           -0.999206139190262,
           -0.6166666666666667,
           -0.8298555377207063,
           -1,
           -0.6229508196721312,
           -0.8242811501597445,
           -1,
           -1
          ],
          [
           -0.8877005347593583,
           -0.5712060117302052,
           -0.9523809523809523,
           -0.9989103786434214,
           -0.5647058823529412,
           -0.7681159420289855,
           -1,
           -0.999206139190262,
           -0.6166666666666667,
           -0.8298555377207063,
           -1,
           -0.6229508196721312,
           -0.8242811501597445,
           -1,
           -1
          ],
          [
           -0.8877005347593583,
           -0.6478230337078652,
           -0.9495719636169074,
           -0.9989103786434214,
           -0.5647058823529412,
           -0.7681159420289855,
           -1,
           -0.999206139190262,
           -0.6166666666666667,
           -0.8298555377207063,
           -1,
           -0.6229508196721312,
           -0.8242811501597445,
           -1,
           -1
          ],
          [
           -0.8877005347593583,
           -0.6599702380952381,
           -0.5238095238095238,
           -0.9989103786434214,
           -0.6028011204481792,
           -0.7936507936507936,
           -1,
           -0.999206139190262,
           -0.6714285714285714,
           -0.8437667201712146,
           -1,
           -0.6752537080405933,
           -0.8520462498098281,
           -1,
           -0.9761904761904762
          ],
          [
           -1,
           -1,
           -1,
           -1,
           -1,
           -1,
           -1,
           -1,
           -1,
           -1,
           -1,
           -1,
           -1,
           -1,
           -1
          ],
          [
           -0.8877005347593583,
           -0.4567307692307692,
           -0.7619047619047619,
           -0.9989103786434214,
           -0.5647058823529412,
           -0.7831196581196581,
           -1,
           -0.999206139190262,
           -0.6608974358974359,
           -0.8332355846400791,
           -1,
           -0.6647225725094578,
           -0.8415151142786925,
           -1,
           -1
          ],
          [
           -0.9906417112299465,
           -0.8984375,
           -0.38095238095238093,
           -1,
           -0.8294117647058824,
           -0.9806763285024155,
           -1,
           -1,
           -0.8333333333333334,
           -0.9903691813804173,
           -1,
           -0.8360655737704918,
           -0.9904153354632588,
           -1,
           -0.6666666666666666
          ]
         ]
        }
       ],
       "layout": {
        "coloraxis": {
         "colorscale": [
          [
           0,
           "#0d0887"
          ],
          [
           0.1111111111111111,
           "#46039f"
          ],
          [
           0.2222222222222222,
           "#7201a8"
          ],
          [
           0.3333333333333333,
           "#9c179e"
          ],
          [
           0.4444444444444444,
           "#bd3786"
          ],
          [
           0.5555555555555556,
           "#d8576b"
          ],
          [
           0.6666666666666666,
           "#ed7953"
          ],
          [
           0.7777777777777778,
           "#fb9f3a"
          ],
          [
           0.8888888888888888,
           "#fdca26"
          ],
          [
           1,
           "#f0f921"
          ]
         ]
        },
        "margin": {
         "t": 60
        },
        "template": {
         "data": {
          "bar": [
           {
            "error_x": {
             "color": "#2a3f5f"
            },
            "error_y": {
             "color": "#2a3f5f"
            },
            "marker": {
             "line": {
              "color": "#E5ECF6",
              "width": 0.5
             },
             "pattern": {
              "fillmode": "overlay",
              "size": 10,
              "solidity": 0.2
             }
            },
            "type": "bar"
           }
          ],
          "barpolar": [
           {
            "marker": {
             "line": {
              "color": "#E5ECF6",
              "width": 0.5
             },
             "pattern": {
              "fillmode": "overlay",
              "size": 10,
              "solidity": 0.2
             }
            },
            "type": "barpolar"
           }
          ],
          "carpet": [
           {
            "aaxis": {
             "endlinecolor": "#2a3f5f",
             "gridcolor": "white",
             "linecolor": "white",
             "minorgridcolor": "white",
             "startlinecolor": "#2a3f5f"
            },
            "baxis": {
             "endlinecolor": "#2a3f5f",
             "gridcolor": "white",
             "linecolor": "white",
             "minorgridcolor": "white",
             "startlinecolor": "#2a3f5f"
            },
            "type": "carpet"
           }
          ],
          "choropleth": [
           {
            "colorbar": {
             "outlinewidth": 0,
             "ticks": ""
            },
            "type": "choropleth"
           }
          ],
          "contour": [
           {
            "colorbar": {
             "outlinewidth": 0,
             "ticks": ""
            },
            "colorscale": [
             [
              0,
              "#0d0887"
             ],
             [
              0.1111111111111111,
              "#46039f"
             ],
             [
              0.2222222222222222,
              "#7201a8"
             ],
             [
              0.3333333333333333,
              "#9c179e"
             ],
             [
              0.4444444444444444,
              "#bd3786"
             ],
             [
              0.5555555555555556,
              "#d8576b"
             ],
             [
              0.6666666666666666,
              "#ed7953"
             ],
             [
              0.7777777777777778,
              "#fb9f3a"
             ],
             [
              0.8888888888888888,
              "#fdca26"
             ],
             [
              1,
              "#f0f921"
             ]
            ],
            "type": "contour"
           }
          ],
          "contourcarpet": [
           {
            "colorbar": {
             "outlinewidth": 0,
             "ticks": ""
            },
            "type": "contourcarpet"
           }
          ],
          "heatmap": [
           {
            "colorbar": {
             "outlinewidth": 0,
             "ticks": ""
            },
            "colorscale": [
             [
              0,
              "#0d0887"
             ],
             [
              0.1111111111111111,
              "#46039f"
             ],
             [
              0.2222222222222222,
              "#7201a8"
             ],
             [
              0.3333333333333333,
              "#9c179e"
             ],
             [
              0.4444444444444444,
              "#bd3786"
             ],
             [
              0.5555555555555556,
              "#d8576b"
             ],
             [
              0.6666666666666666,
              "#ed7953"
             ],
             [
              0.7777777777777778,
              "#fb9f3a"
             ],
             [
              0.8888888888888888,
              "#fdca26"
             ],
             [
              1,
              "#f0f921"
             ]
            ],
            "type": "heatmap"
           }
          ],
          "heatmapgl": [
           {
            "colorbar": {
             "outlinewidth": 0,
             "ticks": ""
            },
            "colorscale": [
             [
              0,
              "#0d0887"
             ],
             [
              0.1111111111111111,
              "#46039f"
             ],
             [
              0.2222222222222222,
              "#7201a8"
             ],
             [
              0.3333333333333333,
              "#9c179e"
             ],
             [
              0.4444444444444444,
              "#bd3786"
             ],
             [
              0.5555555555555556,
              "#d8576b"
             ],
             [
              0.6666666666666666,
              "#ed7953"
             ],
             [
              0.7777777777777778,
              "#fb9f3a"
             ],
             [
              0.8888888888888888,
              "#fdca26"
             ],
             [
              1,
              "#f0f921"
             ]
            ],
            "type": "heatmapgl"
           }
          ],
          "histogram": [
           {
            "marker": {
             "pattern": {
              "fillmode": "overlay",
              "size": 10,
              "solidity": 0.2
             }
            },
            "type": "histogram"
           }
          ],
          "histogram2d": [
           {
            "colorbar": {
             "outlinewidth": 0,
             "ticks": ""
            },
            "colorscale": [
             [
              0,
              "#0d0887"
             ],
             [
              0.1111111111111111,
              "#46039f"
             ],
             [
              0.2222222222222222,
              "#7201a8"
             ],
             [
              0.3333333333333333,
              "#9c179e"
             ],
             [
              0.4444444444444444,
              "#bd3786"
             ],
             [
              0.5555555555555556,
              "#d8576b"
             ],
             [
              0.6666666666666666,
              "#ed7953"
             ],
             [
              0.7777777777777778,
              "#fb9f3a"
             ],
             [
              0.8888888888888888,
              "#fdca26"
             ],
             [
              1,
              "#f0f921"
             ]
            ],
            "type": "histogram2d"
           }
          ],
          "histogram2dcontour": [
           {
            "colorbar": {
             "outlinewidth": 0,
             "ticks": ""
            },
            "colorscale": [
             [
              0,
              "#0d0887"
             ],
             [
              0.1111111111111111,
              "#46039f"
             ],
             [
              0.2222222222222222,
              "#7201a8"
             ],
             [
              0.3333333333333333,
              "#9c179e"
             ],
             [
              0.4444444444444444,
              "#bd3786"
             ],
             [
              0.5555555555555556,
              "#d8576b"
             ],
             [
              0.6666666666666666,
              "#ed7953"
             ],
             [
              0.7777777777777778,
              "#fb9f3a"
             ],
             [
              0.8888888888888888,
              "#fdca26"
             ],
             [
              1,
              "#f0f921"
             ]
            ],
            "type": "histogram2dcontour"
           }
          ],
          "mesh3d": [
           {
            "colorbar": {
             "outlinewidth": 0,
             "ticks": ""
            },
            "type": "mesh3d"
           }
          ],
          "parcoords": [
           {
            "line": {
             "colorbar": {
              "outlinewidth": 0,
              "ticks": ""
             }
            },
            "type": "parcoords"
           }
          ],
          "pie": [
           {
            "automargin": true,
            "type": "pie"
           }
          ],
          "scatter": [
           {
            "fillpattern": {
             "fillmode": "overlay",
             "size": 10,
             "solidity": 0.2
            },
            "type": "scatter"
           }
          ],
          "scatter3d": [
           {
            "line": {
             "colorbar": {
              "outlinewidth": 0,
              "ticks": ""
             }
            },
            "marker": {
             "colorbar": {
              "outlinewidth": 0,
              "ticks": ""
             }
            },
            "type": "scatter3d"
           }
          ],
          "scattercarpet": [
           {
            "marker": {
             "colorbar": {
              "outlinewidth": 0,
              "ticks": ""
             }
            },
            "type": "scattercarpet"
           }
          ],
          "scattergeo": [
           {
            "marker": {
             "colorbar": {
              "outlinewidth": 0,
              "ticks": ""
             }
            },
            "type": "scattergeo"
           }
          ],
          "scattergl": [
           {
            "marker": {
             "colorbar": {
              "outlinewidth": 0,
              "ticks": ""
             }
            },
            "type": "scattergl"
           }
          ],
          "scattermapbox": [
           {
            "marker": {
             "colorbar": {
              "outlinewidth": 0,
              "ticks": ""
             }
            },
            "type": "scattermapbox"
           }
          ],
          "scatterpolar": [
           {
            "marker": {
             "colorbar": {
              "outlinewidth": 0,
              "ticks": ""
             }
            },
            "type": "scatterpolar"
           }
          ],
          "scatterpolargl": [
           {
            "marker": {
             "colorbar": {
              "outlinewidth": 0,
              "ticks": ""
             }
            },
            "type": "scatterpolargl"
           }
          ],
          "scatterternary": [
           {
            "marker": {
             "colorbar": {
              "outlinewidth": 0,
              "ticks": ""
             }
            },
            "type": "scatterternary"
           }
          ],
          "surface": [
           {
            "colorbar": {
             "outlinewidth": 0,
             "ticks": ""
            },
            "colorscale": [
             [
              0,
              "#0d0887"
             ],
             [
              0.1111111111111111,
              "#46039f"
             ],
             [
              0.2222222222222222,
              "#7201a8"
             ],
             [
              0.3333333333333333,
              "#9c179e"
             ],
             [
              0.4444444444444444,
              "#bd3786"
             ],
             [
              0.5555555555555556,
              "#d8576b"
             ],
             [
              0.6666666666666666,
              "#ed7953"
             ],
             [
              0.7777777777777778,
              "#fb9f3a"
             ],
             [
              0.8888888888888888,
              "#fdca26"
             ],
             [
              1,
              "#f0f921"
             ]
            ],
            "type": "surface"
           }
          ],
          "table": [
           {
            "cells": {
             "fill": {
              "color": "#EBF0F8"
             },
             "line": {
              "color": "white"
             }
            },
            "header": {
             "fill": {
              "color": "#C8D4E3"
             },
             "line": {
              "color": "white"
             }
            },
            "type": "table"
           }
          ]
         },
         "layout": {
          "annotationdefaults": {
           "arrowcolor": "#2a3f5f",
           "arrowhead": 0,
           "arrowwidth": 1
          },
          "autotypenumbers": "strict",
          "coloraxis": {
           "colorbar": {
            "outlinewidth": 0,
            "ticks": ""
           }
          },
          "colorscale": {
           "diverging": [
            [
             0,
             "#8e0152"
            ],
            [
             0.1,
             "#c51b7d"
            ],
            [
             0.2,
             "#de77ae"
            ],
            [
             0.3,
             "#f1b6da"
            ],
            [
             0.4,
             "#fde0ef"
            ],
            [
             0.5,
             "#f7f7f7"
            ],
            [
             0.6,
             "#e6f5d0"
            ],
            [
             0.7,
             "#b8e186"
            ],
            [
             0.8,
             "#7fbc41"
            ],
            [
             0.9,
             "#4d9221"
            ],
            [
             1,
             "#276419"
            ]
           ],
           "sequential": [
            [
             0,
             "#0d0887"
            ],
            [
             0.1111111111111111,
             "#46039f"
            ],
            [
             0.2222222222222222,
             "#7201a8"
            ],
            [
             0.3333333333333333,
             "#9c179e"
            ],
            [
             0.4444444444444444,
             "#bd3786"
            ],
            [
             0.5555555555555556,
             "#d8576b"
            ],
            [
             0.6666666666666666,
             "#ed7953"
            ],
            [
             0.7777777777777778,
             "#fb9f3a"
            ],
            [
             0.8888888888888888,
             "#fdca26"
            ],
            [
             1,
             "#f0f921"
            ]
           ],
           "sequentialminus": [
            [
             0,
             "#0d0887"
            ],
            [
             0.1111111111111111,
             "#46039f"
            ],
            [
             0.2222222222222222,
             "#7201a8"
            ],
            [
             0.3333333333333333,
             "#9c179e"
            ],
            [
             0.4444444444444444,
             "#bd3786"
            ],
            [
             0.5555555555555556,
             "#d8576b"
            ],
            [
             0.6666666666666666,
             "#ed7953"
            ],
            [
             0.7777777777777778,
             "#fb9f3a"
            ],
            [
             0.8888888888888888,
             "#fdca26"
            ],
            [
             1,
             "#f0f921"
            ]
           ]
          },
          "colorway": [
           "#636efa",
           "#EF553B",
           "#00cc96",
           "#ab63fa",
           "#FFA15A",
           "#19d3f3",
           "#FF6692",
           "#B6E880",
           "#FF97FF",
           "#FECB52"
          ],
          "font": {
           "color": "#2a3f5f"
          },
          "geo": {
           "bgcolor": "white",
           "lakecolor": "white",
           "landcolor": "#E5ECF6",
           "showlakes": true,
           "showland": true,
           "subunitcolor": "white"
          },
          "hoverlabel": {
           "align": "left"
          },
          "hovermode": "closest",
          "mapbox": {
           "style": "light"
          },
          "paper_bgcolor": "white",
          "plot_bgcolor": "#E5ECF6",
          "polar": {
           "angularaxis": {
            "gridcolor": "white",
            "linecolor": "white",
            "ticks": ""
           },
           "bgcolor": "#E5ECF6",
           "radialaxis": {
            "gridcolor": "white",
            "linecolor": "white",
            "ticks": ""
           }
          },
          "scene": {
           "xaxis": {
            "backgroundcolor": "#E5ECF6",
            "gridcolor": "white",
            "gridwidth": 2,
            "linecolor": "white",
            "showbackground": true,
            "ticks": "",
            "zerolinecolor": "white"
           },
           "yaxis": {
            "backgroundcolor": "#E5ECF6",
            "gridcolor": "white",
            "gridwidth": 2,
            "linecolor": "white",
            "showbackground": true,
            "ticks": "",
            "zerolinecolor": "white"
           },
           "zaxis": {
            "backgroundcolor": "#E5ECF6",
            "gridcolor": "white",
            "gridwidth": 2,
            "linecolor": "white",
            "showbackground": true,
            "ticks": "",
            "zerolinecolor": "white"
           }
          },
          "shapedefaults": {
           "line": {
            "color": "#2a3f5f"
           }
          },
          "ternary": {
           "aaxis": {
            "gridcolor": "white",
            "linecolor": "white",
            "ticks": ""
           },
           "baxis": {
            "gridcolor": "white",
            "linecolor": "white",
            "ticks": ""
           },
           "bgcolor": "#E5ECF6",
           "caxis": {
            "gridcolor": "white",
            "linecolor": "white",
            "ticks": ""
           }
          },
          "title": {
           "x": 0.05
          },
          "xaxis": {
           "automargin": true,
           "gridcolor": "white",
           "linecolor": "white",
           "ticks": "",
           "title": {
            "standoff": 15
           },
           "zerolinecolor": "white",
           "zerolinewidth": 2
          },
          "yaxis": {
           "automargin": true,
           "gridcolor": "white",
           "linecolor": "white",
           "ticks": "",
           "title": {
            "standoff": 15
           },
           "zerolinecolor": "white",
           "zerolinewidth": 2
          }
         }
        },
        "xaxis": {
         "anchor": "y",
         "constrain": "domain",
         "domain": [
          0,
          1
         ],
         "scaleanchor": "y"
        },
        "yaxis": {
         "anchor": "x",
         "autorange": "reversed",
         "constrain": "domain",
         "domain": [
          0,
          1
         ]
        }
       }
      }
     },
     "metadata": {},
     "output_type": "display_data"
    }
   ],
   "source": [
    "import plotly.express as px\n",
    "\n",
    "stat_df = pd.DataFrame(data = -d_stat, index=a_col_map, columns=b_col_map)\n",
    "fig = px.imshow(stat_df)\n",
    "fig.show()"
   ]
  },
  {
   "cell_type": "code",
   "execution_count": 8,
   "metadata": {},
   "outputs": [
    {
     "data": {
      "text/plain": [
       "(23, 15)"
      ]
     },
     "execution_count": 8,
     "metadata": {},
     "output_type": "execute_result"
    }
   ],
   "source": [
    "stat_df.shape"
   ]
  },
  {
   "cell_type": "code",
   "execution_count": null,
   "metadata": {},
   "outputs": [],
   "source": []
  }
 ],
 "metadata": {
  "kernelspec": {
   "display_name": "Python 3.8.16 ('govini')",
   "language": "python",
   "name": "python3"
  },
  "language_info": {
   "codemirror_mode": {
    "name": "ipython",
    "version": 3
   },
   "file_extension": ".py",
   "mimetype": "text/x-python",
   "name": "python",
   "nbconvert_exporter": "python",
   "pygments_lexer": "ipython3",
   "version": "3.8.16"
  },
  "orig_nbformat": 4,
  "vscode": {
   "interpreter": {
    "hash": "7a700d818d873106691bc02df9e21480cbb93cfe612ce0959de7b716bc87aafb"
   }
  }
 },
 "nbformat": 4,
 "nbformat_minor": 2
}
